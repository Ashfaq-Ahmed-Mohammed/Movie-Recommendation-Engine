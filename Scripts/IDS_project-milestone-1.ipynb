{
 "cells": [
  {
   "cell_type": "code",
   "execution_count": 1,
   "id": "0ded2b06",
   "metadata": {
    "_cell_guid": "b1076dfc-b9ad-4769-8c92-a6c4dae69d19",
    "_uuid": "8f2839f25d086af736a60e9eeb907d3b93b6e0e5",
    "execution": {
     "iopub.execute_input": "2025-02-23T04:45:24.466377Z",
     "iopub.status.busy": "2025-02-23T04:45:24.465986Z",
     "iopub.status.idle": "2025-02-23T04:45:25.402601Z",
     "shell.execute_reply": "2025-02-23T04:45:25.401423Z"
    },
    "papermill": {
     "duration": 0.954727,
     "end_time": "2025-02-23T04:45:25.405138",
     "exception": false,
     "start_time": "2025-02-23T04:45:24.450411",
     "status": "completed"
    },
    "tags": []
   },
   "outputs": [
    {
     "name": "stdout",
     "output_type": "stream",
     "text": [
      "/kaggle/input/movies-on-netflix-prime-video-hulu-and-disney/MoviesOnStreamingPlatforms.csv\n",
      "/kaggle/input/top-1000-highest-grossing-movies-of-all-time/Top_1000_Highest_Grossing_Movies_Of_All_Time.csv\n",
      "/kaggle/input/the-movies-dataset/ratings.csv\n",
      "/kaggle/input/the-movies-dataset/links_small.csv\n",
      "/kaggle/input/the-movies-dataset/credits.csv\n",
      "/kaggle/input/the-movies-dataset/keywords.csv\n",
      "/kaggle/input/the-movies-dataset/movies_metadata.csv\n",
      "/kaggle/input/the-movies-dataset/ratings_small.csv\n",
      "/kaggle/input/the-movies-dataset/links.csv\n"
     ]
    }
   ],
   "source": [
    "# This Python 3 environment comes with many helpful analytics libraries installed\n",
    "# It is defined by the kaggle/python Docker image: https://github.com/kaggle/docker-python\n",
    "# For example, here's several helpful packages to load\n",
    "\n",
    "import numpy as np # linear algebra\n",
    "import pandas as pd # data processing, CSV file I/O (e.g. pd.read_csv)\n",
    "\n",
    "# Input data files are available in the read-only \"../input/\" directory\n",
    "# For example, running this (by clicking run or pressing Shift+Enter) will list all files under the input directory\n",
    "\n",
    "import os\n",
    "for dirname, _, filenames in os.walk('/kaggle/input'):\n",
    "    for filename in filenames:\n",
    "        print(os.path.join(dirname, filename))\n",
    "\n",
    "# You can write up to 20GB to the current directory (/kaggle/working/) that gets preserved as output when you create a version using \"Save & Run All\" \n",
    "# You can also write temporary files to /kaggle/temp/, but they won't be saved outside of the current session"
   ]
  },
  {
   "cell_type": "code",
   "execution_count": 2,
   "id": "1a8150db",
   "metadata": {
    "execution": {
     "iopub.execute_input": "2025-02-23T04:45:25.434434Z",
     "iopub.status.busy": "2025-02-23T04:45:25.433911Z",
     "iopub.status.idle": "2025-02-23T04:45:27.016468Z",
     "shell.execute_reply": "2025-02-23T04:45:27.015384Z"
    },
    "papermill": {
     "duration": 1.598803,
     "end_time": "2025-02-23T04:45:27.018469",
     "exception": false,
     "start_time": "2025-02-23T04:45:25.419666",
     "status": "completed"
    },
    "tags": []
   },
   "outputs": [],
   "source": [
    "import matplotlib.pyplot as plt\n",
    "import seaborn as sns"
   ]
  },
  {
   "cell_type": "code",
   "execution_count": 3,
   "id": "563495e0",
   "metadata": {
    "execution": {
     "iopub.execute_input": "2025-02-23T04:45:27.056243Z",
     "iopub.status.busy": "2025-02-23T04:45:27.055384Z",
     "iopub.status.idle": "2025-02-23T04:45:28.255278Z",
     "shell.execute_reply": "2025-02-23T04:45:28.254298Z"
    },
    "papermill": {
     "duration": 1.220937,
     "end_time": "2025-02-23T04:45:28.257463",
     "exception": false,
     "start_time": "2025-02-23T04:45:27.036526",
     "status": "completed"
    },
    "tags": []
   },
   "outputs": [],
   "source": [
    "movies_df = pd.read_csv(\"/kaggle/input/the-movies-dataset/movies_metadata.csv\", low_memory=False)"
   ]
  },
  {
   "cell_type": "code",
   "execution_count": 4,
   "id": "44034050",
   "metadata": {
    "execution": {
     "iopub.execute_input": "2025-02-23T04:45:28.286335Z",
     "iopub.status.busy": "2025-02-23T04:45:28.285942Z",
     "iopub.status.idle": "2025-02-23T04:45:28.369607Z",
     "shell.execute_reply": "2025-02-23T04:45:28.368458Z"
    },
    "papermill": {
     "duration": 0.10012,
     "end_time": "2025-02-23T04:45:28.371600",
     "exception": false,
     "start_time": "2025-02-23T04:45:28.271480",
     "status": "completed"
    },
    "tags": []
   },
   "outputs": [
    {
     "name": "stdout",
     "output_type": "stream",
     "text": [
      "<class 'pandas.core.frame.DataFrame'>\n",
      "RangeIndex: 45466 entries, 0 to 45465\n",
      "Data columns (total 24 columns):\n",
      " #   Column                 Non-Null Count  Dtype  \n",
      "---  ------                 --------------  -----  \n",
      " 0   adult                  45466 non-null  object \n",
      " 1   belongs_to_collection  4494 non-null   object \n",
      " 2   budget                 45466 non-null  object \n",
      " 3   genres                 45466 non-null  object \n",
      " 4   homepage               7782 non-null   object \n",
      " 5   id                     45466 non-null  object \n",
      " 6   imdb_id                45449 non-null  object \n",
      " 7   original_language      45455 non-null  object \n",
      " 8   original_title         45466 non-null  object \n",
      " 9   overview               44512 non-null  object \n",
      " 10  popularity             45461 non-null  object \n",
      " 11  poster_path            45080 non-null  object \n",
      " 12  production_companies   45463 non-null  object \n",
      " 13  production_countries   45463 non-null  object \n",
      " 14  release_date           45379 non-null  object \n",
      " 15  revenue                45460 non-null  float64\n",
      " 16  runtime                45203 non-null  float64\n",
      " 17  spoken_languages       45460 non-null  object \n",
      " 18  status                 45379 non-null  object \n",
      " 19  tagline                20412 non-null  object \n",
      " 20  title                  45460 non-null  object \n",
      " 21  video                  45460 non-null  object \n",
      " 22  vote_average           45460 non-null  float64\n",
      " 23  vote_count             45460 non-null  float64\n",
      "dtypes: float64(4), object(20)\n",
      "memory usage: 8.3+ MB\n"
     ]
    }
   ],
   "source": [
    "movies_df.info()\n",
    "pd.set_option('display.max_columns', None)"
   ]
  },
  {
   "cell_type": "code",
   "execution_count": 5,
   "id": "a3501c0f",
   "metadata": {
    "_kg_hide-output": true,
    "execution": {
     "iopub.execute_input": "2025-02-23T04:45:28.400798Z",
     "iopub.status.busy": "2025-02-23T04:45:28.400442Z",
     "iopub.status.idle": "2025-02-23T04:45:28.434627Z",
     "shell.execute_reply": "2025-02-23T04:45:28.433554Z"
    },
    "papermill": {
     "duration": 0.05122,
     "end_time": "2025-02-23T04:45:28.436418",
     "exception": false,
     "start_time": "2025-02-23T04:45:28.385198",
     "status": "completed"
    },
    "tags": []
   },
   "outputs": [
    {
     "data": {
      "text/html": [
       "<div>\n",
       "<style scoped>\n",
       "    .dataframe tbody tr th:only-of-type {\n",
       "        vertical-align: middle;\n",
       "    }\n",
       "\n",
       "    .dataframe tbody tr th {\n",
       "        vertical-align: top;\n",
       "    }\n",
       "\n",
       "    .dataframe thead th {\n",
       "        text-align: right;\n",
       "    }\n",
       "</style>\n",
       "<table border=\"1\" class=\"dataframe\">\n",
       "  <thead>\n",
       "    <tr style=\"text-align: right;\">\n",
       "      <th></th>\n",
       "      <th>adult</th>\n",
       "      <th>belongs_to_collection</th>\n",
       "      <th>budget</th>\n",
       "      <th>genres</th>\n",
       "      <th>homepage</th>\n",
       "      <th>id</th>\n",
       "      <th>imdb_id</th>\n",
       "      <th>original_language</th>\n",
       "      <th>original_title</th>\n",
       "      <th>overview</th>\n",
       "      <th>popularity</th>\n",
       "      <th>poster_path</th>\n",
       "      <th>production_companies</th>\n",
       "      <th>production_countries</th>\n",
       "      <th>release_date</th>\n",
       "      <th>revenue</th>\n",
       "      <th>runtime</th>\n",
       "      <th>spoken_languages</th>\n",
       "      <th>status</th>\n",
       "      <th>tagline</th>\n",
       "      <th>title</th>\n",
       "      <th>video</th>\n",
       "      <th>vote_average</th>\n",
       "      <th>vote_count</th>\n",
       "    </tr>\n",
       "  </thead>\n",
       "  <tbody>\n",
       "    <tr>\n",
       "      <th>0</th>\n",
       "      <td>False</td>\n",
       "      <td>{'id': 10194, 'name': 'Toy Story Collection', ...</td>\n",
       "      <td>30000000</td>\n",
       "      <td>[{'id': 16, 'name': 'Animation'}, {'id': 35, '...</td>\n",
       "      <td>http://toystory.disney.com/toy-story</td>\n",
       "      <td>862</td>\n",
       "      <td>tt0114709</td>\n",
       "      <td>en</td>\n",
       "      <td>Toy Story</td>\n",
       "      <td>Led by Woody, Andy's toys live happily in his ...</td>\n",
       "      <td>21.946943</td>\n",
       "      <td>/rhIRbceoE9lR4veEXuwCC2wARtG.jpg</td>\n",
       "      <td>[{'name': 'Pixar Animation Studios', 'id': 3}]</td>\n",
       "      <td>[{'iso_3166_1': 'US', 'name': 'United States o...</td>\n",
       "      <td>1995-10-30</td>\n",
       "      <td>373554033.0</td>\n",
       "      <td>81.0</td>\n",
       "      <td>[{'iso_639_1': 'en', 'name': 'English'}]</td>\n",
       "      <td>Released</td>\n",
       "      <td>NaN</td>\n",
       "      <td>Toy Story</td>\n",
       "      <td>False</td>\n",
       "      <td>7.7</td>\n",
       "      <td>5415.0</td>\n",
       "    </tr>\n",
       "    <tr>\n",
       "      <th>1</th>\n",
       "      <td>False</td>\n",
       "      <td>NaN</td>\n",
       "      <td>65000000</td>\n",
       "      <td>[{'id': 12, 'name': 'Adventure'}, {'id': 14, '...</td>\n",
       "      <td>NaN</td>\n",
       "      <td>8844</td>\n",
       "      <td>tt0113497</td>\n",
       "      <td>en</td>\n",
       "      <td>Jumanji</td>\n",
       "      <td>When siblings Judy and Peter discover an encha...</td>\n",
       "      <td>17.015539</td>\n",
       "      <td>/vzmL6fP7aPKNKPRTFnZmiUfciyV.jpg</td>\n",
       "      <td>[{'name': 'TriStar Pictures', 'id': 559}, {'na...</td>\n",
       "      <td>[{'iso_3166_1': 'US', 'name': 'United States o...</td>\n",
       "      <td>1995-12-15</td>\n",
       "      <td>262797249.0</td>\n",
       "      <td>104.0</td>\n",
       "      <td>[{'iso_639_1': 'en', 'name': 'English'}, {'iso...</td>\n",
       "      <td>Released</td>\n",
       "      <td>Roll the dice and unleash the excitement!</td>\n",
       "      <td>Jumanji</td>\n",
       "      <td>False</td>\n",
       "      <td>6.9</td>\n",
       "      <td>2413.0</td>\n",
       "    </tr>\n",
       "    <tr>\n",
       "      <th>2</th>\n",
       "      <td>False</td>\n",
       "      <td>{'id': 119050, 'name': 'Grumpy Old Men Collect...</td>\n",
       "      <td>0</td>\n",
       "      <td>[{'id': 10749, 'name': 'Romance'}, {'id': 35, ...</td>\n",
       "      <td>NaN</td>\n",
       "      <td>15602</td>\n",
       "      <td>tt0113228</td>\n",
       "      <td>en</td>\n",
       "      <td>Grumpier Old Men</td>\n",
       "      <td>A family wedding reignites the ancient feud be...</td>\n",
       "      <td>11.7129</td>\n",
       "      <td>/6ksm1sjKMFLbO7UY2i6G1ju9SML.jpg</td>\n",
       "      <td>[{'name': 'Warner Bros.', 'id': 6194}, {'name'...</td>\n",
       "      <td>[{'iso_3166_1': 'US', 'name': 'United States o...</td>\n",
       "      <td>1995-12-22</td>\n",
       "      <td>0.0</td>\n",
       "      <td>101.0</td>\n",
       "      <td>[{'iso_639_1': 'en', 'name': 'English'}]</td>\n",
       "      <td>Released</td>\n",
       "      <td>Still Yelling. Still Fighting. Still Ready for...</td>\n",
       "      <td>Grumpier Old Men</td>\n",
       "      <td>False</td>\n",
       "      <td>6.5</td>\n",
       "      <td>92.0</td>\n",
       "    </tr>\n",
       "    <tr>\n",
       "      <th>3</th>\n",
       "      <td>False</td>\n",
       "      <td>NaN</td>\n",
       "      <td>16000000</td>\n",
       "      <td>[{'id': 35, 'name': 'Comedy'}, {'id': 18, 'nam...</td>\n",
       "      <td>NaN</td>\n",
       "      <td>31357</td>\n",
       "      <td>tt0114885</td>\n",
       "      <td>en</td>\n",
       "      <td>Waiting to Exhale</td>\n",
       "      <td>Cheated on, mistreated and stepped on, the wom...</td>\n",
       "      <td>3.859495</td>\n",
       "      <td>/16XOMpEaLWkrcPqSQqhTmeJuqQl.jpg</td>\n",
       "      <td>[{'name': 'Twentieth Century Fox Film Corporat...</td>\n",
       "      <td>[{'iso_3166_1': 'US', 'name': 'United States o...</td>\n",
       "      <td>1995-12-22</td>\n",
       "      <td>81452156.0</td>\n",
       "      <td>127.0</td>\n",
       "      <td>[{'iso_639_1': 'en', 'name': 'English'}]</td>\n",
       "      <td>Released</td>\n",
       "      <td>Friends are the people who let you be yourself...</td>\n",
       "      <td>Waiting to Exhale</td>\n",
       "      <td>False</td>\n",
       "      <td>6.1</td>\n",
       "      <td>34.0</td>\n",
       "    </tr>\n",
       "    <tr>\n",
       "      <th>4</th>\n",
       "      <td>False</td>\n",
       "      <td>{'id': 96871, 'name': 'Father of the Bride Col...</td>\n",
       "      <td>0</td>\n",
       "      <td>[{'id': 35, 'name': 'Comedy'}]</td>\n",
       "      <td>NaN</td>\n",
       "      <td>11862</td>\n",
       "      <td>tt0113041</td>\n",
       "      <td>en</td>\n",
       "      <td>Father of the Bride Part II</td>\n",
       "      <td>Just when George Banks has recovered from his ...</td>\n",
       "      <td>8.387519</td>\n",
       "      <td>/e64sOI48hQXyru7naBFyssKFxVd.jpg</td>\n",
       "      <td>[{'name': 'Sandollar Productions', 'id': 5842}...</td>\n",
       "      <td>[{'iso_3166_1': 'US', 'name': 'United States o...</td>\n",
       "      <td>1995-02-10</td>\n",
       "      <td>76578911.0</td>\n",
       "      <td>106.0</td>\n",
       "      <td>[{'iso_639_1': 'en', 'name': 'English'}]</td>\n",
       "      <td>Released</td>\n",
       "      <td>Just When His World Is Back To Normal... He's ...</td>\n",
       "      <td>Father of the Bride Part II</td>\n",
       "      <td>False</td>\n",
       "      <td>5.7</td>\n",
       "      <td>173.0</td>\n",
       "    </tr>\n",
       "  </tbody>\n",
       "</table>\n",
       "</div>"
      ],
      "text/plain": [
       "   adult                              belongs_to_collection    budget  \\\n",
       "0  False  {'id': 10194, 'name': 'Toy Story Collection', ...  30000000   \n",
       "1  False                                                NaN  65000000   \n",
       "2  False  {'id': 119050, 'name': 'Grumpy Old Men Collect...         0   \n",
       "3  False                                                NaN  16000000   \n",
       "4  False  {'id': 96871, 'name': 'Father of the Bride Col...         0   \n",
       "\n",
       "                                              genres  \\\n",
       "0  [{'id': 16, 'name': 'Animation'}, {'id': 35, '...   \n",
       "1  [{'id': 12, 'name': 'Adventure'}, {'id': 14, '...   \n",
       "2  [{'id': 10749, 'name': 'Romance'}, {'id': 35, ...   \n",
       "3  [{'id': 35, 'name': 'Comedy'}, {'id': 18, 'nam...   \n",
       "4                     [{'id': 35, 'name': 'Comedy'}]   \n",
       "\n",
       "                               homepage     id    imdb_id original_language  \\\n",
       "0  http://toystory.disney.com/toy-story    862  tt0114709                en   \n",
       "1                                   NaN   8844  tt0113497                en   \n",
       "2                                   NaN  15602  tt0113228                en   \n",
       "3                                   NaN  31357  tt0114885                en   \n",
       "4                                   NaN  11862  tt0113041                en   \n",
       "\n",
       "                original_title  \\\n",
       "0                    Toy Story   \n",
       "1                      Jumanji   \n",
       "2             Grumpier Old Men   \n",
       "3            Waiting to Exhale   \n",
       "4  Father of the Bride Part II   \n",
       "\n",
       "                                            overview popularity  \\\n",
       "0  Led by Woody, Andy's toys live happily in his ...  21.946943   \n",
       "1  When siblings Judy and Peter discover an encha...  17.015539   \n",
       "2  A family wedding reignites the ancient feud be...    11.7129   \n",
       "3  Cheated on, mistreated and stepped on, the wom...   3.859495   \n",
       "4  Just when George Banks has recovered from his ...   8.387519   \n",
       "\n",
       "                        poster_path  \\\n",
       "0  /rhIRbceoE9lR4veEXuwCC2wARtG.jpg   \n",
       "1  /vzmL6fP7aPKNKPRTFnZmiUfciyV.jpg   \n",
       "2  /6ksm1sjKMFLbO7UY2i6G1ju9SML.jpg   \n",
       "3  /16XOMpEaLWkrcPqSQqhTmeJuqQl.jpg   \n",
       "4  /e64sOI48hQXyru7naBFyssKFxVd.jpg   \n",
       "\n",
       "                                production_companies  \\\n",
       "0     [{'name': 'Pixar Animation Studios', 'id': 3}]   \n",
       "1  [{'name': 'TriStar Pictures', 'id': 559}, {'na...   \n",
       "2  [{'name': 'Warner Bros.', 'id': 6194}, {'name'...   \n",
       "3  [{'name': 'Twentieth Century Fox Film Corporat...   \n",
       "4  [{'name': 'Sandollar Productions', 'id': 5842}...   \n",
       "\n",
       "                                production_countries release_date  \\\n",
       "0  [{'iso_3166_1': 'US', 'name': 'United States o...   1995-10-30   \n",
       "1  [{'iso_3166_1': 'US', 'name': 'United States o...   1995-12-15   \n",
       "2  [{'iso_3166_1': 'US', 'name': 'United States o...   1995-12-22   \n",
       "3  [{'iso_3166_1': 'US', 'name': 'United States o...   1995-12-22   \n",
       "4  [{'iso_3166_1': 'US', 'name': 'United States o...   1995-02-10   \n",
       "\n",
       "       revenue  runtime                                   spoken_languages  \\\n",
       "0  373554033.0     81.0           [{'iso_639_1': 'en', 'name': 'English'}]   \n",
       "1  262797249.0    104.0  [{'iso_639_1': 'en', 'name': 'English'}, {'iso...   \n",
       "2          0.0    101.0           [{'iso_639_1': 'en', 'name': 'English'}]   \n",
       "3   81452156.0    127.0           [{'iso_639_1': 'en', 'name': 'English'}]   \n",
       "4   76578911.0    106.0           [{'iso_639_1': 'en', 'name': 'English'}]   \n",
       "\n",
       "     status                                            tagline  \\\n",
       "0  Released                                                NaN   \n",
       "1  Released          Roll the dice and unleash the excitement!   \n",
       "2  Released  Still Yelling. Still Fighting. Still Ready for...   \n",
       "3  Released  Friends are the people who let you be yourself...   \n",
       "4  Released  Just When His World Is Back To Normal... He's ...   \n",
       "\n",
       "                         title  video  vote_average  vote_count  \n",
       "0                    Toy Story  False           7.7      5415.0  \n",
       "1                      Jumanji  False           6.9      2413.0  \n",
       "2             Grumpier Old Men  False           6.5        92.0  \n",
       "3            Waiting to Exhale  False           6.1        34.0  \n",
       "4  Father of the Bride Part II  False           5.7       173.0  "
      ]
     },
     "execution_count": 5,
     "metadata": {},
     "output_type": "execute_result"
    }
   ],
   "source": [
    "movies_df.head(5)"
   ]
  },
  {
   "cell_type": "code",
   "execution_count": 6,
   "id": "dab160a3",
   "metadata": {
    "execution": {
     "iopub.execute_input": "2025-02-23T04:45:28.466293Z",
     "iopub.status.busy": "2025-02-23T04:45:28.465898Z",
     "iopub.status.idle": "2025-02-23T04:45:28.526135Z",
     "shell.execute_reply": "2025-02-23T04:45:28.524879Z"
    },
    "papermill": {
     "duration": 0.076725,
     "end_time": "2025-02-23T04:45:28.527863",
     "exception": false,
     "start_time": "2025-02-23T04:45:28.451138",
     "status": "completed"
    },
    "tags": []
   },
   "outputs": [
    {
     "name": "stdout",
     "output_type": "stream",
     "text": [
      "adult                        0\n",
      "belongs_to_collection    40972\n",
      "budget                       0\n",
      "genres                       0\n",
      "homepage                 37684\n",
      "id                           0\n",
      "imdb_id                     17\n",
      "original_language           11\n",
      "original_title               0\n",
      "overview                   954\n",
      "popularity                   5\n",
      "poster_path                386\n",
      "production_companies         3\n",
      "production_countries         3\n",
      "release_date                87\n",
      "revenue                      6\n",
      "runtime                    263\n",
      "spoken_languages             6\n",
      "status                      87\n",
      "tagline                  25054\n",
      "title                        6\n",
      "video                        6\n",
      "vote_average                 6\n",
      "vote_count                   6\n",
      "dtype: int64\n"
     ]
    }
   ],
   "source": [
    "missing_values = movies_df.isnull().sum()\n",
    "print(missing_values)"
   ]
  },
  {
   "cell_type": "code",
   "execution_count": 7,
   "id": "528687a9",
   "metadata": {
    "execution": {
     "iopub.execute_input": "2025-02-23T04:45:28.556998Z",
     "iopub.status.busy": "2025-02-23T04:45:28.556639Z",
     "iopub.status.idle": "2025-02-23T04:45:28.634370Z",
     "shell.execute_reply": "2025-02-23T04:45:28.633192Z"
    },
    "papermill": {
     "duration": 0.094254,
     "end_time": "2025-02-23T04:45:28.636221",
     "exception": false,
     "start_time": "2025-02-23T04:45:28.541967",
     "status": "completed"
    },
    "tags": []
   },
   "outputs": [
    {
     "data": {
      "text/html": [
       "<div>\n",
       "<style scoped>\n",
       "    .dataframe tbody tr th:only-of-type {\n",
       "        vertical-align: middle;\n",
       "    }\n",
       "\n",
       "    .dataframe tbody tr th {\n",
       "        vertical-align: top;\n",
       "    }\n",
       "\n",
       "    .dataframe thead th {\n",
       "        text-align: right;\n",
       "    }\n",
       "</style>\n",
       "<table border=\"1\" class=\"dataframe\">\n",
       "  <thead>\n",
       "    <tr style=\"text-align: right;\">\n",
       "      <th></th>\n",
       "      <th>adult</th>\n",
       "      <th>belongs_to_collection</th>\n",
       "      <th>budget</th>\n",
       "      <th>genres</th>\n",
       "      <th>homepage</th>\n",
       "      <th>id</th>\n",
       "      <th>imdb_id</th>\n",
       "      <th>original_language</th>\n",
       "      <th>original_title</th>\n",
       "      <th>overview</th>\n",
       "      <th>popularity</th>\n",
       "      <th>poster_path</th>\n",
       "      <th>production_companies</th>\n",
       "      <th>production_countries</th>\n",
       "      <th>release_date</th>\n",
       "      <th>revenue</th>\n",
       "      <th>runtime</th>\n",
       "      <th>spoken_languages</th>\n",
       "      <th>status</th>\n",
       "      <th>tagline</th>\n",
       "      <th>title</th>\n",
       "      <th>video</th>\n",
       "      <th>vote_average</th>\n",
       "      <th>vote_count</th>\n",
       "    </tr>\n",
       "  </thead>\n",
       "  <tbody>\n",
       "    <tr>\n",
       "      <th>0</th>\n",
       "      <td>False</td>\n",
       "      <td>{'id': 10194, 'name': 'Toy Story Collection', ...</td>\n",
       "      <td>30000000.0</td>\n",
       "      <td>[{'id': 16, 'name': 'Animation'}, {'id': 35, '...</td>\n",
       "      <td>http://toystory.disney.com/toy-story</td>\n",
       "      <td>862</td>\n",
       "      <td>tt0114709</td>\n",
       "      <td>en</td>\n",
       "      <td>Toy Story</td>\n",
       "      <td>Led by Woody, Andy's toys live happily in his ...</td>\n",
       "      <td>21.946943</td>\n",
       "      <td>/rhIRbceoE9lR4veEXuwCC2wARtG.jpg</td>\n",
       "      <td>[{'name': 'Pixar Animation Studios', 'id': 3}]</td>\n",
       "      <td>[{'iso_3166_1': 'US', 'name': 'United States o...</td>\n",
       "      <td>1995-10-30</td>\n",
       "      <td>373554033.0</td>\n",
       "      <td>81.0</td>\n",
       "      <td>[{'iso_639_1': 'en', 'name': 'English'}]</td>\n",
       "      <td>Released</td>\n",
       "      <td>NaN</td>\n",
       "      <td>Toy Story</td>\n",
       "      <td>False</td>\n",
       "      <td>7.7</td>\n",
       "      <td>5415.0</td>\n",
       "    </tr>\n",
       "    <tr>\n",
       "      <th>1</th>\n",
       "      <td>False</td>\n",
       "      <td>NaN</td>\n",
       "      <td>65000000.0</td>\n",
       "      <td>[{'id': 12, 'name': 'Adventure'}, {'id': 14, '...</td>\n",
       "      <td>NaN</td>\n",
       "      <td>8844</td>\n",
       "      <td>tt0113497</td>\n",
       "      <td>en</td>\n",
       "      <td>Jumanji</td>\n",
       "      <td>When siblings Judy and Peter discover an encha...</td>\n",
       "      <td>17.015539</td>\n",
       "      <td>/vzmL6fP7aPKNKPRTFnZmiUfciyV.jpg</td>\n",
       "      <td>[{'name': 'TriStar Pictures', 'id': 559}, {'na...</td>\n",
       "      <td>[{'iso_3166_1': 'US', 'name': 'United States o...</td>\n",
       "      <td>1995-12-15</td>\n",
       "      <td>262797249.0</td>\n",
       "      <td>104.0</td>\n",
       "      <td>[{'iso_639_1': 'en', 'name': 'English'}, {'iso...</td>\n",
       "      <td>Released</td>\n",
       "      <td>Roll the dice and unleash the excitement!</td>\n",
       "      <td>Jumanji</td>\n",
       "      <td>False</td>\n",
       "      <td>6.9</td>\n",
       "      <td>2413.0</td>\n",
       "    </tr>\n",
       "    <tr>\n",
       "      <th>2</th>\n",
       "      <td>False</td>\n",
       "      <td>{'id': 119050, 'name': 'Grumpy Old Men Collect...</td>\n",
       "      <td>0.0</td>\n",
       "      <td>[{'id': 10749, 'name': 'Romance'}, {'id': 35, ...</td>\n",
       "      <td>NaN</td>\n",
       "      <td>15602</td>\n",
       "      <td>tt0113228</td>\n",
       "      <td>en</td>\n",
       "      <td>Grumpier Old Men</td>\n",
       "      <td>A family wedding reignites the ancient feud be...</td>\n",
       "      <td>11.712900</td>\n",
       "      <td>/6ksm1sjKMFLbO7UY2i6G1ju9SML.jpg</td>\n",
       "      <td>[{'name': 'Warner Bros.', 'id': 6194}, {'name'...</td>\n",
       "      <td>[{'iso_3166_1': 'US', 'name': 'United States o...</td>\n",
       "      <td>1995-12-22</td>\n",
       "      <td>0.0</td>\n",
       "      <td>101.0</td>\n",
       "      <td>[{'iso_639_1': 'en', 'name': 'English'}]</td>\n",
       "      <td>Released</td>\n",
       "      <td>Still Yelling. Still Fighting. Still Ready for...</td>\n",
       "      <td>Grumpier Old Men</td>\n",
       "      <td>False</td>\n",
       "      <td>6.5</td>\n",
       "      <td>92.0</td>\n",
       "    </tr>\n",
       "    <tr>\n",
       "      <th>3</th>\n",
       "      <td>False</td>\n",
       "      <td>NaN</td>\n",
       "      <td>16000000.0</td>\n",
       "      <td>[{'id': 35, 'name': 'Comedy'}, {'id': 18, 'nam...</td>\n",
       "      <td>NaN</td>\n",
       "      <td>31357</td>\n",
       "      <td>tt0114885</td>\n",
       "      <td>en</td>\n",
       "      <td>Waiting to Exhale</td>\n",
       "      <td>Cheated on, mistreated and stepped on, the wom...</td>\n",
       "      <td>3.859495</td>\n",
       "      <td>/16XOMpEaLWkrcPqSQqhTmeJuqQl.jpg</td>\n",
       "      <td>[{'name': 'Twentieth Century Fox Film Corporat...</td>\n",
       "      <td>[{'iso_3166_1': 'US', 'name': 'United States o...</td>\n",
       "      <td>1995-12-22</td>\n",
       "      <td>81452156.0</td>\n",
       "      <td>127.0</td>\n",
       "      <td>[{'iso_639_1': 'en', 'name': 'English'}]</td>\n",
       "      <td>Released</td>\n",
       "      <td>Friends are the people who let you be yourself...</td>\n",
       "      <td>Waiting to Exhale</td>\n",
       "      <td>False</td>\n",
       "      <td>6.1</td>\n",
       "      <td>34.0</td>\n",
       "    </tr>\n",
       "    <tr>\n",
       "      <th>4</th>\n",
       "      <td>False</td>\n",
       "      <td>{'id': 96871, 'name': 'Father of the Bride Col...</td>\n",
       "      <td>0.0</td>\n",
       "      <td>[{'id': 35, 'name': 'Comedy'}]</td>\n",
       "      <td>NaN</td>\n",
       "      <td>11862</td>\n",
       "      <td>tt0113041</td>\n",
       "      <td>en</td>\n",
       "      <td>Father of the Bride Part II</td>\n",
       "      <td>Just when George Banks has recovered from his ...</td>\n",
       "      <td>8.387519</td>\n",
       "      <td>/e64sOI48hQXyru7naBFyssKFxVd.jpg</td>\n",
       "      <td>[{'name': 'Sandollar Productions', 'id': 5842}...</td>\n",
       "      <td>[{'iso_3166_1': 'US', 'name': 'United States o...</td>\n",
       "      <td>1995-02-10</td>\n",
       "      <td>76578911.0</td>\n",
       "      <td>106.0</td>\n",
       "      <td>[{'iso_639_1': 'en', 'name': 'English'}]</td>\n",
       "      <td>Released</td>\n",
       "      <td>Just When His World Is Back To Normal... He's ...</td>\n",
       "      <td>Father of the Bride Part II</td>\n",
       "      <td>False</td>\n",
       "      <td>5.7</td>\n",
       "      <td>173.0</td>\n",
       "    </tr>\n",
       "  </tbody>\n",
       "</table>\n",
       "</div>"
      ],
      "text/plain": [
       "   adult                              belongs_to_collection      budget  \\\n",
       "0  False  {'id': 10194, 'name': 'Toy Story Collection', ...  30000000.0   \n",
       "1  False                                                NaN  65000000.0   \n",
       "2  False  {'id': 119050, 'name': 'Grumpy Old Men Collect...         0.0   \n",
       "3  False                                                NaN  16000000.0   \n",
       "4  False  {'id': 96871, 'name': 'Father of the Bride Col...         0.0   \n",
       "\n",
       "                                              genres  \\\n",
       "0  [{'id': 16, 'name': 'Animation'}, {'id': 35, '...   \n",
       "1  [{'id': 12, 'name': 'Adventure'}, {'id': 14, '...   \n",
       "2  [{'id': 10749, 'name': 'Romance'}, {'id': 35, ...   \n",
       "3  [{'id': 35, 'name': 'Comedy'}, {'id': 18, 'nam...   \n",
       "4                     [{'id': 35, 'name': 'Comedy'}]   \n",
       "\n",
       "                               homepage     id    imdb_id original_language  \\\n",
       "0  http://toystory.disney.com/toy-story    862  tt0114709                en   \n",
       "1                                   NaN   8844  tt0113497                en   \n",
       "2                                   NaN  15602  tt0113228                en   \n",
       "3                                   NaN  31357  tt0114885                en   \n",
       "4                                   NaN  11862  tt0113041                en   \n",
       "\n",
       "                original_title  \\\n",
       "0                    Toy Story   \n",
       "1                      Jumanji   \n",
       "2             Grumpier Old Men   \n",
       "3            Waiting to Exhale   \n",
       "4  Father of the Bride Part II   \n",
       "\n",
       "                                            overview  popularity  \\\n",
       "0  Led by Woody, Andy's toys live happily in his ...   21.946943   \n",
       "1  When siblings Judy and Peter discover an encha...   17.015539   \n",
       "2  A family wedding reignites the ancient feud be...   11.712900   \n",
       "3  Cheated on, mistreated and stepped on, the wom...    3.859495   \n",
       "4  Just when George Banks has recovered from his ...    8.387519   \n",
       "\n",
       "                        poster_path  \\\n",
       "0  /rhIRbceoE9lR4veEXuwCC2wARtG.jpg   \n",
       "1  /vzmL6fP7aPKNKPRTFnZmiUfciyV.jpg   \n",
       "2  /6ksm1sjKMFLbO7UY2i6G1ju9SML.jpg   \n",
       "3  /16XOMpEaLWkrcPqSQqhTmeJuqQl.jpg   \n",
       "4  /e64sOI48hQXyru7naBFyssKFxVd.jpg   \n",
       "\n",
       "                                production_companies  \\\n",
       "0     [{'name': 'Pixar Animation Studios', 'id': 3}]   \n",
       "1  [{'name': 'TriStar Pictures', 'id': 559}, {'na...   \n",
       "2  [{'name': 'Warner Bros.', 'id': 6194}, {'name'...   \n",
       "3  [{'name': 'Twentieth Century Fox Film Corporat...   \n",
       "4  [{'name': 'Sandollar Productions', 'id': 5842}...   \n",
       "\n",
       "                                production_countries release_date  \\\n",
       "0  [{'iso_3166_1': 'US', 'name': 'United States o...   1995-10-30   \n",
       "1  [{'iso_3166_1': 'US', 'name': 'United States o...   1995-12-15   \n",
       "2  [{'iso_3166_1': 'US', 'name': 'United States o...   1995-12-22   \n",
       "3  [{'iso_3166_1': 'US', 'name': 'United States o...   1995-12-22   \n",
       "4  [{'iso_3166_1': 'US', 'name': 'United States o...   1995-02-10   \n",
       "\n",
       "       revenue  runtime                                   spoken_languages  \\\n",
       "0  373554033.0     81.0           [{'iso_639_1': 'en', 'name': 'English'}]   \n",
       "1  262797249.0    104.0  [{'iso_639_1': 'en', 'name': 'English'}, {'iso...   \n",
       "2          0.0    101.0           [{'iso_639_1': 'en', 'name': 'English'}]   \n",
       "3   81452156.0    127.0           [{'iso_639_1': 'en', 'name': 'English'}]   \n",
       "4   76578911.0    106.0           [{'iso_639_1': 'en', 'name': 'English'}]   \n",
       "\n",
       "     status                                            tagline  \\\n",
       "0  Released                                                NaN   \n",
       "1  Released          Roll the dice and unleash the excitement!   \n",
       "2  Released  Still Yelling. Still Fighting. Still Ready for...   \n",
       "3  Released  Friends are the people who let you be yourself...   \n",
       "4  Released  Just When His World Is Back To Normal... He's ...   \n",
       "\n",
       "                         title  video  vote_average  vote_count  \n",
       "0                    Toy Story  False           7.7      5415.0  \n",
       "1                      Jumanji  False           6.9      2413.0  \n",
       "2             Grumpier Old Men  False           6.5        92.0  \n",
       "3            Waiting to Exhale  False           6.1        34.0  \n",
       "4  Father of the Bride Part II  False           5.7       173.0  "
      ]
     },
     "execution_count": 7,
     "metadata": {},
     "output_type": "execute_result"
    }
   ],
   "source": [
    "movies_df['budget'] = pd.to_numeric(movies_df['budget'], errors='coerce')\n",
    "movies_df['revenue'] = pd.to_numeric(movies_df['revenue'], errors='coerce')\n",
    "movies_df['popularity'] = pd.to_numeric(movies_df['popularity'], errors='coerce')\n",
    "movies_df['release_date'] = pd.to_datetime(movies_df['release_date'], errors='coerce')\n",
    "\n",
    "movies_df.head(5)"
   ]
  },
  {
   "cell_type": "code",
   "execution_count": 8,
   "id": "baa0a231",
   "metadata": {
    "execution": {
     "iopub.execute_input": "2025-02-23T04:45:28.666897Z",
     "iopub.status.busy": "2025-02-23T04:45:28.666535Z",
     "iopub.status.idle": "2025-02-23T04:45:28.672422Z",
     "shell.execute_reply": "2025-02-23T04:45:28.671419Z"
    },
    "papermill": {
     "duration": 0.022811,
     "end_time": "2025-02-23T04:45:28.673946",
     "exception": false,
     "start_time": "2025-02-23T04:45:28.651135",
     "status": "completed"
    },
    "tags": []
   },
   "outputs": [],
   "source": [
    "def stats(column):\n",
    "    statistics = []\n",
    "    mean_val = movies_df[column].mean()\n",
    "    median_val = movies_df[column].median()\n",
    "    mode_val = movies_df[column].mode()[0]\n",
    "    q1 = movies_df[column].quantile(0.25)\n",
    "    q3 = movies_df[column].quantile(0.75)\n",
    "    maxi = movies_df[column].max()\n",
    "    mini = movies_df[column].min()\n",
    "    statistics.append(mean_val)\n",
    "    statistics.append(median_val)\n",
    "    statistics.append(mode_val)\n",
    "    statistics.append(q1)\n",
    "    statistics.append(q3)\n",
    "    statistics.append(maxi)\n",
    "    statistics.append(mini)\n",
    "    return statistics"
   ]
  },
  {
   "cell_type": "code",
   "execution_count": 9,
   "id": "fb7b5e16",
   "metadata": {
    "execution": {
     "iopub.execute_input": "2025-02-23T04:45:28.704078Z",
     "iopub.status.busy": "2025-02-23T04:45:28.703679Z",
     "iopub.status.idle": "2025-02-23T04:45:29.875682Z",
     "shell.execute_reply": "2025-02-23T04:45:29.874445Z"
    },
    "papermill": {
     "duration": 1.18904,
     "end_time": "2025-02-23T04:45:29.877587",
     "exception": false,
     "start_time": "2025-02-23T04:45:28.688547",
     "status": "completed"
    },
    "tags": []
   },
   "outputs": [
    {
     "data": {
      "image/png": "[encoded data removed]",
      "text/plain": [
       "<Figure size 640x480 with 1 Axes>"
      ]
     },
     "metadata": {},
     "output_type": "display_data"
    }
   ],
   "source": [
    "sns.boxplot(x=movies_df['budget'])\n",
    "plt.title(\"Boxplot of bufget\")\n",
    "plt.savefig(\"box_plot_budget.png\",dpi=700)\n",
    "plt.show()"
   ]
  },
  {
   "cell_type": "code",
   "execution_count": 10,
   "id": "1471fcae",
   "metadata": {
    "execution": {
     "iopub.execute_input": "2025-02-23T04:45:29.908679Z",
     "iopub.status.busy": "2025-02-23T04:45:29.908323Z",
     "iopub.status.idle": "2025-02-23T04:45:29.924191Z",
     "shell.execute_reply": "2025-02-23T04:45:29.923006Z"
    },
    "papermill": {
     "duration": 0.033176,
     "end_time": "2025-02-23T04:45:29.925781",
     "exception": false,
     "start_time": "2025-02-23T04:45:29.892605",
     "status": "completed"
    },
    "tags": []
   },
   "outputs": [
    {
     "name": "stdout",
     "output_type": "stream",
     "text": [
      "[2.9214783449186092, 1.127685, 0.0, 0.38594775, 3.67890225, 547.488298, 0.0]\n"
     ]
    }
   ],
   "source": [
    "print(stats('popularity'))"
   ]
  },
  {
   "cell_type": "code",
   "execution_count": 11,
   "id": "d8ed8d16",
   "metadata": {
    "execution": {
     "iopub.execute_input": "2025-02-23T04:45:29.956932Z",
     "iopub.status.busy": "2025-02-23T04:45:29.956575Z",
     "iopub.status.idle": "2025-02-23T04:45:30.909096Z",
     "shell.execute_reply": "2025-02-23T04:45:30.907993Z"
    },
    "papermill": {
     "duration": 0.970211,
     "end_time": "2025-02-23T04:45:30.910754",
     "exception": false,
     "start_time": "2025-02-23T04:45:29.940543",
     "status": "completed"
    },
    "tags": []
   },
   "outputs": [
    {
     "data": {
      "image/png": "[encoded data removed]",
      "text/plain": [
       "<Figure size 640x480 with 1 Axes>"
      ]
     },
     "metadata": {},
     "output_type": "display_data"
    }
   ],
   "source": [
    "sns.boxplot(x=movies_df['popularity'])\n",
    "plt.title(\"Boxplot of popularity\")\n",
    "plt.savefig(\"box_plot_popularity.png\", dpi=700)\n",
    "plt.show()"
   ]
  },
  {
   "cell_type": "code",
   "execution_count": 12,
   "id": "1ae63572",
   "metadata": {
    "execution": {
     "iopub.execute_input": "2025-02-23T04:45:30.942405Z",
     "iopub.status.busy": "2025-02-23T04:45:30.941990Z",
     "iopub.status.idle": "2025-02-23T04:45:30.952688Z",
     "shell.execute_reply": "2025-02-23T04:45:30.951694Z"
    },
    "papermill": {
     "duration": 0.02849,
     "end_time": "2025-02-23T04:45:30.954424",
     "exception": false,
     "start_time": "2025-02-23T04:45:30.925934",
     "status": "completed"
    },
    "tags": []
   },
   "outputs": [
    {
     "name": "stdout",
     "output_type": "stream",
     "text": [
      "[11209348.539265288, 0.0, 0.0, 0.0, 0.0, 2787965087.0, 0.0]\n"
     ]
    }
   ],
   "source": [
    "print(stats('revenue'))"
   ]
  },
  {
   "cell_type": "code",
   "execution_count": 13,
   "id": "6f747b01",
   "metadata": {
    "execution": {
     "iopub.execute_input": "2025-02-23T04:45:30.986443Z",
     "iopub.status.busy": "2025-02-23T04:45:30.986015Z",
     "iopub.status.idle": "2025-02-23T04:45:30.997182Z",
     "shell.execute_reply": "2025-02-23T04:45:30.996147Z"
    },
    "papermill": {
     "duration": 0.029082,
     "end_time": "2025-02-23T04:45:30.998804",
     "exception": false,
     "start_time": "2025-02-23T04:45:30.969722",
     "status": "completed"
    },
    "tags": []
   },
   "outputs": [
    {
     "name": "stdout",
     "output_type": "stream",
     "text": [
      "[94.12819945578833, 95.0, 90.0, 85.0, 107.0, 1256.0, 0.0]\n"
     ]
    }
   ],
   "source": [
    "print(stats('runtime'))"
   ]
  },
  {
   "cell_type": "code",
   "execution_count": 14,
   "id": "708621e5",
   "metadata": {
    "execution": {
     "iopub.execute_input": "2025-02-23T04:45:31.030654Z",
     "iopub.status.busy": "2025-02-23T04:45:31.030271Z",
     "iopub.status.idle": "2025-02-23T04:45:32.854493Z",
     "shell.execute_reply": "2025-02-23T04:45:32.853399Z"
    },
    "papermill": {
     "duration": 1.84228,
     "end_time": "2025-02-23T04:45:32.856376",
     "exception": false,
     "start_time": "2025-02-23T04:45:31.014096",
     "status": "completed"
    },
    "tags": []
   },
   "outputs": [
    {
     "name": "stderr",
     "output_type": "stream",
     "text": [
      "/usr/local/lib/python3.10/dist-packages/seaborn/_oldcore.py:1119: FutureWarning: use_inf_as_na option is deprecated and will be removed in a future version. Convert inf values to NaN before operating instead.\n",
      "  with pd.option_context('mode.use_inf_as_na', True):\n"
     ]
    },
    {
     "data": {
      "image/png": "[encoded data removed]",
      "text/plain": [
       "<Figure size 640x480 with 1 Axes>"
      ]
     },
     "metadata": {},
     "output_type": "display_data"
    }
   ],
   "source": [
    "sns.histplot(movies_df['runtime'], bins=100, kde=True)\n",
    "plt.xlabel('runtime')\n",
    "plt.ylabel('Frequency')\n",
    "plt.title('runtime Distribution')\n",
    "plt.tight_layout()\n",
    "plt.xlim(0,400)\n",
    "plt.savefig(\"runtime_distribuition.png\", dpi=700)\n",
    "plt.show()"
   ]
  },
  {
   "cell_type": "code",
   "execution_count": 15,
   "id": "2b49f949",
   "metadata": {
    "execution": {
     "iopub.execute_input": "2025-02-23T04:45:32.890261Z",
     "iopub.status.busy": "2025-02-23T04:45:32.889838Z",
     "iopub.status.idle": "2025-02-23T04:45:32.901576Z",
     "shell.execute_reply": "2025-02-23T04:45:32.900247Z"
    },
    "papermill": {
     "duration": 0.030343,
     "end_time": "2025-02-23T04:45:32.903305",
     "exception": false,
     "start_time": "2025-02-23T04:45:32.872962",
     "status": "completed"
    },
    "tags": []
   },
   "outputs": [
    {
     "name": "stdout",
     "output_type": "stream",
     "text": [
      "[109.89733831940167, 10.0, 1.0, 3.0, 34.0, 14075.0, 0.0]\n"
     ]
    }
   ],
   "source": [
    "print(stats('vote_count'))"
   ]
  },
  {
   "cell_type": "code",
   "execution_count": 16,
   "id": "30b7c393",
   "metadata": {
    "execution": {
     "iopub.execute_input": "2025-02-23T04:45:32.936404Z",
     "iopub.status.busy": "2025-02-23T04:45:32.935982Z",
     "iopub.status.idle": "2025-02-23T04:45:33.961958Z",
     "shell.execute_reply": "2025-02-23T04:45:33.960870Z"
    },
    "papermill": {
     "duration": 1.044553,
     "end_time": "2025-02-23T04:45:33.963784",
     "exception": false,
     "start_time": "2025-02-23T04:45:32.919231",
     "status": "completed"
    },
    "tags": []
   },
   "outputs": [
    {
     "data": {
      "image/png": "[encoded data removed]",
      "text/plain": [
       "<Figure size 640x480 with 1 Axes>"
      ]
     },
     "metadata": {},
     "output_type": "display_data"
    }
   ],
   "source": [
    "sns.boxplot(x=movies_df['vote_count'])\n",
    "plt.title(\"Boxplot of vote_count\")\n",
    "plt.savefig(\"box_plot_vote_.png\", dpi=700)\n",
    "plt.show()"
   ]
  },
  {
   "cell_type": "code",
   "execution_count": 17,
   "id": "f91fff7a",
   "metadata": {
    "execution": {
     "iopub.execute_input": "2025-02-23T04:45:33.998245Z",
     "iopub.status.busy": "2025-02-23T04:45:33.997825Z",
     "iopub.status.idle": "2025-02-23T04:45:34.009220Z",
     "shell.execute_reply": "2025-02-23T04:45:34.007992Z"
    },
    "papermill": {
     "duration": 0.030716,
     "end_time": "2025-02-23T04:45:34.011000",
     "exception": false,
     "start_time": "2025-02-23T04:45:33.980284",
     "status": "completed"
    },
    "tags": []
   },
   "outputs": [
    {
     "name": "stdout",
     "output_type": "stream",
     "text": [
      "[5.618207215134183, 6.0, 0.0, 5.0, 6.8, 10.0, 0.0]\n"
     ]
    }
   ],
   "source": [
    "print(stats('vote_average'))"
   ]
  },
  {
   "cell_type": "code",
   "execution_count": 18,
   "id": "0ae3f324",
   "metadata": {
    "execution": {
     "iopub.execute_input": "2025-02-23T04:45:34.046862Z",
     "iopub.status.busy": "2025-02-23T04:45:34.046487Z",
     "iopub.status.idle": "2025-02-23T04:45:34.057702Z",
     "shell.execute_reply": "2025-02-23T04:45:34.056377Z"
    },
    "papermill": {
     "duration": 0.031472,
     "end_time": "2025-02-23T04:45:34.059501",
     "exception": false,
     "start_time": "2025-02-23T04:45:34.028029",
     "status": "completed"
    },
    "tags": []
   },
   "outputs": [
    {
     "name": "stdout",
     "output_type": "stream",
     "text": [
      "[4224578.813474693, 0.0, 0.0, 0.0, 0.0, 380000000.0, 0.0]\n"
     ]
    }
   ],
   "source": [
    "print(stats('budget'))"
   ]
  },
  {
   "cell_type": "code",
   "execution_count": 19,
   "id": "e9e5b8e3",
   "metadata": {
    "execution": {
     "iopub.execute_input": "2025-02-23T04:45:34.093999Z",
     "iopub.status.busy": "2025-02-23T04:45:34.093642Z",
     "iopub.status.idle": "2025-02-23T04:45:34.166977Z",
     "shell.execute_reply": "2025-02-23T04:45:34.165920Z"
    },
    "papermill": {
     "duration": 0.093008,
     "end_time": "2025-02-23T04:45:34.169030",
     "exception": false,
     "start_time": "2025-02-23T04:45:34.076022",
     "status": "completed"
    },
    "tags": []
   },
   "outputs": [],
   "source": [
    "movies_df['belongs_to_collection'] = movies_df['belongs_to_collection'].fillna(\"\")\n",
    "movies_df['homepage'] = movies_df['homepage'].fillna(\"\")\n",
    "movies_df['imdb_id'] = movies_df['imdb_id'].fillna(0)\n",
    "movies_df['original_language'] = movies_df['original_language'].fillna(movies_df['original_language'].mode()[0])\n",
    "movies_df['overview'] = movies_df['overview'].fillna(\"\")\n",
    "movies_df['popularity'] = movies_df['popularity'].fillna(movies_df['popularity'].median())\n",
    "movies_df['revenue'] = movies_df['revenue'].fillna(movies_df['revenue'].mean())\n",
    "movies_df['budget'] = movies_df['budget'].fillna(movies_df['budget'].mean())\n",
    "movies_df['runtime'] = movies_df['runtime'].fillna(movies_df['runtime'].median())\n",
    "movies_df['vote_count'] = movies_df['vote_count'].fillna(movies_df['vote_count'].median())\n",
    "movies_df['vote_average'] = movies_df['vote_average'].fillna(movies_df['vote_average'].mean())\n",
    "movies_df['status'] = movies_df['vote_average'].fillna(\"released\")\n",
    "movies_df['tagline'] = movies_df['tagline'].fillna(\"\")\n",
    "movies_df['production_companies'] = movies_df['production_companies'].fillna(movies_df['production_companies'].mode()[0])\n",
    "movies_df['production_countries'] = movies_df['production_countries'].fillna(movies_df['production_countries'].mode()[0])\n",
    "movies_df['release_date'] = movies_df['release_date'].fillna(movies_df['release_date'].max())\n"
   ]
  },
  {
   "cell_type": "code",
   "execution_count": 20,
   "id": "721c6077",
   "metadata": {
    "execution": {
     "iopub.execute_input": "2025-02-23T04:45:34.203536Z",
     "iopub.status.busy": "2025-02-23T04:45:34.203200Z",
     "iopub.status.idle": "2025-02-23T04:45:34.210461Z",
     "shell.execute_reply": "2025-02-23T04:45:34.209613Z"
    },
    "papermill": {
     "duration": 0.026252,
     "end_time": "2025-02-23T04:45:34.212053",
     "exception": false,
     "start_time": "2025-02-23T04:45:34.185801",
     "status": "completed"
    },
    "tags": []
   },
   "outputs": [],
   "source": [
    "movies_df['year'] = movies_df['release_date'].dt.year"
   ]
  },
  {
   "cell_type": "code",
   "execution_count": 21,
   "id": "8f5cf41e",
   "metadata": {
    "execution": {
     "iopub.execute_input": "2025-02-23T04:45:34.245979Z",
     "iopub.status.busy": "2025-02-23T04:45:34.245639Z",
     "iopub.status.idle": "2025-02-23T04:45:34.295918Z",
     "shell.execute_reply": "2025-02-23T04:45:34.294511Z"
    },
    "papermill": {
     "duration": 0.069293,
     "end_time": "2025-02-23T04:45:34.297893",
     "exception": false,
     "start_time": "2025-02-23T04:45:34.228600",
     "status": "completed"
    },
    "tags": []
   },
   "outputs": [
    {
     "name": "stdout",
     "output_type": "stream",
     "text": [
      "adult                      0\n",
      "belongs_to_collection      0\n",
      "budget                     0\n",
      "genres                     0\n",
      "homepage                   0\n",
      "id                         0\n",
      "imdb_id                    0\n",
      "original_language          0\n",
      "original_title             0\n",
      "overview                   0\n",
      "popularity                 0\n",
      "poster_path              386\n",
      "production_companies       0\n",
      "production_countries       0\n",
      "release_date               0\n",
      "revenue                    0\n",
      "runtime                    0\n",
      "spoken_languages           6\n",
      "status                     0\n",
      "tagline                    0\n",
      "title                      6\n",
      "video                      6\n",
      "vote_average               0\n",
      "vote_count                 0\n",
      "year                       0\n",
      "dtype: int64\n"
     ]
    }
   ],
   "source": [
    "missing_values = movies_df.isnull().sum()\n",
    "print(missing_values)"
   ]
  },
  {
   "cell_type": "code",
   "execution_count": 22,
   "id": "2534a24b",
   "metadata": {
    "execution": {
     "iopub.execute_input": "2025-02-23T04:45:34.332610Z",
     "iopub.status.busy": "2025-02-23T04:45:34.332249Z",
     "iopub.status.idle": "2025-02-23T04:45:37.008194Z",
     "shell.execute_reply": "2025-02-23T04:45:37.007045Z"
    },
    "papermill": {
     "duration": 2.696193,
     "end_time": "2025-02-23T04:45:37.010938",
     "exception": false,
     "start_time": "2025-02-23T04:45:34.314745",
     "status": "completed"
    },
    "tags": []
   },
   "outputs": [
    {
     "data": {
      "image/png": "[encoded data removed]",
      "text/plain": [
       "<Figure size 1200x600 with 1 Axes>"
      ]
     },
     "metadata": {},
     "output_type": "display_data"
    }
   ],
   "source": [
    "movies_df['release_year'] = movies_df['release_date'].dt.year\n",
    "yearly_movies = movies_df['release_year'].value_counts().sort_index()\n",
    "\n",
    "plt.figure(figsize=(12, 6))\n",
    "plt.plot(yearly_movies.index, yearly_movies.values, marker='o')\n",
    "plt.title(\"Movies Released Per Year\")\n",
    "plt.xlabel(\"Year\")\n",
    "plt.ylabel(\"Number of Movies\")\n",
    "plt.savefig(\"Movies released per year.png\", dpi=700)\n",
    "plt.show()"
   ]
  },
  {
   "cell_type": "code",
   "execution_count": 23,
   "id": "fa40053e",
   "metadata": {
    "execution": {
     "iopub.execute_input": "2025-02-23T04:45:37.062451Z",
     "iopub.status.busy": "2025-02-23T04:45:37.062037Z",
     "iopub.status.idle": "2025-02-23T04:45:37.070553Z",
     "shell.execute_reply": "2025-02-23T04:45:37.069383Z"
    },
    "papermill": {
     "duration": 0.03557,
     "end_time": "2025-02-23T04:45:37.076035",
     "exception": false,
     "start_time": "2025-02-23T04:45:37.040465",
     "status": "completed"
    },
    "tags": []
   },
   "outputs": [],
   "source": [
    "budget_per_year = movies_df.groupby('year')['budget'].sum()"
   ]
  },
  {
   "cell_type": "code",
   "execution_count": 24,
   "id": "f0dfb36b",
   "metadata": {
    "execution": {
     "iopub.execute_input": "2025-02-23T04:45:37.124979Z",
     "iopub.status.busy": "2025-02-23T04:45:37.124624Z",
     "iopub.status.idle": "2025-02-23T04:45:39.828650Z",
     "shell.execute_reply": "2025-02-23T04:45:39.827450Z"
    },
    "papermill": {
     "duration": 2.724654,
     "end_time": "2025-02-23T04:45:39.830534",
     "exception": false,
     "start_time": "2025-02-23T04:45:37.105880",
     "status": "completed"
    },
    "tags": []
   },
   "outputs": [
    {
     "data": {
      "image/png": "[encoded data removed]",
      "text/plain": [
       "<Figure size 1200x600 with 1 Axes>"
      ]
     },
     "metadata": {},
     "output_type": "display_data"
    }
   ],
   "source": [
    "plt.figure(figsize=(12, 6))\n",
    "plt.plot(budget_per_year.index, budget_per_year.values, marker='o', linestyle='-')\n",
    "\n",
    "plt.title(\"Total Movie Budget Over the Years\")\n",
    "plt.xlabel(\"Year\")\n",
    "plt.xlim(1960)\n",
    "plt.ylabel(\"Total Budget (in dollars)\")\n",
    "plt.ticklabel_format(style='plain', axis='y')\n",
    "plt.grid(True)\n",
    "plt.savefig(\"movie budget.png\", dpi=700)\n",
    "\n",
    "plt.show()\n"
   ]
  },
  {
   "cell_type": "code",
   "execution_count": 25,
   "id": "186da132",
   "metadata": {
    "execution": {
     "iopub.execute_input": "2025-02-23T04:45:39.868892Z",
     "iopub.status.busy": "2025-02-23T04:45:39.868547Z",
     "iopub.status.idle": "2025-02-23T04:45:39.932530Z",
     "shell.execute_reply": "2025-02-23T04:45:39.931203Z"
    },
    "papermill": {
     "duration": 0.085243,
     "end_time": "2025-02-23T04:45:39.934519",
     "exception": false,
     "start_time": "2025-02-23T04:45:39.849276",
     "status": "completed"
    },
    "tags": []
   },
   "outputs": [
    {
     "name": "stdout",
     "output_type": "stream",
     "text": [
      "                                             title       budget\n",
      "17124  Pirates of the Caribbean: On Stranger Tides  380000000.0\n",
      "11827     Pirates of the Caribbean: At World's End  300000000.0\n",
      "26558                      Avengers: Age of Ultron  280000000.0\n",
      "11067                             Superman Returns  270000000.0\n",
      "16130                                      Tangled  260000000.0\n",
      "18685                                  John Carter  260000000.0\n",
      "44842                Transformers: The Last Knight  260000000.0\n",
      "11780                                 Spider-Man 3  258000000.0\n",
      "21175                              The Lone Ranger  255000000.0\n",
      "13893       Harry Potter and the Half-Blood Prince  250000000.0\n"
     ]
    }
   ],
   "source": [
    "top_10_budget = movies_df.nlargest(10, 'budget')\n",
    "print(top_10_budget[['title', 'budget']])"
   ]
  },
  {
   "cell_type": "code",
   "execution_count": 26,
   "id": "3b134c60",
   "metadata": {
    "execution": {
     "iopub.execute_input": "2025-02-23T04:45:39.973840Z",
     "iopub.status.busy": "2025-02-23T04:45:39.973474Z",
     "iopub.status.idle": "2025-02-23T04:45:40.015284Z",
     "shell.execute_reply": "2025-02-23T04:45:40.013895Z"
    },
    "papermill": {
     "duration": 0.063619,
     "end_time": "2025-02-23T04:45:40.016980",
     "exception": false,
     "start_time": "2025-02-23T04:45:39.953361",
     "status": "completed"
    },
    "tags": []
   },
   "outputs": [
    {
     "name": "stdout",
     "output_type": "stream",
     "text": [
      "                                              title       revenue\n",
      "14551                                        Avatar  2.787965e+09\n",
      "26555                  Star Wars: The Force Awakens  2.068224e+09\n",
      "1639                                        Titanic  1.845034e+09\n",
      "17818                                  The Avengers  1.519558e+09\n",
      "25084                                Jurassic World  1.513529e+09\n",
      "28830                                     Furious 7  1.506249e+09\n",
      "26558                       Avengers: Age of Ultron  1.405404e+09\n",
      "17437  Harry Potter and the Deathly Hallows: Part 2  1.342000e+09\n",
      "22110                                        Frozen  1.274219e+09\n",
      "42222                          Beauty and the Beast  1.262886e+09\n"
     ]
    }
   ],
   "source": [
    "top_10_revenue = movies_df.nlargest(10, 'revenue')\n",
    "print(top_10_revenue[['title', 'revenue']])"
   ]
  },
  {
   "cell_type": "code",
   "execution_count": 27,
   "id": "d643fce8",
   "metadata": {
    "execution": {
     "iopub.execute_input": "2025-02-23T04:45:40.056289Z",
     "iopub.status.busy": "2025-02-23T04:45:40.055839Z",
     "iopub.status.idle": "2025-02-23T04:45:40.061940Z",
     "shell.execute_reply": "2025-02-23T04:45:40.060981Z"
    },
    "papermill": {
     "duration": 0.027358,
     "end_time": "2025-02-23T04:45:40.063615",
     "exception": false,
     "start_time": "2025-02-23T04:45:40.036257",
     "status": "completed"
    },
    "tags": []
   },
   "outputs": [],
   "source": [
    "def detect_outliers_iqr(data, column):\n",
    "    Q1 = data[column].quantile(0.25)\n",
    "    Q3 = data[column].quantile(0.75)\n",
    "    IQR = Q3 - Q1\n",
    "    lower_bound = Q1 - 1.5 * IQR\n",
    "    upper_bound = Q3 + 1.5 * IQR\n",
    "    return data[(data[column] < lower_bound) | (data[column] > upper_bound)]"
   ]
  },
  {
   "cell_type": "code",
   "execution_count": 28,
   "id": "0a2c14aa",
   "metadata": {
    "execution": {
     "iopub.execute_input": "2025-02-23T04:45:40.102315Z",
     "iopub.status.busy": "2025-02-23T04:45:40.101919Z",
     "iopub.status.idle": "2025-02-23T04:45:44.220694Z",
     "shell.execute_reply": "2025-02-23T04:45:44.219613Z"
    },
    "papermill": {
     "duration": 4.140252,
     "end_time": "2025-02-23T04:45:44.222598",
     "exception": false,
     "start_time": "2025-02-23T04:45:40.082346",
     "status": "completed"
    },
    "tags": []
   },
   "outputs": [
    {
     "data": {
      "image/png": "[encoded data removed]",
      "text/plain": [
       "<Figure size 1200x800 with 5 Axes>"
      ]
     },
     "metadata": {},
     "output_type": "display_data"
    }
   ],
   "source": [
    "columns = [\"budget\", \"revenue\", \"popularity\", \"runtime\", \"vote_count\"]\n",
    "\n",
    "outliers = {}\n",
    "for col in columns:\n",
    "    outliers[col] = detect_outliers_iqr(movies_df, col)\n",
    "\n",
    "\n",
    "plt.figure(figsize=(12, 8))\n",
    "for i, col in enumerate(columns, 1):\n",
    "    plt.subplot(3, 2, i)\n",
    "    sns.boxplot(x=movies_df[col])\n",
    "    plt.title(f\"Boxplot of {col}\")\n",
    "    plt.xlabel(col)\n",
    "\n",
    "plt.tight_layout()\n",
    "plt.savefig(\"Box_plot.png\", dpi=700)\n",
    "plt.show()"
   ]
  },
  {
   "cell_type": "code",
   "execution_count": 29,
   "id": "961fe2b9",
   "metadata": {
    "execution": {
     "iopub.execute_input": "2025-02-23T04:45:44.263789Z",
     "iopub.status.busy": "2025-02-23T04:45:44.263447Z",
     "iopub.status.idle": "2025-02-23T04:45:44.268950Z",
     "shell.execute_reply": "2025-02-23T04:45:44.267713Z"
    },
    "papermill": {
     "duration": 0.02794,
     "end_time": "2025-02-23T04:45:44.270500",
     "exception": false,
     "start_time": "2025-02-23T04:45:44.242560",
     "status": "completed"
    },
    "tags": []
   },
   "outputs": [
    {
     "name": "stdout",
     "output_type": "stream",
     "text": [
      "Number of outliers in budget: 8893\n",
      "Number of outliers in revenue: 7414\n",
      "Number of outliers in popularity: 4237\n",
      "Number of outliers in runtime: 5417\n",
      "Number of outliers in vote_count: 6889\n"
     ]
    }
   ],
   "source": [
    "for col in columns:\n",
    "    print(f\"Number of outliers in {col}: {len(outliers[col])}\")"
   ]
  },
  {
   "cell_type": "code",
   "execution_count": 30,
   "id": "1d6da012",
   "metadata": {
    "execution": {
     "iopub.execute_input": "2025-02-23T04:45:44.312524Z",
     "iopub.status.busy": "2025-02-23T04:45:44.312079Z",
     "iopub.status.idle": "2025-02-23T04:45:44.324310Z",
     "shell.execute_reply": "2025-02-23T04:45:44.323002Z"
    },
    "papermill": {
     "duration": 0.036156,
     "end_time": "2025-02-23T04:45:44.326336",
     "exception": false,
     "start_time": "2025-02-23T04:45:44.290180",
     "status": "completed"
    },
    "tags": []
   },
   "outputs": [],
   "source": [
    "movies_df['budget'] = np.log1p(movies_df['budget'])\n",
    "movies_df['revenue'] = np.log1p(movies_df['revenue'])\n",
    "movies_df['populairty'] = np.log1p(movies_df['popularity'])"
   ]
  },
  {
   "cell_type": "code",
   "execution_count": 31,
   "id": "b13446d5",
   "metadata": {
    "execution": {
     "iopub.execute_input": "2025-02-23T04:45:44.367042Z",
     "iopub.status.busy": "2025-02-23T04:45:44.366637Z",
     "iopub.status.idle": "2025-02-23T04:45:44.386598Z",
     "shell.execute_reply": "2025-02-23T04:45:44.385571Z"
    },
    "papermill": {
     "duration": 0.04243,
     "end_time": "2025-02-23T04:45:44.388409",
     "exception": false,
     "start_time": "2025-02-23T04:45:44.345979",
     "status": "completed"
    },
    "tags": []
   },
   "outputs": [],
   "source": [
    "#Chat GPT Code.\n",
    "#Replace values above the 99th percentile with the 99th percentile value to limit their impact.\n",
    "\n",
    "popularity_threshold = movies_df['popularity'].quantile(0.99)\n",
    "movies_df['popularity'] = movies_df['popularity'].apply(lambda x: popularity_threshold if x > popularity_threshold else x)"
   ]
  },
  {
   "cell_type": "code",
   "execution_count": 32,
   "id": "d57346ef",
   "metadata": {
    "execution": {
     "iopub.execute_input": "2025-02-23T04:45:44.486064Z",
     "iopub.status.busy": "2025-02-23T04:45:44.485631Z",
     "iopub.status.idle": "2025-02-23T04:45:44.509536Z",
     "shell.execute_reply": "2025-02-23T04:45:44.508491Z"
    },
    "papermill": {
     "duration": 0.046529,
     "end_time": "2025-02-23T04:45:44.511320",
     "exception": false,
     "start_time": "2025-02-23T04:45:44.464791",
     "status": "completed"
    },
    "tags": []
   },
   "outputs": [],
   "source": [
    "max_runtime = movies_df['runtime'].quantile(0.99)\n",
    "movies_df = movies_df[(movies_df['runtime'] >= 30) & (movies_df['runtime'] <= max_runtime)]"
   ]
  },
  {
   "cell_type": "code",
   "execution_count": 33,
   "id": "38d0c8ea",
   "metadata": {
    "execution": {
     "iopub.execute_input": "2025-02-23T04:45:44.552168Z",
     "iopub.status.busy": "2025-02-23T04:45:44.551761Z",
     "iopub.status.idle": "2025-02-23T04:45:44.573358Z",
     "shell.execute_reply": "2025-02-23T04:45:44.572249Z"
    },
    "papermill": {
     "duration": 0.044301,
     "end_time": "2025-02-23T04:45:44.575408",
     "exception": false,
     "start_time": "2025-02-23T04:45:44.531107",
     "status": "completed"
    },
    "tags": []
   },
   "outputs": [],
   "source": [
    "movies_df = movies_df[movies_df['vote_count'] >= 5]\n",
    "\n",
    "movies_df['vote_count'] = np.log1p(movies_df['vote_count']) "
   ]
  },
  {
   "cell_type": "code",
   "execution_count": 34,
   "id": "3d548c31",
   "metadata": {
    "execution": {
     "iopub.execute_input": "2025-02-23T04:45:44.616861Z",
     "iopub.status.busy": "2025-02-23T04:45:44.616527Z",
     "iopub.status.idle": "2025-02-23T04:45:44.642149Z",
     "shell.execute_reply": "2025-02-23T04:45:44.641073Z"
    },
    "papermill": {
     "duration": 0.048096,
     "end_time": "2025-02-23T04:45:44.643808",
     "exception": false,
     "start_time": "2025-02-23T04:45:44.595712",
     "status": "completed"
    },
    "tags": []
   },
   "outputs": [
    {
     "data": {
      "text/html": [
       "<div>\n",
       "<style scoped>\n",
       "    .dataframe tbody tr th:only-of-type {\n",
       "        vertical-align: middle;\n",
       "    }\n",
       "\n",
       "    .dataframe tbody tr th {\n",
       "        vertical-align: top;\n",
       "    }\n",
       "\n",
       "    .dataframe thead th {\n",
       "        text-align: right;\n",
       "    }\n",
       "</style>\n",
       "<table border=\"1\" class=\"dataframe\">\n",
       "  <thead>\n",
       "    <tr style=\"text-align: right;\">\n",
       "      <th></th>\n",
       "      <th>adult</th>\n",
       "      <th>belongs_to_collection</th>\n",
       "      <th>budget</th>\n",
       "      <th>genres</th>\n",
       "      <th>homepage</th>\n",
       "      <th>id</th>\n",
       "      <th>imdb_id</th>\n",
       "      <th>original_language</th>\n",
       "      <th>original_title</th>\n",
       "      <th>overview</th>\n",
       "      <th>popularity</th>\n",
       "      <th>poster_path</th>\n",
       "      <th>production_companies</th>\n",
       "      <th>production_countries</th>\n",
       "      <th>release_date</th>\n",
       "      <th>revenue</th>\n",
       "      <th>runtime</th>\n",
       "      <th>spoken_languages</th>\n",
       "      <th>status</th>\n",
       "      <th>tagline</th>\n",
       "      <th>title</th>\n",
       "      <th>video</th>\n",
       "      <th>vote_average</th>\n",
       "      <th>vote_count</th>\n",
       "      <th>year</th>\n",
       "      <th>release_year</th>\n",
       "      <th>populairty</th>\n",
       "    </tr>\n",
       "  </thead>\n",
       "  <tbody>\n",
       "    <tr>\n",
       "      <th>0</th>\n",
       "      <td>False</td>\n",
       "      <td>{'id': 10194, 'name': 'Toy Story Collection', ...</td>\n",
       "      <td>17.216708</td>\n",
       "      <td>[{'id': 16, 'name': 'Animation'}, {'id': 35, '...</td>\n",
       "      <td>http://toystory.disney.com/toy-story</td>\n",
       "      <td>862</td>\n",
       "      <td>tt0114709</td>\n",
       "      <td>en</td>\n",
       "      <td>Toy Story</td>\n",
       "      <td>Led by Woody, Andy's toys live happily in his ...</td>\n",
       "      <td>17.001435</td>\n",
       "      <td>/rhIRbceoE9lR4veEXuwCC2wARtG.jpg</td>\n",
       "      <td>[{'name': 'Pixar Animation Studios', 'id': 3}]</td>\n",
       "      <td>[{'iso_3166_1': 'US', 'name': 'United States o...</td>\n",
       "      <td>1995-10-30</td>\n",
       "      <td>19.738573</td>\n",
       "      <td>81.0</td>\n",
       "      <td>[{'iso_639_1': 'en', 'name': 'English'}]</td>\n",
       "      <td>7.7</td>\n",
       "      <td></td>\n",
       "      <td>Toy Story</td>\n",
       "      <td>False</td>\n",
       "      <td>7.7</td>\n",
       "      <td>8.597113</td>\n",
       "      <td>1995</td>\n",
       "      <td>1995</td>\n",
       "      <td>3.133185</td>\n",
       "    </tr>\n",
       "    <tr>\n",
       "      <th>1</th>\n",
       "      <td>False</td>\n",
       "      <td></td>\n",
       "      <td>17.989898</td>\n",
       "      <td>[{'id': 12, 'name': 'Adventure'}, {'id': 14, '...</td>\n",
       "      <td></td>\n",
       "      <td>8844</td>\n",
       "      <td>tt0113497</td>\n",
       "      <td>en</td>\n",
       "      <td>Jumanji</td>\n",
       "      <td>When siblings Judy and Peter discover an encha...</td>\n",
       "      <td>17.001435</td>\n",
       "      <td>/vzmL6fP7aPKNKPRTFnZmiUfciyV.jpg</td>\n",
       "      <td>[{'name': 'TriStar Pictures', 'id': 559}, {'na...</td>\n",
       "      <td>[{'iso_3166_1': 'US', 'name': 'United States o...</td>\n",
       "      <td>1995-12-15</td>\n",
       "      <td>19.386893</td>\n",
       "      <td>104.0</td>\n",
       "      <td>[{'iso_639_1': 'en', 'name': 'English'}, {'iso...</td>\n",
       "      <td>6.9</td>\n",
       "      <td>Roll the dice and unleash the excitement!</td>\n",
       "      <td>Jumanji</td>\n",
       "      <td>False</td>\n",
       "      <td>6.9</td>\n",
       "      <td>7.789040</td>\n",
       "      <td>1995</td>\n",
       "      <td>1995</td>\n",
       "      <td>2.891235</td>\n",
       "    </tr>\n",
       "    <tr>\n",
       "      <th>2</th>\n",
       "      <td>False</td>\n",
       "      <td>{'id': 119050, 'name': 'Grumpy Old Men Collect...</td>\n",
       "      <td>0.000000</td>\n",
       "      <td>[{'id': 10749, 'name': 'Romance'}, {'id': 35, ...</td>\n",
       "      <td></td>\n",
       "      <td>15602</td>\n",
       "      <td>tt0113228</td>\n",
       "      <td>en</td>\n",
       "      <td>Grumpier Old Men</td>\n",
       "      <td>A family wedding reignites the ancient feud be...</td>\n",
       "      <td>11.712900</td>\n",
       "      <td>/6ksm1sjKMFLbO7UY2i6G1ju9SML.jpg</td>\n",
       "      <td>[{'name': 'Warner Bros.', 'id': 6194}, {'name'...</td>\n",
       "      <td>[{'iso_3166_1': 'US', 'name': 'United States o...</td>\n",
       "      <td>1995-12-22</td>\n",
       "      <td>0.000000</td>\n",
       "      <td>101.0</td>\n",
       "      <td>[{'iso_639_1': 'en', 'name': 'English'}]</td>\n",
       "      <td>6.5</td>\n",
       "      <td>Still Yelling. Still Fighting. Still Ready for...</td>\n",
       "      <td>Grumpier Old Men</td>\n",
       "      <td>False</td>\n",
       "      <td>6.5</td>\n",
       "      <td>4.532599</td>\n",
       "      <td>1995</td>\n",
       "      <td>1995</td>\n",
       "      <td>2.542617</td>\n",
       "    </tr>\n",
       "    <tr>\n",
       "      <th>3</th>\n",
       "      <td>False</td>\n",
       "      <td></td>\n",
       "      <td>16.588099</td>\n",
       "      <td>[{'id': 35, 'name': 'Comedy'}, {'id': 18, 'nam...</td>\n",
       "      <td></td>\n",
       "      <td>31357</td>\n",
       "      <td>tt0114885</td>\n",
       "      <td>en</td>\n",
       "      <td>Waiting to Exhale</td>\n",
       "      <td>Cheated on, mistreated and stepped on, the wom...</td>\n",
       "      <td>3.859495</td>\n",
       "      <td>/16XOMpEaLWkrcPqSQqhTmeJuqQl.jpg</td>\n",
       "      <td>[{'name': 'Twentieth Century Fox Film Corporat...</td>\n",
       "      <td>[{'iso_3166_1': 'US', 'name': 'United States o...</td>\n",
       "      <td>1995-12-22</td>\n",
       "      <td>18.215526</td>\n",
       "      <td>127.0</td>\n",
       "      <td>[{'iso_639_1': 'en', 'name': 'English'}]</td>\n",
       "      <td>6.1</td>\n",
       "      <td>Friends are the people who let you be yourself...</td>\n",
       "      <td>Waiting to Exhale</td>\n",
       "      <td>False</td>\n",
       "      <td>6.1</td>\n",
       "      <td>3.555348</td>\n",
       "      <td>1995</td>\n",
       "      <td>1995</td>\n",
       "      <td>1.580935</td>\n",
       "    </tr>\n",
       "    <tr>\n",
       "      <th>4</th>\n",
       "      <td>False</td>\n",
       "      <td>{'id': 96871, 'name': 'Father of the Bride Col...</td>\n",
       "      <td>0.000000</td>\n",
       "      <td>[{'id': 35, 'name': 'Comedy'}]</td>\n",
       "      <td></td>\n",
       "      <td>11862</td>\n",
       "      <td>tt0113041</td>\n",
       "      <td>en</td>\n",
       "      <td>Father of the Bride Part II</td>\n",
       "      <td>Just when George Banks has recovered from his ...</td>\n",
       "      <td>8.387519</td>\n",
       "      <td>/e64sOI48hQXyru7naBFyssKFxVd.jpg</td>\n",
       "      <td>[{'name': 'Sandollar Productions', 'id': 5842}...</td>\n",
       "      <td>[{'iso_3166_1': 'US', 'name': 'United States o...</td>\n",
       "      <td>1995-02-10</td>\n",
       "      <td>18.153832</td>\n",
       "      <td>106.0</td>\n",
       "      <td>[{'iso_639_1': 'en', 'name': 'English'}]</td>\n",
       "      <td>5.7</td>\n",
       "      <td>Just When His World Is Back To Normal... He's ...</td>\n",
       "      <td>Father of the Bride Part II</td>\n",
       "      <td>False</td>\n",
       "      <td>5.7</td>\n",
       "      <td>5.159055</td>\n",
       "      <td>1995</td>\n",
       "      <td>1995</td>\n",
       "      <td>2.239381</td>\n",
       "    </tr>\n",
       "  </tbody>\n",
       "</table>\n",
       "</div>"
      ],
      "text/plain": [
       "   adult                              belongs_to_collection     budget  \\\n",
       "0  False  {'id': 10194, 'name': 'Toy Story Collection', ...  17.216708   \n",
       "1  False                                                     17.989898   \n",
       "2  False  {'id': 119050, 'name': 'Grumpy Old Men Collect...   0.000000   \n",
       "3  False                                                     16.588099   \n",
       "4  False  {'id': 96871, 'name': 'Father of the Bride Col...   0.000000   \n",
       "\n",
       "                                              genres  \\\n",
       "0  [{'id': 16, 'name': 'Animation'}, {'id': 35, '...   \n",
       "1  [{'id': 12, 'name': 'Adventure'}, {'id': 14, '...   \n",
       "2  [{'id': 10749, 'name': 'Romance'}, {'id': 35, ...   \n",
       "3  [{'id': 35, 'name': 'Comedy'}, {'id': 18, 'nam...   \n",
       "4                     [{'id': 35, 'name': 'Comedy'}]   \n",
       "\n",
       "                               homepage     id    imdb_id original_language  \\\n",
       "0  http://toystory.disney.com/toy-story    862  tt0114709                en   \n",
       "1                                         8844  tt0113497                en   \n",
       "2                                        15602  tt0113228                en   \n",
       "3                                        31357  tt0114885                en   \n",
       "4                                        11862  tt0113041                en   \n",
       "\n",
       "                original_title  \\\n",
       "0                    Toy Story   \n",
       "1                      Jumanji   \n",
       "2             Grumpier Old Men   \n",
       "3            Waiting to Exhale   \n",
       "4  Father of the Bride Part II   \n",
       "\n",
       "                                            overview  popularity  \\\n",
       "0  Led by Woody, Andy's toys live happily in his ...   17.001435   \n",
       "1  When siblings Judy and Peter discover an encha...   17.001435   \n",
       "2  A family wedding reignites the ancient feud be...   11.712900   \n",
       "3  Cheated on, mistreated and stepped on, the wom...    3.859495   \n",
       "4  Just when George Banks has recovered from his ...    8.387519   \n",
       "\n",
       "                        poster_path  \\\n",
       "0  /rhIRbceoE9lR4veEXuwCC2wARtG.jpg   \n",
       "1  /vzmL6fP7aPKNKPRTFnZmiUfciyV.jpg   \n",
       "2  /6ksm1sjKMFLbO7UY2i6G1ju9SML.jpg   \n",
       "3  /16XOMpEaLWkrcPqSQqhTmeJuqQl.jpg   \n",
       "4  /e64sOI48hQXyru7naBFyssKFxVd.jpg   \n",
       "\n",
       "                                production_companies  \\\n",
       "0     [{'name': 'Pixar Animation Studios', 'id': 3}]   \n",
       "1  [{'name': 'TriStar Pictures', 'id': 559}, {'na...   \n",
       "2  [{'name': 'Warner Bros.', 'id': 6194}, {'name'...   \n",
       "3  [{'name': 'Twentieth Century Fox Film Corporat...   \n",
       "4  [{'name': 'Sandollar Productions', 'id': 5842}...   \n",
       "\n",
       "                                production_countries release_date    revenue  \\\n",
       "0  [{'iso_3166_1': 'US', 'name': 'United States o...   1995-10-30  19.738573   \n",
       "1  [{'iso_3166_1': 'US', 'name': 'United States o...   1995-12-15  19.386893   \n",
       "2  [{'iso_3166_1': 'US', 'name': 'United States o...   1995-12-22   0.000000   \n",
       "3  [{'iso_3166_1': 'US', 'name': 'United States o...   1995-12-22  18.215526   \n",
       "4  [{'iso_3166_1': 'US', 'name': 'United States o...   1995-02-10  18.153832   \n",
       "\n",
       "   runtime                                   spoken_languages  status  \\\n",
       "0     81.0           [{'iso_639_1': 'en', 'name': 'English'}]     7.7   \n",
       "1    104.0  [{'iso_639_1': 'en', 'name': 'English'}, {'iso...     6.9   \n",
       "2    101.0           [{'iso_639_1': 'en', 'name': 'English'}]     6.5   \n",
       "3    127.0           [{'iso_639_1': 'en', 'name': 'English'}]     6.1   \n",
       "4    106.0           [{'iso_639_1': 'en', 'name': 'English'}]     5.7   \n",
       "\n",
       "                                             tagline  \\\n",
       "0                                                      \n",
       "1          Roll the dice and unleash the excitement!   \n",
       "2  Still Yelling. Still Fighting. Still Ready for...   \n",
       "3  Friends are the people who let you be yourself...   \n",
       "4  Just When His World Is Back To Normal... He's ...   \n",
       "\n",
       "                         title  video  vote_average  vote_count  year  \\\n",
       "0                    Toy Story  False           7.7    8.597113  1995   \n",
       "1                      Jumanji  False           6.9    7.789040  1995   \n",
       "2             Grumpier Old Men  False           6.5    4.532599  1995   \n",
       "3            Waiting to Exhale  False           6.1    3.555348  1995   \n",
       "4  Father of the Bride Part II  False           5.7    5.159055  1995   \n",
       "\n",
       "   release_year  populairty  \n",
       "0          1995    3.133185  \n",
       "1          1995    2.891235  \n",
       "2          1995    2.542617  \n",
       "3          1995    1.580935  \n",
       "4          1995    2.239381  "
      ]
     },
     "execution_count": 34,
     "metadata": {},
     "output_type": "execute_result"
    }
   ],
   "source": [
    "movies_df.head(5)"
   ]
  },
  {
   "cell_type": "code",
   "execution_count": 35,
   "id": "cd844998",
   "metadata": {
    "execution": {
     "iopub.execute_input": "2025-02-23T04:45:44.685779Z",
     "iopub.status.busy": "2025-02-23T04:45:44.685406Z",
     "iopub.status.idle": "2025-02-23T04:45:44.906461Z",
     "shell.execute_reply": "2025-02-23T04:45:44.905425Z"
    },
    "papermill": {
     "duration": 0.243896,
     "end_time": "2025-02-23T04:45:44.908351",
     "exception": false,
     "start_time": "2025-02-23T04:45:44.664455",
     "status": "completed"
    },
    "tags": []
   },
   "outputs": [
    {
     "data": {
      "image/png": "[encoded data removed]",
      "text/plain": [
       "<Figure size 1000x600 with 2 Axes>"
      ]
     },
     "metadata": {},
     "output_type": "display_data"
    }
   ],
   "source": [
    "attributes = ['budget', 'revenue', 'popularity']\n",
    "plt.figure(figsize=(10, 6))\n",
    "sns.heatmap(movies_df[attributes].corr(), annot=True, cmap='coolwarm')\n",
    "plt.title(\"Correlation\")\n",
    "plt.show()"
   ]
  },
  {
   "cell_type": "code",
   "execution_count": 36,
   "id": "c7ba8499",
   "metadata": {
    "execution": {
     "iopub.execute_input": "2025-02-23T04:45:44.951708Z",
     "iopub.status.busy": "2025-02-23T04:45:44.951349Z",
     "iopub.status.idle": "2025-02-23T04:45:44.961492Z",
     "shell.execute_reply": "2025-02-23T04:45:44.960195Z"
    },
    "papermill": {
     "duration": 0.033853,
     "end_time": "2025-02-23T04:45:44.963370",
     "exception": false,
     "start_time": "2025-02-23T04:45:44.929517",
     "status": "completed"
    },
    "tags": []
   },
   "outputs": [
    {
     "name": "stdout",
     "output_type": "stream",
     "text": [
      "           budget   revenue\n",
      "budget   1.000000  0.656052\n",
      "revenue  0.656052  1.000000\n"
     ]
    }
   ],
   "source": [
    "correlation = movies_df[['budget', 'revenue']].corr()\n",
    "print(correlation)"
   ]
  },
  {
   "cell_type": "code",
   "execution_count": 37,
   "id": "36f854e3",
   "metadata": {
    "execution": {
     "iopub.execute_input": "2025-02-23T04:45:45.006226Z",
     "iopub.status.busy": "2025-02-23T04:45:45.005846Z",
     "iopub.status.idle": "2025-02-23T04:45:45.701329Z",
     "shell.execute_reply": "2025-02-23T04:45:45.700204Z"
    },
    "papermill": {
     "duration": 0.718675,
     "end_time": "2025-02-23T04:45:45.702936",
     "exception": false,
     "start_time": "2025-02-23T04:45:44.984261",
     "status": "completed"
    },
    "tags": []
   },
   "outputs": [
    {
     "name": "stdout",
     "output_type": "stream",
     "text": [
      "0\n",
      "[{'id': 16, 'name': 'Animation'}, {'id': 35, 'name': 'Comedy'}, {'id': 10751, 'name': 'Family'}]\n"
     ]
    }
   ],
   "source": [
    "print(movies_df['genres'].isnull().sum())\n",
    "col = movies_df['genres']\n",
    "movies_df['genres'] = movies_df['genres'].apply(eval)\n",
    "print(col[0])"
   ]
  },
  {
   "cell_type": "code",
   "execution_count": 38,
   "id": "9e6dd587",
   "metadata": {
    "execution": {
     "iopub.execute_input": "2025-02-23T04:45:45.746044Z",
     "iopub.status.busy": "2025-02-23T04:45:45.745676Z",
     "iopub.status.idle": "2025-02-23T04:45:45.888419Z",
     "shell.execute_reply": "2025-02-23T04:45:45.887395Z"
    },
    "papermill": {
     "duration": 0.166435,
     "end_time": "2025-02-23T04:45:45.890237",
     "exception": false,
     "start_time": "2025-02-23T04:45:45.723802",
     "status": "completed"
    },
    "tags": []
   },
   "outputs": [],
   "source": [
    "genre_list = []\n",
    "movies_df['genres']\n",
    "i = 0\n",
    "for genres in movies_df['genres']:\n",
    "    genre_once = []\n",
    "    for genre in genres:\n",
    "        genre_once.append(genre['name'])\n",
    "    genre_list.append(genre_once)\n",
    "        \n"
   ]
  },
  {
   "cell_type": "code",
   "execution_count": 39,
   "id": "25927aed",
   "metadata": {
    "execution": {
     "iopub.execute_input": "2025-02-23T04:45:45.934179Z",
     "iopub.status.busy": "2025-02-23T04:45:45.933771Z",
     "iopub.status.idle": "2025-02-23T04:45:45.966254Z",
     "shell.execute_reply": "2025-02-23T04:45:45.964870Z"
    },
    "papermill": {
     "duration": 0.056601,
     "end_time": "2025-02-23T04:45:45.967856",
     "exception": false,
     "start_time": "2025-02-23T04:45:45.911255",
     "status": "completed"
    },
    "tags": []
   },
   "outputs": [
    {
     "name": "stdout",
     "output_type": "stream",
     "text": [
      "Drama                                    14123\n",
      "Comedy                                    9311\n",
      "Thriller                                  6205\n",
      "Action                                    5241\n",
      "Romance                                   4815\n",
      "Horror                                    3906\n",
      "Crime                                     3313\n",
      "Adventure                                 2776\n",
      "Science Fiction                           2449\n",
      "Family                                    2097\n",
      "Mystery                                   1903\n",
      "Fantasy                                   1800\n",
      "Documentary                               1703\n",
      "Animation                                 1223\n",
      "Music                                      992\n",
      "History                                    966\n",
      "Foreign                                    934\n",
      "War                                        898\n",
      "Western                                    647\n",
      "TV Movie                                   475\n",
      "Mardock Scramble Production Committee        1\n",
      "Rogue State                                  1\n",
      "Pulser Productions                           1\n",
      "Odyssey Media                                1\n",
      "Sentai Filmworks                             1\n",
      "Aniplex                                      1\n",
      "BROSTA TV                                    1\n",
      "GoHands                                      1\n",
      "Telescene Film Group Productions             1\n",
      "Vision View Entertainment                    1\n",
      "Carousel Productions                         1\n",
      "The Cartel                                   1\n",
      "Name: count, dtype: int64\n"
     ]
    }
   ],
   "source": [
    "all_genres = []\n",
    "for genre_list in movies_df['genres']:\n",
    "    for genre in genre_list:\n",
    "        all_genres.append(genre['name'])\n",
    "genre_counts = pd.Series(all_genres).value_counts()\n",
    "print(genre_counts)"
   ]
  },
  {
   "cell_type": "code",
   "execution_count": 40,
   "id": "6b15daf7",
   "metadata": {
    "execution": {
     "iopub.execute_input": "2025-02-23T04:45:46.011414Z",
     "iopub.status.busy": "2025-02-23T04:45:46.011002Z",
     "iopub.status.idle": "2025-02-23T04:45:46.022366Z",
     "shell.execute_reply": "2025-02-23T04:45:46.021247Z"
    },
    "papermill": {
     "duration": 0.034981,
     "end_time": "2025-02-23T04:45:46.023996",
     "exception": false,
     "start_time": "2025-02-23T04:45:45.989015",
     "status": "completed"
    },
    "tags": []
   },
   "outputs": [
    {
     "name": "stdout",
     "output_type": "stream",
     "text": [
      "['Action', 'Adventure', 'Animation', 'Aniplex', 'BROSTA TV', 'Carousel Productions', 'Comedy', 'Crime', 'Documentary', 'Drama', 'Family', 'Fantasy', 'Foreign', 'GoHands', 'History', 'Horror', 'Mardock Scramble Production Committee', 'Music', 'Mystery', 'Odyssey Media', 'Pulser Productions', 'Rogue State', 'Romance', 'Science Fiction', 'Sentai Filmworks', 'TV Movie', 'Telescene Film Group Productions', 'The Cartel', 'Thriller', 'Vision View Entertainment', 'War', 'Western']\n"
     ]
    }
   ],
   "source": [
    "available_genres = set()\n",
    "for genre in all_genres:\n",
    "   if genre not in available_genres:\n",
    "        available_genres.add(genre)\n",
    "available_genres = sorted(list(available_genres))\n",
    "print(available_genres)"
   ]
  },
  {
   "cell_type": "code",
   "execution_count": 41,
   "id": "28ac0c97",
   "metadata": {
    "execution": {
     "iopub.execute_input": "2025-02-23T04:45:46.068527Z",
     "iopub.status.busy": "2025-02-23T04:45:46.068160Z",
     "iopub.status.idle": "2025-02-23T04:45:52.820619Z",
     "shell.execute_reply": "2025-02-23T04:45:52.819479Z"
    },
    "papermill": {
     "duration": 6.777783,
     "end_time": "2025-02-23T04:45:52.823612",
     "exception": false,
     "start_time": "2025-02-23T04:45:46.045829",
     "status": "completed"
    },
    "tags": []
   },
   "outputs": [
    {
     "data": {
      "image/png": "[encoded data removed]",
      "text/plain": [
       "<Figure size 2000x1200 with 1 Axes>"
      ]
     },
     "metadata": {},
     "output_type": "display_data"
    }
   ],
   "source": [
    "plt.figure(figsize=(20, 12))\n",
    "sns.barplot(x=genre_counts.index, y=genre_counts.values)\n",
    "plt.xticks(rotation=60)\n",
    "plt.title(\"Most Common Genres\")\n",
    "plt.xlabel(\"Genre\")\n",
    "plt.ylabel(\"Count\")\n",
    "plt.savefig(\"bar graph of most common genres.png\", dpi =700)\n",
    "plt.show()\n"
   ]
  },
  {
   "cell_type": "code",
   "execution_count": 42,
   "id": "ce683da6",
   "metadata": {
    "execution": {
     "iopub.execute_input": "2025-02-23T04:45:52.875022Z",
     "iopub.status.busy": "2025-02-23T04:45:52.874665Z",
     "iopub.status.idle": "2025-02-23T04:45:53.635294Z",
     "shell.execute_reply": "2025-02-23T04:45:53.634328Z"
    },
    "papermill": {
     "duration": 0.787929,
     "end_time": "2025-02-23T04:45:53.637265",
     "exception": false,
     "start_time": "2025-02-23T04:45:52.849336",
     "status": "completed"
    },
    "tags": []
   },
   "outputs": [],
   "source": [
    "movies_df['production_comapnies'] = movies_df['production_companies'].apply(lambda x: eval(x) if isinstance(x, str) else x)\n",
    "\n",
    "# Chat GPT Code\n",
    "movies_df['production_companies'] = movies_df['production_comapnies'].apply(lambda x: [] if isinstance(x, bool) else x)"
   ]
  },
  {
   "cell_type": "code",
   "execution_count": 43,
   "id": "0f95f925",
   "metadata": {
    "execution": {
     "iopub.execute_input": "2025-02-23T04:45:53.686335Z",
     "iopub.status.busy": "2025-02-23T04:45:53.685930Z",
     "iopub.status.idle": "2025-02-23T04:45:53.756096Z",
     "shell.execute_reply": "2025-02-23T04:45:53.754924Z"
    },
    "papermill": {
     "duration": 0.096569,
     "end_time": "2025-02-23T04:45:53.757874",
     "exception": false,
     "start_time": "2025-02-23T04:45:53.661305",
     "status": "completed"
    },
    "tags": []
   },
   "outputs": [
    {
     "name": "stdout",
     "output_type": "stream",
     "text": [
      "Warner Bros.                              939\n",
      "Paramount Pictures                        803\n",
      "Universal Pictures                        753\n",
      "Twentieth Century Fox Film Corporation    665\n",
      "Metro-Goldwyn-Mayer (MGM)                 628\n",
      "                                         ... \n",
      "Beacon Classics                             1\n",
      "98 MPH Productions                          1\n",
      "Runaway Fridge TV                           1\n",
      "Yorkshire Television (YTV)                  1\n",
      "American World Pictures                     1\n",
      "Name: count, Length: 19155, dtype: int64\n"
     ]
    }
   ],
   "source": [
    "Production = []\n",
    "movies_df['production_companies']\n",
    "for prods in movies_df['production_companies']:\n",
    "    prod_once = []\n",
    "    for prod in prods:\n",
    "        prod_once.append(prod['name'])\n",
    "    Production.append(prod_once)\n",
    "\n",
    "all_productions = []\n",
    "for prods in movies_df['production_companies']:\n",
    "    for prod in prods:\n",
    "        all_productions.append(prod['name'])\n",
    "prod_counts = pd.Series(all_productions).value_counts()\n",
    "print(prod_counts)\n",
    "\n"
   ]
  },
  {
   "cell_type": "code",
   "execution_count": 44,
   "id": "ec62b182",
   "metadata": {
    "execution": {
     "iopub.execute_input": "2025-02-23T04:45:53.806737Z",
     "iopub.status.busy": "2025-02-23T04:45:53.806393Z",
     "iopub.status.idle": "2025-02-23T04:45:53.811149Z",
     "shell.execute_reply": "2025-02-23T04:45:53.810161Z"
    },
    "papermill": {
     "duration": 0.030937,
     "end_time": "2025-02-23T04:45:53.812928",
     "exception": false,
     "start_time": "2025-02-23T04:45:53.781991",
     "status": "completed"
    },
    "tags": []
   },
   "outputs": [],
   "source": [
    "limited_prods = prod_counts[prod_counts.values > 110]"
   ]
  },
  {
   "cell_type": "code",
   "execution_count": 45,
   "id": "2de19157",
   "metadata": {
    "execution": {
     "iopub.execute_input": "2025-02-23T04:45:53.861943Z",
     "iopub.status.busy": "2025-02-23T04:45:53.861558Z",
     "iopub.status.idle": "2025-02-23T04:46:00.382395Z",
     "shell.execute_reply": "2025-02-23T04:46:00.381257Z"
    },
    "papermill": {
     "duration": 6.54737,
     "end_time": "2025-02-23T04:46:00.384044",
     "exception": false,
     "start_time": "2025-02-23T04:45:53.836674",
     "status": "completed"
    },
    "tags": []
   },
   "outputs": [
    {
     "data": {
      "image/png": "[encoded data removed]",
      "text/plain": [
       "<Figure size 2000x1200 with 1 Axes>"
      ]
     },
     "metadata": {},
     "output_type": "display_data"
    }
   ],
   "source": [
    "plt.figure(figsize=(20, 12))\n",
    "sns.barplot(x=limited_prods.index.str.split().str[0], y=limited_prods.values)\n",
    "plt.xticks(rotation=60)\n",
    "plt.title(\"Most active Production companies\")\n",
    "plt.xlabel(\"Production House\")\n",
    "plt.ylabel(\"Movies Produced\")\n",
    "plt.savefig(\"Production_activity.png\", dpi=700)\n",
    "plt.show()\n"
   ]
  },
  {
   "cell_type": "code",
   "execution_count": 46,
   "id": "b8fa1f1b",
   "metadata": {
    "execution": {
     "iopub.execute_input": "2025-02-23T04:46:00.436264Z",
     "iopub.status.busy": "2025-02-23T04:46:00.435822Z",
     "iopub.status.idle": "2025-02-23T04:46:00.603242Z",
     "shell.execute_reply": "2025-02-23T04:46:00.602224Z"
    },
    "papermill": {
     "duration": 0.194931,
     "end_time": "2025-02-23T04:46:00.605243",
     "exception": false,
     "start_time": "2025-02-23T04:46:00.410312",
     "status": "completed"
    },
    "tags": []
   },
   "outputs": [],
   "source": [
    "from sklearn.preprocessing import MinMaxScaler\n",
    "\n",
    "scaler = MinMaxScaler()\n",
    "movies_df['normalized_budget'] = scaler.fit_transform(movies_df[['budget']])"
   ]
  },
  {
   "cell_type": "code",
   "execution_count": 47,
   "id": "d536dff3",
   "metadata": {
    "execution": {
     "iopub.execute_input": "2025-02-23T04:46:00.655802Z",
     "iopub.status.busy": "2025-02-23T04:46:00.655458Z",
     "iopub.status.idle": "2025-02-23T04:46:00.664122Z",
     "shell.execute_reply": "2025-02-23T04:46:00.663169Z"
    },
    "papermill": {
     "duration": 0.035807,
     "end_time": "2025-02-23T04:46:00.665745",
     "exception": false,
     "start_time": "2025-02-23T04:46:00.629938",
     "status": "completed"
    },
    "tags": []
   },
   "outputs": [],
   "source": [
    "movies_df['normalized_revenue'] = scaler.fit_transform(movies_df[['revenue']])"
   ]
  },
  {
   "cell_type": "code",
   "execution_count": 48,
   "id": "db4436a9",
   "metadata": {
    "execution": {
     "iopub.execute_input": "2025-02-23T04:46:00.715904Z",
     "iopub.status.busy": "2025-02-23T04:46:00.715548Z",
     "iopub.status.idle": "2025-02-23T04:46:00.723938Z",
     "shell.execute_reply": "2025-02-23T04:46:00.723081Z"
    },
    "papermill": {
     "duration": 0.03509,
     "end_time": "2025-02-23T04:46:00.725413",
     "exception": false,
     "start_time": "2025-02-23T04:46:00.690323",
     "status": "completed"
    },
    "tags": []
   },
   "outputs": [],
   "source": [
    "movies_df['normalized_popularity'] = scaler.fit_transform(movies_df[['popularity']])"
   ]
  },
  {
   "cell_type": "code",
   "execution_count": 49,
   "id": "c55f9318",
   "metadata": {
    "execution": {
     "iopub.execute_input": "2025-02-23T04:46:00.775939Z",
     "iopub.status.busy": "2025-02-23T04:46:00.775560Z",
     "iopub.status.idle": "2025-02-23T04:46:00.784173Z",
     "shell.execute_reply": "2025-02-23T04:46:00.783236Z"
    },
    "papermill": {
     "duration": 0.035667,
     "end_time": "2025-02-23T04:46:00.785846",
     "exception": false,
     "start_time": "2025-02-23T04:46:00.750179",
     "status": "completed"
    },
    "tags": []
   },
   "outputs": [],
   "source": [
    "movies_df['normalized_runtime'] = scaler.fit_transform(movies_df[['runtime']])"
   ]
  },
  {
   "cell_type": "code",
   "execution_count": 50,
   "id": "9ea97bb7",
   "metadata": {
    "execution": {
     "iopub.execute_input": "2025-02-23T04:46:00.836467Z",
     "iopub.status.busy": "2025-02-23T04:46:00.836053Z",
     "iopub.status.idle": "2025-02-23T04:46:00.844506Z",
     "shell.execute_reply": "2025-02-23T04:46:00.843609Z"
    },
    "papermill": {
     "duration": 0.035358,
     "end_time": "2025-02-23T04:46:00.846067",
     "exception": false,
     "start_time": "2025-02-23T04:46:00.810709",
     "status": "completed"
    },
    "tags": []
   },
   "outputs": [],
   "source": [
    "movies_df['normalized_vote_average'] = scaler.fit_transform(movies_df[['vote_average']])"
   ]
  },
  {
   "cell_type": "code",
   "execution_count": 51,
   "id": "358e9604",
   "metadata": {
    "execution": {
     "iopub.execute_input": "2025-02-23T04:46:00.896601Z",
     "iopub.status.busy": "2025-02-23T04:46:00.896237Z",
     "iopub.status.idle": "2025-02-23T04:46:04.208866Z",
     "shell.execute_reply": "2025-02-23T04:46:04.207791Z"
    },
    "papermill": {
     "duration": 3.340026,
     "end_time": "2025-02-23T04:46:04.210640",
     "exception": false,
     "start_time": "2025-02-23T04:46:00.870614",
     "status": "completed"
    },
    "tags": []
   },
   "outputs": [
    {
     "data": {
      "image/png": "[encoded data removed]",
      "text/plain": [
       "<Figure size 1300x900 with 2 Axes>"
      ]
     },
     "metadata": {},
     "output_type": "display_data"
    }
   ],
   "source": [
    "corr_matrix = movies_df[['normalized_budget', 'normalized_revenue', 'normalized_popularity', \n",
    "                         'normalized_runtime', 'normalized_vote_average']].corr()\n",
    "\n",
    "\n",
    "plt.figure(figsize=(13, 9))\n",
    "sns.heatmap(corr_matrix, annot=True, cmap='coolwarm', linewidths=0.5)\n",
    "plt.title('Correlation Heatmap of Normalized Features')\n",
    "plt.savefig(\"Correlatrion.png\", dpi =700)\n",
    "plt.tight_layout()\n",
    "plt.show()"
   ]
  },
  {
   "cell_type": "code",
   "execution_count": 52,
   "id": "169283eb",
   "metadata": {
    "execution": {
     "iopub.execute_input": "2025-02-23T04:46:04.266031Z",
     "iopub.status.busy": "2025-02-23T04:46:04.265674Z",
     "iopub.status.idle": "2025-02-23T04:46:04.281077Z",
     "shell.execute_reply": "2025-02-23T04:46:04.279876Z"
    },
    "papermill": {
     "duration": 0.045902,
     "end_time": "2025-02-23T04:46:04.282886",
     "exception": false,
     "start_time": "2025-02-23T04:46:04.236984",
     "status": "completed"
    },
    "tags": []
   },
   "outputs": [
    {
     "name": "stdout",
     "output_type": "stream",
     "text": [
      "                       title  vote_average  popularity\n",
      "25                   Othello           7.0    1.845899\n",
      "27                Persuasion           7.4    2.228434\n",
      "39  Cry, the Beloved Country           6.7    0.894647\n",
      "40               Richard III           6.9    4.561387\n",
      "52                  Lamerica           7.7    1.361286\n"
     ]
    }
   ],
   "source": [
    "underrated_movies = movies_df[(movies_df['normalized_vote_average'] > 0.7) & (movies_df['normalized_popularity'] < 0.3)]\n",
    "\n",
    "\n",
    "print(underrated_movies[['title', 'vote_average', 'popularity']].head(5))"
   ]
  },
  {
   "cell_type": "code",
   "execution_count": 53,
   "id": "fefa1d27",
   "metadata": {
    "execution": {
     "iopub.execute_input": "2025-02-23T04:46:04.335999Z",
     "iopub.status.busy": "2025-02-23T04:46:04.335644Z",
     "iopub.status.idle": "2025-02-23T04:46:18.880735Z",
     "shell.execute_reply": "2025-02-23T04:46:18.879792Z"
    },
    "papermill": {
     "duration": 14.574072,
     "end_time": "2025-02-23T04:46:18.882899",
     "exception": false,
     "start_time": "2025-02-23T04:46:04.308827",
     "status": "completed"
    },
    "tags": []
   },
   "outputs": [],
   "source": [
    "ratings_df = pd.read_csv(\"/kaggle/input/the-movies-dataset/ratings.csv\")"
   ]
  },
  {
   "cell_type": "code",
   "execution_count": 54,
   "id": "58382bf6",
   "metadata": {
    "execution": {
     "iopub.execute_input": "2025-02-23T04:46:18.936400Z",
     "iopub.status.busy": "2025-02-23T04:46:18.935959Z",
     "iopub.status.idle": "2025-02-23T04:46:18.945340Z",
     "shell.execute_reply": "2025-02-23T04:46:18.944208Z"
    },
    "papermill": {
     "duration": 0.037964,
     "end_time": "2025-02-23T04:46:18.946950",
     "exception": false,
     "start_time": "2025-02-23T04:46:18.908986",
     "status": "completed"
    },
    "tags": []
   },
   "outputs": [
    {
     "name": "stdout",
     "output_type": "stream",
     "text": [
      "<class 'pandas.core.frame.DataFrame'>\n",
      "RangeIndex: 26024289 entries, 0 to 26024288\n",
      "Data columns (total 4 columns):\n",
      " #   Column     Dtype  \n",
      "---  ------     -----  \n",
      " 0   userId     int64  \n",
      " 1   movieId    int64  \n",
      " 2   rating     float64\n",
      " 3   timestamp  int64  \n",
      "dtypes: float64(1), int64(3)\n",
      "memory usage: 794.2 MB\n"
     ]
    }
   ],
   "source": [
    "ratings_df.info()"
   ]
  },
  {
   "cell_type": "code",
   "execution_count": 55,
   "id": "30b6e70d",
   "metadata": {
    "execution": {
     "iopub.execute_input": "2025-02-23T04:46:19.000733Z",
     "iopub.status.busy": "2025-02-23T04:46:19.000344Z",
     "iopub.status.idle": "2025-02-23T04:46:19.035923Z",
     "shell.execute_reply": "2025-02-23T04:46:19.034790Z"
    },
    "papermill": {
     "duration": 0.064545,
     "end_time": "2025-02-23T04:46:19.037841",
     "exception": false,
     "start_time": "2025-02-23T04:46:18.973296",
     "status": "completed"
    },
    "tags": []
   },
   "outputs": [],
   "source": [
    "links = pd.read_csv(\"/kaggle/input/the-movies-dataset/links.csv\")"
   ]
  },
  {
   "cell_type": "code",
   "execution_count": 56,
   "id": "c857d9f2",
   "metadata": {
    "execution": {
     "iopub.execute_input": "2025-02-23T04:46:19.091072Z",
     "iopub.status.busy": "2025-02-23T04:46:19.090725Z",
     "iopub.status.idle": "2025-02-23T04:46:19.100289Z",
     "shell.execute_reply": "2025-02-23T04:46:19.099349Z"
    },
    "papermill": {
     "duration": 0.037787,
     "end_time": "2025-02-23T04:46:19.101799",
     "exception": false,
     "start_time": "2025-02-23T04:46:19.064012",
     "status": "completed"
    },
    "tags": []
   },
   "outputs": [
    {
     "data": {
      "text/html": [
       "<div>\n",
       "<style scoped>\n",
       "    .dataframe tbody tr th:only-of-type {\n",
       "        vertical-align: middle;\n",
       "    }\n",
       "\n",
       "    .dataframe tbody tr th {\n",
       "        vertical-align: top;\n",
       "    }\n",
       "\n",
       "    .dataframe thead th {\n",
       "        text-align: right;\n",
       "    }\n",
       "</style>\n",
       "<table border=\"1\" class=\"dataframe\">\n",
       "  <thead>\n",
       "    <tr style=\"text-align: right;\">\n",
       "      <th></th>\n",
       "      <th>movieId</th>\n",
       "      <th>imdbId</th>\n",
       "      <th>tmdbId</th>\n",
       "    </tr>\n",
       "  </thead>\n",
       "  <tbody>\n",
       "    <tr>\n",
       "      <th>0</th>\n",
       "      <td>1</td>\n",
       "      <td>114709</td>\n",
       "      <td>862.0</td>\n",
       "    </tr>\n",
       "    <tr>\n",
       "      <th>1</th>\n",
       "      <td>2</td>\n",
       "      <td>113497</td>\n",
       "      <td>8844.0</td>\n",
       "    </tr>\n",
       "    <tr>\n",
       "      <th>2</th>\n",
       "      <td>3</td>\n",
       "      <td>113228</td>\n",
       "      <td>15602.0</td>\n",
       "    </tr>\n",
       "    <tr>\n",
       "      <th>3</th>\n",
       "      <td>4</td>\n",
       "      <td>114885</td>\n",
       "      <td>31357.0</td>\n",
       "    </tr>\n",
       "    <tr>\n",
       "      <th>4</th>\n",
       "      <td>5</td>\n",
       "      <td>113041</td>\n",
       "      <td>11862.0</td>\n",
       "    </tr>\n",
       "  </tbody>\n",
       "</table>\n",
       "</div>"
      ],
      "text/plain": [
       "   movieId  imdbId   tmdbId\n",
       "0        1  114709    862.0\n",
       "1        2  113497   8844.0\n",
       "2        3  113228  15602.0\n",
       "3        4  114885  31357.0\n",
       "4        5  113041  11862.0"
      ]
     },
     "execution_count": 56,
     "metadata": {},
     "output_type": "execute_result"
    }
   ],
   "source": [
    "links.head()"
   ]
  },
  {
   "cell_type": "code",
   "execution_count": 57,
   "id": "e8f1593f",
   "metadata": {
    "execution": {
     "iopub.execute_input": "2025-02-23T04:46:19.155282Z",
     "iopub.status.busy": "2025-02-23T04:46:19.154875Z",
     "iopub.status.idle": "2025-02-23T04:46:19.356246Z",
     "shell.execute_reply": "2025-02-23T04:46:19.355008Z"
    },
    "papermill": {
     "duration": 0.229992,
     "end_time": "2025-02-23T04:46:19.357907",
     "exception": false,
     "start_time": "2025-02-23T04:46:19.127915",
     "status": "completed"
    },
    "tags": []
   },
   "outputs": [
    {
     "name": "stdout",
     "output_type": "stream",
     "text": [
      "userId       0\n",
      "movieId      0\n",
      "rating       0\n",
      "timestamp    0\n",
      "dtype: int64\n"
     ]
    }
   ],
   "source": [
    "missing_values = ratings_df.isnull().sum()\n",
    "print(missing_values)"
   ]
  },
  {
   "cell_type": "code",
   "execution_count": 58,
   "id": "1b66e0c6",
   "metadata": {
    "execution": {
     "iopub.execute_input": "2025-02-23T04:46:19.411781Z",
     "iopub.status.busy": "2025-02-23T04:46:19.411446Z",
     "iopub.status.idle": "2025-02-23T04:46:19.418267Z",
     "shell.execute_reply": "2025-02-23T04:46:19.417210Z"
    },
    "papermill": {
     "duration": 0.035604,
     "end_time": "2025-02-23T04:46:19.419877",
     "exception": false,
     "start_time": "2025-02-23T04:46:19.384273",
     "status": "completed"
    },
    "tags": []
   },
   "outputs": [
    {
     "name": "stdout",
     "output_type": "stream",
     "text": [
      "movieId      0\n",
      "imdbId       0\n",
      "tmdbId     219\n",
      "dtype: int64\n"
     ]
    }
   ],
   "source": [
    "missing = links.isnull().sum()\n",
    "print(missing)"
   ]
  },
  {
   "cell_type": "code",
   "execution_count": 59,
   "id": "1e0e8d03",
   "metadata": {
    "execution": {
     "iopub.execute_input": "2025-02-23T04:46:19.472821Z",
     "iopub.status.busy": "2025-02-23T04:46:19.472489Z",
     "iopub.status.idle": "2025-02-23T04:46:20.421524Z",
     "shell.execute_reply": "2025-02-23T04:46:20.420416Z"
    },
    "papermill": {
     "duration": 0.977396,
     "end_time": "2025-02-23T04:46:20.423296",
     "exception": false,
     "start_time": "2025-02-23T04:46:19.445900",
     "status": "completed"
    },
    "tags": []
   },
   "outputs": [
    {
     "data": {
      "text/html": [
       "<div>\n",
       "<style scoped>\n",
       "    .dataframe tbody tr th:only-of-type {\n",
       "        vertical-align: middle;\n",
       "    }\n",
       "\n",
       "    .dataframe tbody tr th {\n",
       "        vertical-align: top;\n",
       "    }\n",
       "\n",
       "    .dataframe thead th {\n",
       "        text-align: right;\n",
       "    }\n",
       "</style>\n",
       "<table border=\"1\" class=\"dataframe\">\n",
       "  <thead>\n",
       "    <tr style=\"text-align: right;\">\n",
       "      <th></th>\n",
       "      <th>movieId</th>\n",
       "      <th>avg_rating</th>\n",
       "      <th>num_reviews</th>\n",
       "    </tr>\n",
       "  </thead>\n",
       "  <tbody>\n",
       "    <tr>\n",
       "      <th>0</th>\n",
       "      <td>1</td>\n",
       "      <td>3.888157</td>\n",
       "      <td>66008</td>\n",
       "    </tr>\n",
       "    <tr>\n",
       "      <th>1</th>\n",
       "      <td>2</td>\n",
       "      <td>3.236953</td>\n",
       "      <td>26060</td>\n",
       "    </tr>\n",
       "    <tr>\n",
       "      <th>2</th>\n",
       "      <td>3</td>\n",
       "      <td>3.175550</td>\n",
       "      <td>15497</td>\n",
       "    </tr>\n",
       "    <tr>\n",
       "      <th>3</th>\n",
       "      <td>4</td>\n",
       "      <td>2.875713</td>\n",
       "      <td>2981</td>\n",
       "    </tr>\n",
       "    <tr>\n",
       "      <th>4</th>\n",
       "      <td>5</td>\n",
       "      <td>3.079565</td>\n",
       "      <td>15258</td>\n",
       "    </tr>\n",
       "    <tr>\n",
       "      <th>...</th>\n",
       "      <td>...</td>\n",
       "      <td>...</td>\n",
       "      <td>...</td>\n",
       "    </tr>\n",
       "    <tr>\n",
       "      <th>45110</th>\n",
       "      <td>176267</td>\n",
       "      <td>4.000000</td>\n",
       "      <td>1</td>\n",
       "    </tr>\n",
       "    <tr>\n",
       "      <th>45111</th>\n",
       "      <td>176269</td>\n",
       "      <td>3.500000</td>\n",
       "      <td>1</td>\n",
       "    </tr>\n",
       "    <tr>\n",
       "      <th>45112</th>\n",
       "      <td>176271</td>\n",
       "      <td>5.000000</td>\n",
       "      <td>1</td>\n",
       "    </tr>\n",
       "    <tr>\n",
       "      <th>45113</th>\n",
       "      <td>176273</td>\n",
       "      <td>1.000000</td>\n",
       "      <td>1</td>\n",
       "    </tr>\n",
       "    <tr>\n",
       "      <th>45114</th>\n",
       "      <td>176275</td>\n",
       "      <td>3.000000</td>\n",
       "      <td>1</td>\n",
       "    </tr>\n",
       "  </tbody>\n",
       "</table>\n",
       "<p>45115 rows × 3 columns</p>\n",
       "</div>"
      ],
      "text/plain": [
       "       movieId  avg_rating  num_reviews\n",
       "0            1    3.888157        66008\n",
       "1            2    3.236953        26060\n",
       "2            3    3.175550        15497\n",
       "3            4    2.875713         2981\n",
       "4            5    3.079565        15258\n",
       "...        ...         ...          ...\n",
       "45110   176267    4.000000            1\n",
       "45111   176269    3.500000            1\n",
       "45112   176271    5.000000            1\n",
       "45113   176273    1.000000            1\n",
       "45114   176275    3.000000            1\n",
       "\n",
       "[45115 rows x 3 columns]"
      ]
     },
     "execution_count": 59,
     "metadata": {},
     "output_type": "execute_result"
    }
   ],
   "source": [
    "#chatgpt Code - used to find the avg rating given by users to a Movie along with the number of reviews\n",
    "# Removes the prefix from imdb_id in the movies_metadeta dataset\n",
    "ratings_summary = ratings_df.groupby(\"movieId\")[\"rating\"].agg(avg_rating=\"mean\", num_reviews=\"count\").reset_index()\n",
    "movies_df[\"imdb_id\"] = movies_df[\"imdb_id\"].astype(str).str.replace(\"tt\", \"\", regex=False)\n",
    "movies_df[\"imdb_id\"] = pd.to_numeric(movies_df[\"imdb_id\"], errors=\"coerce\")\n",
    "ratings_summary"
   ]
  },
  {
   "cell_type": "code",
   "execution_count": 60,
   "id": "104ea922",
   "metadata": {
    "execution": {
     "iopub.execute_input": "2025-02-23T04:46:20.479759Z",
     "iopub.status.busy": "2025-02-23T04:46:20.479398Z",
     "iopub.status.idle": "2025-02-23T04:46:20.484474Z",
     "shell.execute_reply": "2025-02-23T04:46:20.483434Z"
    },
    "papermill": {
     "duration": 0.03538,
     "end_time": "2025-02-23T04:46:20.486157",
     "exception": false,
     "start_time": "2025-02-23T04:46:20.450777",
     "status": "completed"
    },
    "tags": []
   },
   "outputs": [],
   "source": [
    "links[\"imdbId\"] = pd.to_numeric(links[\"imdbId\"], errors=\"coerce\")\n"
   ]
  },
  {
   "cell_type": "code",
   "execution_count": 61,
   "id": "67ec2241",
   "metadata": {
    "execution": {
     "iopub.execute_input": "2025-02-23T04:46:20.542651Z",
     "iopub.status.busy": "2025-02-23T04:46:20.542184Z",
     "iopub.status.idle": "2025-02-23T04:46:20.647395Z",
     "shell.execute_reply": "2025-02-23T04:46:20.646207Z"
    },
    "papermill": {
     "duration": 0.135328,
     "end_time": "2025-02-23T04:46:20.649054",
     "exception": false,
     "start_time": "2025-02-23T04:46:20.513726",
     "status": "completed"
    },
    "tags": []
   },
   "outputs": [
    {
     "data": {
      "text/html": [
       "<div>\n",
       "<style scoped>\n",
       "    .dataframe tbody tr th:only-of-type {\n",
       "        vertical-align: middle;\n",
       "    }\n",
       "\n",
       "    .dataframe tbody tr th {\n",
       "        vertical-align: top;\n",
       "    }\n",
       "\n",
       "    .dataframe thead th {\n",
       "        text-align: right;\n",
       "    }\n",
       "</style>\n",
       "<table border=\"1\" class=\"dataframe\">\n",
       "  <thead>\n",
       "    <tr style=\"text-align: right;\">\n",
       "      <th></th>\n",
       "      <th>movieId</th>\n",
       "      <th>avg_rating</th>\n",
       "      <th>num_reviews</th>\n",
       "      <th>title</th>\n",
       "    </tr>\n",
       "  </thead>\n",
       "  <tbody>\n",
       "    <tr>\n",
       "      <th>0</th>\n",
       "      <td>1</td>\n",
       "      <td>3.888157</td>\n",
       "      <td>66008</td>\n",
       "      <td>Toy Story</td>\n",
       "    </tr>\n",
       "    <tr>\n",
       "      <th>1</th>\n",
       "      <td>2</td>\n",
       "      <td>3.236953</td>\n",
       "      <td>26060</td>\n",
       "      <td>Jumanji</td>\n",
       "    </tr>\n",
       "    <tr>\n",
       "      <th>2</th>\n",
       "      <td>3</td>\n",
       "      <td>3.175550</td>\n",
       "      <td>15497</td>\n",
       "      <td>Grumpier Old Men</td>\n",
       "    </tr>\n",
       "    <tr>\n",
       "      <th>3</th>\n",
       "      <td>4</td>\n",
       "      <td>2.875713</td>\n",
       "      <td>2981</td>\n",
       "      <td>Waiting to Exhale</td>\n",
       "    </tr>\n",
       "    <tr>\n",
       "      <th>4</th>\n",
       "      <td>5</td>\n",
       "      <td>3.079565</td>\n",
       "      <td>15258</td>\n",
       "      <td>Father of the Bride Part II</td>\n",
       "    </tr>\n",
       "  </tbody>\n",
       "</table>\n",
       "</div>"
      ],
      "text/plain": [
       "   movieId  avg_rating  num_reviews                        title\n",
       "0        1    3.888157        66008                    Toy Story\n",
       "1        2    3.236953        26060                      Jumanji\n",
       "2        3    3.175550        15497             Grumpier Old Men\n",
       "3        4    2.875713         2981            Waiting to Exhale\n",
       "4        5    3.079565        15258  Father of the Bride Part II"
      ]
     },
     "execution_count": 61,
     "metadata": {},
     "output_type": "execute_result"
    }
   ],
   "source": [
    "movies = links.merge(movies_df, left_on=\"imdbId\", right_on=\"imdb_id\", how=\"left\")[[\"movieId\", \"title\"]]\n",
    "movies_final = ratings_summary.merge(movies, on=\"movieId\", how=\"left\")\n",
    "movies_final.head()"
   ]
  },
  {
   "cell_type": "code",
   "execution_count": 62,
   "id": "3f824fbc",
   "metadata": {
    "execution": {
     "iopub.execute_input": "2025-02-23T04:46:20.706425Z",
     "iopub.status.busy": "2025-02-23T04:46:20.705991Z",
     "iopub.status.idle": "2025-02-23T04:46:20.742176Z",
     "shell.execute_reply": "2025-02-23T04:46:20.741125Z"
    },
    "papermill": {
     "duration": 0.06641,
     "end_time": "2025-02-23T04:46:20.743815",
     "exception": false,
     "start_time": "2025-02-23T04:46:20.677405",
     "status": "completed"
    },
    "tags": []
   },
   "outputs": [
    {
     "data": {
      "text/html": [
       "<div>\n",
       "<style scoped>\n",
       "    .dataframe tbody tr th:only-of-type {\n",
       "        vertical-align: middle;\n",
       "    }\n",
       "\n",
       "    .dataframe tbody tr th {\n",
       "        vertical-align: top;\n",
       "    }\n",
       "\n",
       "    .dataframe thead th {\n",
       "        text-align: right;\n",
       "    }\n",
       "</style>\n",
       "<table border=\"1\" class=\"dataframe\">\n",
       "  <thead>\n",
       "    <tr style=\"text-align: right;\">\n",
       "      <th></th>\n",
       "      <th>Unnamed: 0</th>\n",
       "      <th>ID</th>\n",
       "      <th>Title</th>\n",
       "      <th>Year</th>\n",
       "      <th>Age</th>\n",
       "      <th>Rotten Tomatoes</th>\n",
       "      <th>Netflix</th>\n",
       "      <th>Hulu</th>\n",
       "      <th>Prime Video</th>\n",
       "      <th>Disney+</th>\n",
       "      <th>Type</th>\n",
       "    </tr>\n",
       "  </thead>\n",
       "  <tbody>\n",
       "    <tr>\n",
       "      <th>0</th>\n",
       "      <td>0</td>\n",
       "      <td>1</td>\n",
       "      <td>The Irishman</td>\n",
       "      <td>2019</td>\n",
       "      <td>18+</td>\n",
       "      <td>98/100</td>\n",
       "      <td>1</td>\n",
       "      <td>0</td>\n",
       "      <td>0</td>\n",
       "      <td>0</td>\n",
       "      <td>0</td>\n",
       "    </tr>\n",
       "    <tr>\n",
       "      <th>1</th>\n",
       "      <td>1</td>\n",
       "      <td>2</td>\n",
       "      <td>Dangal</td>\n",
       "      <td>2016</td>\n",
       "      <td>7+</td>\n",
       "      <td>97/100</td>\n",
       "      <td>1</td>\n",
       "      <td>0</td>\n",
       "      <td>0</td>\n",
       "      <td>0</td>\n",
       "      <td>0</td>\n",
       "    </tr>\n",
       "    <tr>\n",
       "      <th>2</th>\n",
       "      <td>2</td>\n",
       "      <td>3</td>\n",
       "      <td>David Attenborough: A Life on Our Planet</td>\n",
       "      <td>2020</td>\n",
       "      <td>7+</td>\n",
       "      <td>95/100</td>\n",
       "      <td>1</td>\n",
       "      <td>0</td>\n",
       "      <td>0</td>\n",
       "      <td>0</td>\n",
       "      <td>0</td>\n",
       "    </tr>\n",
       "    <tr>\n",
       "      <th>3</th>\n",
       "      <td>3</td>\n",
       "      <td>4</td>\n",
       "      <td>Lagaan: Once Upon a Time in India</td>\n",
       "      <td>2001</td>\n",
       "      <td>7+</td>\n",
       "      <td>94/100</td>\n",
       "      <td>1</td>\n",
       "      <td>0</td>\n",
       "      <td>0</td>\n",
       "      <td>0</td>\n",
       "      <td>0</td>\n",
       "    </tr>\n",
       "    <tr>\n",
       "      <th>4</th>\n",
       "      <td>4</td>\n",
       "      <td>5</td>\n",
       "      <td>Roma</td>\n",
       "      <td>2018</td>\n",
       "      <td>18+</td>\n",
       "      <td>94/100</td>\n",
       "      <td>1</td>\n",
       "      <td>0</td>\n",
       "      <td>0</td>\n",
       "      <td>0</td>\n",
       "      <td>0</td>\n",
       "    </tr>\n",
       "  </tbody>\n",
       "</table>\n",
       "</div>"
      ],
      "text/plain": [
       "   Unnamed: 0  ID                                     Title  Year  Age  \\\n",
       "0           0   1                              The Irishman  2019  18+   \n",
       "1           1   2                                    Dangal  2016   7+   \n",
       "2           2   3  David Attenborough: A Life on Our Planet  2020   7+   \n",
       "3           3   4         Lagaan: Once Upon a Time in India  2001   7+   \n",
       "4           4   5                                      Roma  2018  18+   \n",
       "\n",
       "  Rotten Tomatoes  Netflix  Hulu  Prime Video  Disney+  Type  \n",
       "0          98/100        1     0            0        0     0  \n",
       "1          97/100        1     0            0        0     0  \n",
       "2          95/100        1     0            0        0     0  \n",
       "3          94/100        1     0            0        0     0  \n",
       "4          94/100        1     0            0        0     0  "
      ]
     },
     "execution_count": 62,
     "metadata": {},
     "output_type": "execute_result"
    }
   ],
   "source": [
    "ott_df = pd.read_csv('/kaggle/input/movies-on-netflix-prime-video-hulu-and-disney/MoviesOnStreamingPlatforms.csv')\n",
    "ott_df.head()"
   ]
  },
  {
   "cell_type": "code",
   "execution_count": 63,
   "id": "785bff13",
   "metadata": {
    "execution": {
     "iopub.execute_input": "2025-02-23T04:46:20.801169Z",
     "iopub.status.busy": "2025-02-23T04:46:20.800725Z",
     "iopub.status.idle": "2025-02-23T04:46:20.806166Z",
     "shell.execute_reply": "2025-02-23T04:46:20.805055Z"
    },
    "papermill": {
     "duration": 0.036205,
     "end_time": "2025-02-23T04:46:20.807832",
     "exception": false,
     "start_time": "2025-02-23T04:46:20.771627",
     "status": "completed"
    },
    "tags": []
   },
   "outputs": [],
   "source": [
    "service_counts = {\n",
    "    'Netflix': ott_df['Netflix'].sum(),\n",
    "    'Prime Video': ott_df['Prime Video'].sum(),\n",
    "    'Hulu': ott_df['Hulu'].sum(),\n",
    "    'Disney+': ott_df['Disney+'].sum(),\n",
    "}\n"
   ]
  },
  {
   "cell_type": "code",
   "execution_count": 64,
   "id": "522f4995",
   "metadata": {
    "execution": {
     "iopub.execute_input": "2025-02-23T04:46:20.864943Z",
     "iopub.status.busy": "2025-02-23T04:46:20.864576Z",
     "iopub.status.idle": "2025-02-23T04:46:22.085814Z",
     "shell.execute_reply": "2025-02-23T04:46:22.084607Z"
    },
    "papermill": {
     "duration": 1.252252,
     "end_time": "2025-02-23T04:46:22.087901",
     "exception": false,
     "start_time": "2025-02-23T04:46:20.835649",
     "status": "completed"
    },
    "tags": []
   },
   "outputs": [
    {
     "data": {
      "image/png": "[encoded data removed]",
      "text/plain": [
       "<Figure size 640x480 with 1 Axes>"
      ]
     },
     "metadata": {},
     "output_type": "display_data"
    }
   ],
   "source": [
    "plt.bar(service_counts.keys(), service_counts.values(), color=['blue', 'green', 'orange', 'red'])\n",
    "\n",
    "\n",
    "plt.xlabel('Streaming Service')\n",
    "plt.ylabel('Number of Movies')\n",
    "plt.title('Movies Available on Each Streaming Service')\n",
    "plt.savefig(\"Movies_streaming.png\", dpi =700)\n",
    "plt.show()"
   ]
  },
  {
   "cell_type": "code",
   "execution_count": 65,
   "id": "c4298c55",
   "metadata": {
    "execution": {
     "iopub.execute_input": "2025-02-23T04:46:22.147752Z",
     "iopub.status.busy": "2025-02-23T04:46:22.147367Z",
     "iopub.status.idle": "2025-02-23T04:46:22.177594Z",
     "shell.execute_reply": "2025-02-23T04:46:22.176473Z"
    },
    "papermill": {
     "duration": 0.062616,
     "end_time": "2025-02-23T04:46:22.179526",
     "exception": false,
     "start_time": "2025-02-23T04:46:22.116910",
     "status": "completed"
    },
    "tags": []
   },
   "outputs": [
    {
     "data": {
      "text/html": [
       "<div>\n",
       "<style scoped>\n",
       "    .dataframe tbody tr th:only-of-type {\n",
       "        vertical-align: middle;\n",
       "    }\n",
       "\n",
       "    .dataframe tbody tr th {\n",
       "        vertical-align: top;\n",
       "    }\n",
       "\n",
       "    .dataframe thead th {\n",
       "        text-align: right;\n",
       "    }\n",
       "</style>\n",
       "<table border=\"1\" class=\"dataframe\">\n",
       "  <thead>\n",
       "    <tr style=\"text-align: right;\">\n",
       "      <th></th>\n",
       "      <th>Movie Title</th>\n",
       "      <th>Year of Realease</th>\n",
       "      <th>Genre</th>\n",
       "      <th>Movie Rating</th>\n",
       "      <th>Duration</th>\n",
       "      <th>Gross</th>\n",
       "      <th>Worldwide LT Gross</th>\n",
       "      <th>Metascore</th>\n",
       "      <th>Votes</th>\n",
       "      <th>Logline</th>\n",
       "    </tr>\n",
       "  </thead>\n",
       "  <tbody>\n",
       "    <tr>\n",
       "      <th>0</th>\n",
       "      <td>Avatar</td>\n",
       "      <td>2009</td>\n",
       "      <td>Action,Adventure,Fantasy</td>\n",
       "      <td>7.8</td>\n",
       "      <td>162</td>\n",
       "      <td>$760.51M</td>\n",
       "      <td>$2,847,397,339</td>\n",
       "      <td>83</td>\n",
       "      <td>1,236,962</td>\n",
       "      <td>A paraplegic Marine dispatched to the moon Pan...</td>\n",
       "    </tr>\n",
       "    <tr>\n",
       "      <th>1</th>\n",
       "      <td>Avengers: Endgame</td>\n",
       "      <td>2019</td>\n",
       "      <td>Action,Adventure,Drama</td>\n",
       "      <td>8.4</td>\n",
       "      <td>181</td>\n",
       "      <td>$858.37M</td>\n",
       "      <td>$2,797,501,328</td>\n",
       "      <td>78</td>\n",
       "      <td>1,108,641</td>\n",
       "      <td>After the devastating events of Avengers: Infi...</td>\n",
       "    </tr>\n",
       "    <tr>\n",
       "      <th>2</th>\n",
       "      <td>Titanic</td>\n",
       "      <td>1997</td>\n",
       "      <td>Drama,Romance</td>\n",
       "      <td>7.9</td>\n",
       "      <td>194</td>\n",
       "      <td>$659.33M</td>\n",
       "      <td>$2,201,647,264</td>\n",
       "      <td>75</td>\n",
       "      <td>1,162,142</td>\n",
       "      <td>A seventeen-year-old aristocrat falls in love ...</td>\n",
       "    </tr>\n",
       "    <tr>\n",
       "      <th>3</th>\n",
       "      <td>Star Wars: Episode VII - The Force Awakens</td>\n",
       "      <td>2015</td>\n",
       "      <td>Action,Adventure,Sci-Fi</td>\n",
       "      <td>7.8</td>\n",
       "      <td>138</td>\n",
       "      <td>$936.66M</td>\n",
       "      <td>$2,069,521,700</td>\n",
       "      <td>80</td>\n",
       "      <td>925,551</td>\n",
       "      <td>As a new threat to the galaxy rises, Rey, a de...</td>\n",
       "    </tr>\n",
       "    <tr>\n",
       "      <th>4</th>\n",
       "      <td>Avengers: Infinity War</td>\n",
       "      <td>2018</td>\n",
       "      <td>Action,Adventure,Sci-Fi</td>\n",
       "      <td>8.4</td>\n",
       "      <td>149</td>\n",
       "      <td>$678.82M</td>\n",
       "      <td>$2,048,359,754</td>\n",
       "      <td>68</td>\n",
       "      <td>1,062,517</td>\n",
       "      <td>The Avengers and their allies must be willing ...</td>\n",
       "    </tr>\n",
       "  </tbody>\n",
       "</table>\n",
       "</div>"
      ],
      "text/plain": [
       "                                  Movie Title Year of Realease  \\\n",
       "0                                      Avatar             2009   \n",
       "1                           Avengers: Endgame             2019   \n",
       "2                                     Titanic             1997   \n",
       "3  Star Wars: Episode VII - The Force Awakens             2015   \n",
       "4                      Avengers: Infinity War             2018   \n",
       "\n",
       "                      Genre  Movie Rating  Duration     Gross  \\\n",
       "0  Action,Adventure,Fantasy           7.8       162  $760.51M   \n",
       "1    Action,Adventure,Drama           8.4       181  $858.37M   \n",
       "2             Drama,Romance           7.9       194  $659.33M   \n",
       "3   Action,Adventure,Sci-Fi           7.8       138  $936.66M   \n",
       "4   Action,Adventure,Sci-Fi           8.4       149  $678.82M   \n",
       "\n",
       "  Worldwide LT Gross Metascore      Votes  \\\n",
       "0     $2,847,397,339        83  1,236,962   \n",
       "1     $2,797,501,328        78  1,108,641   \n",
       "2     $2,201,647,264        75  1,162,142   \n",
       "3     $2,069,521,700        80    925,551   \n",
       "4     $2,048,359,754        68  1,062,517   \n",
       "\n",
       "                                             Logline  \n",
       "0  A paraplegic Marine dispatched to the moon Pan...  \n",
       "1  After the devastating events of Avengers: Infi...  \n",
       "2  A seventeen-year-old aristocrat falls in love ...  \n",
       "3  As a new threat to the galaxy rises, Rey, a de...  \n",
       "4  The Avengers and their allies must be willing ...  "
      ]
     },
     "execution_count": 65,
     "metadata": {},
     "output_type": "execute_result"
    }
   ],
   "source": [
    "top_grosser = pd.read_csv(\"/kaggle/input/top-1000-highest-grossing-movies-of-all-time/Top_1000_Highest_Grossing_Movies_Of_All_Time.csv\")\n",
    "top_grosser.head()"
   ]
  },
  {
   "cell_type": "code",
   "execution_count": 66,
   "id": "5762928a",
   "metadata": {
    "execution": {
     "iopub.execute_input": "2025-02-23T04:46:22.239834Z",
     "iopub.status.busy": "2025-02-23T04:46:22.239478Z",
     "iopub.status.idle": "2025-02-23T04:46:22.244324Z",
     "shell.execute_reply": "2025-02-23T04:46:22.243252Z"
    },
    "papermill": {
     "duration": 0.036437,
     "end_time": "2025-02-23T04:46:22.246101",
     "exception": false,
     "start_time": "2025-02-23T04:46:22.209664",
     "status": "completed"
    },
    "tags": []
   },
   "outputs": [],
   "source": [
    "top_grosser.rename(columns={'Year of Realease': 'Year'}, inplace=True)"
   ]
  },
  {
   "cell_type": "code",
   "execution_count": 67,
   "id": "9100c5b4",
   "metadata": {
    "execution": {
     "iopub.execute_input": "2025-02-23T04:46:22.305929Z",
     "iopub.status.busy": "2025-02-23T04:46:22.305577Z",
     "iopub.status.idle": "2025-02-23T04:46:22.339931Z",
     "shell.execute_reply": "2025-02-23T04:46:22.338815Z"
    },
    "papermill": {
     "duration": 0.066463,
     "end_time": "2025-02-23T04:46:22.341883",
     "exception": false,
     "start_time": "2025-02-23T04:46:22.275420",
     "status": "completed"
    },
    "tags": []
   },
   "outputs": [
    {
     "data": {
      "text/html": [
       "<div>\n",
       "<style scoped>\n",
       "    .dataframe tbody tr th:only-of-type {\n",
       "        vertical-align: middle;\n",
       "    }\n",
       "\n",
       "    .dataframe tbody tr th {\n",
       "        vertical-align: top;\n",
       "    }\n",
       "\n",
       "    .dataframe thead th {\n",
       "        text-align: right;\n",
       "    }\n",
       "</style>\n",
       "<table border=\"1\" class=\"dataframe\">\n",
       "  <thead>\n",
       "    <tr style=\"text-align: right;\">\n",
       "      <th></th>\n",
       "      <th>Year</th>\n",
       "      <th>Movie Title</th>\n",
       "      <th>Worldwide LT Gross</th>\n",
       "      <th>Genre</th>\n",
       "    </tr>\n",
       "  </thead>\n",
       "  <tbody>\n",
       "    <tr>\n",
       "      <th>936</th>\n",
       "      <td>1937</td>\n",
       "      <td>Snow White and the Seven Dwarfs</td>\n",
       "      <td>1.849255e+08</td>\n",
       "      <td>Animation,Adventure,Family</td>\n",
       "    </tr>\n",
       "    <tr>\n",
       "      <th>325</th>\n",
       "      <td>1939</td>\n",
       "      <td>Gone with the Wind</td>\n",
       "      <td>4.023822e+08</td>\n",
       "      <td>Drama,Romance,War</td>\n",
       "    </tr>\n",
       "    <tr>\n",
       "      <th>593</th>\n",
       "      <td>1942</td>\n",
       "      <td>Bambi</td>\n",
       "      <td>2.674472e+08</td>\n",
       "      <td>Animation,Adventure,Drama</td>\n",
       "    </tr>\n",
       "    <tr>\n",
       "      <th>779</th>\n",
       "      <td>1961</td>\n",
       "      <td>One Hundred and One Dalmatians</td>\n",
       "      <td>2.158800e+08</td>\n",
       "      <td>Animation,Adventure,Comedy</td>\n",
       "    </tr>\n",
       "    <tr>\n",
       "      <th>831</th>\n",
       "      <td>1967</td>\n",
       "      <td>The Jungle Book</td>\n",
       "      <td>2.058436e+08</td>\n",
       "      <td>Animation,Adventure,Comedy</td>\n",
       "    </tr>\n",
       "    <tr>\n",
       "      <th>646</th>\n",
       "      <td>1972</td>\n",
       "      <td>The Godfather</td>\n",
       "      <td>2.503418e+08</td>\n",
       "      <td>Crime,Drama</td>\n",
       "    </tr>\n",
       "    <tr>\n",
       "      <th>281</th>\n",
       "      <td>1973</td>\n",
       "      <td>The Exorcist</td>\n",
       "      <td>4.413061e+08</td>\n",
       "      <td>Horror</td>\n",
       "    </tr>\n",
       "    <tr>\n",
       "      <th>248</th>\n",
       "      <td>1975</td>\n",
       "      <td>Jaws</td>\n",
       "      <td>4.741413e+08</td>\n",
       "      <td>Adventure,Thriller</td>\n",
       "    </tr>\n",
       "    <tr>\n",
       "      <th>105</th>\n",
       "      <td>1977</td>\n",
       "      <td>Star Wars</td>\n",
       "      <td>7.753980e+08</td>\n",
       "      <td>Action,Adventure,Fantasy</td>\n",
       "    </tr>\n",
       "    <tr>\n",
       "      <th>334</th>\n",
       "      <td>1978</td>\n",
       "      <td>Grease</td>\n",
       "      <td>3.962711e+08</td>\n",
       "      <td>Comedy,Musical,Romance</td>\n",
       "    </tr>\n",
       "    <tr>\n",
       "      <th>814</th>\n",
       "      <td>1979</td>\n",
       "      <td>Moonraker</td>\n",
       "      <td>2.103081e+08</td>\n",
       "      <td>Action,Adventure,Sci-Fi</td>\n",
       "    </tr>\n",
       "    <tr>\n",
       "      <th>206</th>\n",
       "      <td>1980</td>\n",
       "      <td>The Empire Strikes Back</td>\n",
       "      <td>5.383751e+08</td>\n",
       "      <td>Action,Adventure,Fantasy</td>\n",
       "    </tr>\n",
       "    <tr>\n",
       "      <th>340</th>\n",
       "      <td>1981</td>\n",
       "      <td>Raiders of the Lost Ark</td>\n",
       "      <td>3.899260e+08</td>\n",
       "      <td>Action,Adventure</td>\n",
       "    </tr>\n",
       "    <tr>\n",
       "      <th>97</th>\n",
       "      <td>1982</td>\n",
       "      <td>E.T. the Extra-Terrestrial</td>\n",
       "      <td>7.929106e+08</td>\n",
       "      <td>Adventure,Family,Sci-Fi</td>\n",
       "    </tr>\n",
       "    <tr>\n",
       "      <th>245</th>\n",
       "      <td>1983</td>\n",
       "      <td>Star Wars: Episode VI - Return of the Jedi</td>\n",
       "      <td>4.751062e+08</td>\n",
       "      <td>Action,Adventure,Fantasy</td>\n",
       "    </tr>\n",
       "    <tr>\n",
       "      <th>450</th>\n",
       "      <td>1984</td>\n",
       "      <td>Indiana Jones and the Temple of Doom</td>\n",
       "      <td>3.331073e+08</td>\n",
       "      <td>Action,Adventure</td>\n",
       "    </tr>\n",
       "    <tr>\n",
       "      <th>350</th>\n",
       "      <td>1985</td>\n",
       "      <td>Back to the Future</td>\n",
       "      <td>3.833368e+08</td>\n",
       "      <td>Adventure,Comedy,Sci-Fi</td>\n",
       "    </tr>\n",
       "    <tr>\n",
       "      <th>401</th>\n",
       "      <td>1986</td>\n",
       "      <td>Top Gun</td>\n",
       "      <td>3.572882e+08</td>\n",
       "      <td>Action,Drama</td>\n",
       "    </tr>\n",
       "    <tr>\n",
       "      <th>478</th>\n",
       "      <td>1987</td>\n",
       "      <td>Fatal Attraction</td>\n",
       "      <td>3.201457e+08</td>\n",
       "      <td>Drama,Thriller</td>\n",
       "    </tr>\n",
       "    <tr>\n",
       "      <th>406</th>\n",
       "      <td>1988</td>\n",
       "      <td>Rain Man</td>\n",
       "      <td>3.548254e+08</td>\n",
       "      <td>Drama</td>\n",
       "    </tr>\n",
       "    <tr>\n",
       "      <th>247</th>\n",
       "      <td>1989</td>\n",
       "      <td>Indiana Jones and the Last Crusade</td>\n",
       "      <td>4.741718e+08</td>\n",
       "      <td>Action,Adventure</td>\n",
       "    </tr>\n",
       "    <tr>\n",
       "      <th>224</th>\n",
       "      <td>1990</td>\n",
       "      <td>Ghost</td>\n",
       "      <td>5.057036e+08</td>\n",
       "      <td>Drama,Fantasy,Romance</td>\n",
       "    </tr>\n",
       "    <tr>\n",
       "      <th>220</th>\n",
       "      <td>1991</td>\n",
       "      <td>Terminator 2: Judgment Day</td>\n",
       "      <td>5.208812e+08</td>\n",
       "      <td>Action,Sci-Fi</td>\n",
       "    </tr>\n",
       "    <tr>\n",
       "      <th>225</th>\n",
       "      <td>1992</td>\n",
       "      <td>Aladdin</td>\n",
       "      <td>5.040502e+08</td>\n",
       "      <td>Animation,Adventure,Comedy</td>\n",
       "    </tr>\n",
       "    <tr>\n",
       "      <th>31</th>\n",
       "      <td>1993</td>\n",
       "      <td>Jurassic Park</td>\n",
       "      <td>1.099699e+09</td>\n",
       "      <td>Action,Adventure,Sci-Fi</td>\n",
       "    </tr>\n",
       "    <tr>\n",
       "      <th>38</th>\n",
       "      <td>1994</td>\n",
       "      <td>The Lion King</td>\n",
       "      <td>1.063612e+09</td>\n",
       "      <td>Animation,Adventure,Drama</td>\n",
       "    </tr>\n",
       "    <tr>\n",
       "      <th>335</th>\n",
       "      <td>1995</td>\n",
       "      <td>Toy Story</td>\n",
       "      <td>3.944366e+08</td>\n",
       "      <td>Animation,Adventure,Comedy</td>\n",
       "    </tr>\n",
       "    <tr>\n",
       "      <th>90</th>\n",
       "      <td>1996</td>\n",
       "      <td>Independence Day</td>\n",
       "      <td>8.174009e+08</td>\n",
       "      <td>Action,Adventure,Sci-Fi</td>\n",
       "    </tr>\n",
       "    <tr>\n",
       "      <th>2</th>\n",
       "      <td>1997</td>\n",
       "      <td>Titanic</td>\n",
       "      <td>2.201647e+09</td>\n",
       "      <td>Drama,Romance</td>\n",
       "    </tr>\n",
       "    <tr>\n",
       "      <th>193</th>\n",
       "      <td>1998</td>\n",
       "      <td>Armageddon</td>\n",
       "      <td>5.537098e+08</td>\n",
       "      <td>Action,Adventure,Sci-Fi</td>\n",
       "    </tr>\n",
       "    <tr>\n",
       "      <th>44</th>\n",
       "      <td>1999</td>\n",
       "      <td>Star Wars: Episode I - The Phantom Menace</td>\n",
       "      <td>1.027083e+09</td>\n",
       "      <td>Action,Adventure,Fantasy</td>\n",
       "    </tr>\n",
       "    <tr>\n",
       "      <th>197</th>\n",
       "      <td>2000</td>\n",
       "      <td>Mission: Impossible II</td>\n",
       "      <td>5.463881e+08</td>\n",
       "      <td>Action,Adventure,Thriller</td>\n",
       "    </tr>\n",
       "    <tr>\n",
       "      <th>47</th>\n",
       "      <td>2001</td>\n",
       "      <td>Harry Potter and the Sorcerer's Stone</td>\n",
       "      <td>1.022290e+09</td>\n",
       "      <td>Adventure,Family,Fantasy</td>\n",
       "    </tr>\n",
       "    <tr>\n",
       "      <th>59</th>\n",
       "      <td>2002</td>\n",
       "      <td>The Lord of the Rings: The Two Towers</td>\n",
       "      <td>9.478962e+08</td>\n",
       "      <td>Action,Adventure,Drama</td>\n",
       "    </tr>\n",
       "    <tr>\n",
       "      <th>25</th>\n",
       "      <td>2003</td>\n",
       "      <td>The Lord of the Rings: The Return of the King</td>\n",
       "      <td>1.146436e+09</td>\n",
       "      <td>Action,Adventure,Drama</td>\n",
       "    </tr>\n",
       "    <tr>\n",
       "      <th>63</th>\n",
       "      <td>2004</td>\n",
       "      <td>Shrek 2</td>\n",
       "      <td>9.287608e+08</td>\n",
       "      <td>Animation,Adventure,Comedy</td>\n",
       "    </tr>\n",
       "    <tr>\n",
       "      <th>67</th>\n",
       "      <td>2005</td>\n",
       "      <td>Harry Potter and the Goblet of Fire</td>\n",
       "      <td>8.967303e+08</td>\n",
       "      <td>Adventure,Family,Fantasy</td>\n",
       "    </tr>\n",
       "    <tr>\n",
       "      <th>37</th>\n",
       "      <td>2006</td>\n",
       "      <td>Pirates of the Caribbean: Dead Man's Chest</td>\n",
       "      <td>1.066180e+09</td>\n",
       "      <td>Action,Adventure,Fantasy</td>\n",
       "    </tr>\n",
       "    <tr>\n",
       "      <th>56</th>\n",
       "      <td>2007</td>\n",
       "      <td>Pirates of the Caribbean: At World's End</td>\n",
       "      <td>9.609965e+08</td>\n",
       "      <td>Action,Adventure,Fantasy</td>\n",
       "    </tr>\n",
       "    <tr>\n",
       "      <th>49</th>\n",
       "      <td>2008</td>\n",
       "      <td>The Dark Knight</td>\n",
       "      <td>1.006102e+09</td>\n",
       "      <td>Action,Crime,Drama</td>\n",
       "    </tr>\n",
       "    <tr>\n",
       "      <th>0</th>\n",
       "      <td>2009</td>\n",
       "      <td>Avatar</td>\n",
       "      <td>2.847397e+09</td>\n",
       "      <td>Action,Adventure,Fantasy</td>\n",
       "    </tr>\n",
       "    <tr>\n",
       "      <th>36</th>\n",
       "      <td>2010</td>\n",
       "      <td>Toy Story 3</td>\n",
       "      <td>1.066971e+09</td>\n",
       "      <td>Animation,Adventure,Comedy</td>\n",
       "    </tr>\n",
       "    <tr>\n",
       "      <th>14</th>\n",
       "      <td>2011</td>\n",
       "      <td>Harry Potter and the Deathly Hallows: Part 2</td>\n",
       "      <td>1.342360e+09</td>\n",
       "      <td>Adventure,Family,Fantasy</td>\n",
       "    </tr>\n",
       "    <tr>\n",
       "      <th>8</th>\n",
       "      <td>2012</td>\n",
       "      <td>The Avengers</td>\n",
       "      <td>1.518816e+09</td>\n",
       "      <td>Action,Adventure,Sci-Fi</td>\n",
       "    </tr>\n",
       "    <tr>\n",
       "      <th>17</th>\n",
       "      <td>2013</td>\n",
       "      <td>Frozen</td>\n",
       "      <td>1.281508e+09</td>\n",
       "      <td>Animation,Adventure,Comedy</td>\n",
       "    </tr>\n",
       "    <tr>\n",
       "      <th>30</th>\n",
       "      <td>2014</td>\n",
       "      <td>Transformers: Age of Extinction</td>\n",
       "      <td>1.104054e+09</td>\n",
       "      <td>Action,Adventure,Sci-Fi</td>\n",
       "    </tr>\n",
       "    <tr>\n",
       "      <th>3</th>\n",
       "      <td>2015</td>\n",
       "      <td>Star Wars: Episode VII - The Force Awakens</td>\n",
       "      <td>2.069522e+09</td>\n",
       "      <td>Action,Adventure,Sci-Fi</td>\n",
       "    </tr>\n",
       "    <tr>\n",
       "      <th>23</th>\n",
       "      <td>2016</td>\n",
       "      <td>Captain America: Civil War</td>\n",
       "      <td>1.153337e+09</td>\n",
       "      <td>Action,Adventure,Sci-Fi</td>\n",
       "    </tr>\n",
       "    <tr>\n",
       "      <th>15</th>\n",
       "      <td>2017</td>\n",
       "      <td>Star Wars: Episode VIII - The Last Jedi</td>\n",
       "      <td>1.332699e+09</td>\n",
       "      <td>Action,Adventure,Fantasy</td>\n",
       "    </tr>\n",
       "    <tr>\n",
       "      <th>4</th>\n",
       "      <td>2018</td>\n",
       "      <td>Avengers: Infinity War</td>\n",
       "      <td>2.048360e+09</td>\n",
       "      <td>Action,Adventure,Sci-Fi</td>\n",
       "    </tr>\n",
       "    <tr>\n",
       "      <th>1</th>\n",
       "      <td>2019</td>\n",
       "      <td>Avengers: Endgame</td>\n",
       "      <td>2.797501e+09</td>\n",
       "      <td>Action,Adventure,Drama</td>\n",
       "    </tr>\n",
       "    <tr>\n",
       "      <th>261</th>\n",
       "      <td>2020</td>\n",
       "      <td>Ba bai</td>\n",
       "      <td>4.614216e+08</td>\n",
       "      <td>Action,Drama,History</td>\n",
       "    </tr>\n",
       "    <tr>\n",
       "      <th>5</th>\n",
       "      <td>2021</td>\n",
       "      <td>Spider-Man: No Way Home</td>\n",
       "      <td>1.911433e+09</td>\n",
       "      <td>Action,Adventure,Fantasy</td>\n",
       "    </tr>\n",
       "    <tr>\n",
       "      <th>11</th>\n",
       "      <td>2022</td>\n",
       "      <td>Top Gun: Maverick</td>\n",
       "      <td>1.440740e+09</td>\n",
       "      <td>Action,Drama</td>\n",
       "    </tr>\n",
       "  </tbody>\n",
       "</table>\n",
       "</div>"
      ],
      "text/plain": [
       "     Year                                    Movie Title  Worldwide LT Gross  \\\n",
       "936  1937                Snow White and the Seven Dwarfs        1.849255e+08   \n",
       "325  1939                             Gone with the Wind        4.023822e+08   \n",
       "593  1942                                          Bambi        2.674472e+08   \n",
       "779  1961                 One Hundred and One Dalmatians        2.158800e+08   \n",
       "831  1967                                The Jungle Book        2.058436e+08   \n",
       "646  1972                                  The Godfather        2.503418e+08   \n",
       "281  1973                                   The Exorcist        4.413061e+08   \n",
       "248  1975                                           Jaws        4.741413e+08   \n",
       "105  1977                                      Star Wars        7.753980e+08   \n",
       "334  1978                                         Grease        3.962711e+08   \n",
       "814  1979                                      Moonraker        2.103081e+08   \n",
       "206  1980                        The Empire Strikes Back        5.383751e+08   \n",
       "340  1981                        Raiders of the Lost Ark        3.899260e+08   \n",
       "97   1982                     E.T. the Extra-Terrestrial        7.929106e+08   \n",
       "245  1983     Star Wars: Episode VI - Return of the Jedi        4.751062e+08   \n",
       "450  1984           Indiana Jones and the Temple of Doom        3.331073e+08   \n",
       "350  1985                             Back to the Future        3.833368e+08   \n",
       "401  1986                                        Top Gun        3.572882e+08   \n",
       "478  1987                               Fatal Attraction        3.201457e+08   \n",
       "406  1988                                       Rain Man        3.548254e+08   \n",
       "247  1989             Indiana Jones and the Last Crusade        4.741718e+08   \n",
       "224  1990                                          Ghost        5.057036e+08   \n",
       "220  1991                     Terminator 2: Judgment Day        5.208812e+08   \n",
       "225  1992                                        Aladdin        5.040502e+08   \n",
       "31   1993                                  Jurassic Park        1.099699e+09   \n",
       "38   1994                                  The Lion King        1.063612e+09   \n",
       "335  1995                                      Toy Story        3.944366e+08   \n",
       "90   1996                               Independence Day        8.174009e+08   \n",
       "2    1997                                        Titanic        2.201647e+09   \n",
       "193  1998                                     Armageddon        5.537098e+08   \n",
       "44   1999      Star Wars: Episode I - The Phantom Menace        1.027083e+09   \n",
       "197  2000                         Mission: Impossible II        5.463881e+08   \n",
       "47   2001          Harry Potter and the Sorcerer's Stone        1.022290e+09   \n",
       "59   2002          The Lord of the Rings: The Two Towers        9.478962e+08   \n",
       "25   2003  The Lord of the Rings: The Return of the King        1.146436e+09   \n",
       "63   2004                                        Shrek 2        9.287608e+08   \n",
       "67   2005            Harry Potter and the Goblet of Fire        8.967303e+08   \n",
       "37   2006     Pirates of the Caribbean: Dead Man's Chest        1.066180e+09   \n",
       "56   2007       Pirates of the Caribbean: At World's End        9.609965e+08   \n",
       "49   2008                                The Dark Knight        1.006102e+09   \n",
       "0    2009                                         Avatar        2.847397e+09   \n",
       "36   2010                                    Toy Story 3        1.066971e+09   \n",
       "14   2011   Harry Potter and the Deathly Hallows: Part 2        1.342360e+09   \n",
       "8    2012                                   The Avengers        1.518816e+09   \n",
       "17   2013                                         Frozen        1.281508e+09   \n",
       "30   2014                Transformers: Age of Extinction        1.104054e+09   \n",
       "3    2015     Star Wars: Episode VII - The Force Awakens        2.069522e+09   \n",
       "23   2016                     Captain America: Civil War        1.153337e+09   \n",
       "15   2017        Star Wars: Episode VIII - The Last Jedi        1.332699e+09   \n",
       "4    2018                         Avengers: Infinity War        2.048360e+09   \n",
       "1    2019                              Avengers: Endgame        2.797501e+09   \n",
       "261  2020                                         Ba bai        4.614216e+08   \n",
       "5    2021                        Spider-Man: No Way Home        1.911433e+09   \n",
       "11   2022                              Top Gun: Maverick        1.440740e+09   \n",
       "\n",
       "                          Genre  \n",
       "936  Animation,Adventure,Family  \n",
       "325           Drama,Romance,War  \n",
       "593   Animation,Adventure,Drama  \n",
       "779  Animation,Adventure,Comedy  \n",
       "831  Animation,Adventure,Comedy  \n",
       "646                 Crime,Drama  \n",
       "281                      Horror  \n",
       "248          Adventure,Thriller  \n",
       "105    Action,Adventure,Fantasy  \n",
       "334      Comedy,Musical,Romance  \n",
       "814     Action,Adventure,Sci-Fi  \n",
       "206    Action,Adventure,Fantasy  \n",
       "340            Action,Adventure  \n",
       "97      Adventure,Family,Sci-Fi  \n",
       "245    Action,Adventure,Fantasy  \n",
       "450            Action,Adventure  \n",
       "350     Adventure,Comedy,Sci-Fi  \n",
       "401                Action,Drama  \n",
       "478              Drama,Thriller  \n",
       "406                       Drama  \n",
       "247            Action,Adventure  \n",
       "224       Drama,Fantasy,Romance  \n",
       "220               Action,Sci-Fi  \n",
       "225  Animation,Adventure,Comedy  \n",
       "31      Action,Adventure,Sci-Fi  \n",
       "38    Animation,Adventure,Drama  \n",
       "335  Animation,Adventure,Comedy  \n",
       "90      Action,Adventure,Sci-Fi  \n",
       "2                 Drama,Romance  \n",
       "193     Action,Adventure,Sci-Fi  \n",
       "44     Action,Adventure,Fantasy  \n",
       "197   Action,Adventure,Thriller  \n",
       "47     Adventure,Family,Fantasy  \n",
       "59       Action,Adventure,Drama  \n",
       "25       Action,Adventure,Drama  \n",
       "63   Animation,Adventure,Comedy  \n",
       "67     Adventure,Family,Fantasy  \n",
       "37     Action,Adventure,Fantasy  \n",
       "56     Action,Adventure,Fantasy  \n",
       "49           Action,Crime,Drama  \n",
       "0      Action,Adventure,Fantasy  \n",
       "36   Animation,Adventure,Comedy  \n",
       "14     Adventure,Family,Fantasy  \n",
       "8       Action,Adventure,Sci-Fi  \n",
       "17   Animation,Adventure,Comedy  \n",
       "30      Action,Adventure,Sci-Fi  \n",
       "3       Action,Adventure,Sci-Fi  \n",
       "23      Action,Adventure,Sci-Fi  \n",
       "15     Action,Adventure,Fantasy  \n",
       "4       Action,Adventure,Sci-Fi  \n",
       "1        Action,Adventure,Drama  \n",
       "261        Action,Drama,History  \n",
       "5      Action,Adventure,Fantasy  \n",
       "11                 Action,Drama  "
      ]
     },
     "execution_count": 67,
     "metadata": {},
     "output_type": "execute_result"
    }
   ],
   "source": [
    "top_grosser['Year'] = top_grosser['Year'].astype(str).str.extract('(\\d+)').astype(int)\n",
    "\n",
    "top_grosser['Worldwide LT Gross'] = top_grosser['Worldwide LT Gross'].replace({'\\$': '', ',': ''}, regex=True).astype(float)\n",
    "\n",
    "highest_grossing = top_grosser.loc[top_grosser.groupby('Year')['Worldwide LT Gross'].idxmax()]\n",
    "\n",
    "highest_grossing_movies = highest_grossing[['Year', 'Movie Title', 'Worldwide LT Gross', 'Genre']]\n",
    "\n",
    "highest_grossing_movies = highest_grossing_movies.sort_values(by='Year')\n",
    "highest_grossing_movies"
   ]
  },
  {
   "cell_type": "code",
   "execution_count": 68,
   "id": "9205b459",
   "metadata": {
    "execution": {
     "iopub.execute_input": "2025-02-23T04:46:22.403632Z",
     "iopub.status.busy": "2025-02-23T04:46:22.403241Z",
     "iopub.status.idle": "2025-02-23T04:46:26.303267Z",
     "shell.execute_reply": "2025-02-23T04:46:26.302238Z"
    },
    "papermill": {
     "duration": 3.932627,
     "end_time": "2025-02-23T04:46:26.305009",
     "exception": false,
     "start_time": "2025-02-23T04:46:22.372382",
     "status": "completed"
    },
    "tags": []
   },
   "outputs": [],
   "source": [
    "credits_df = pd.read_csv(\"/kaggle/input/the-movies-dataset/credits.csv\", low_memory=False)"
   ]
  },
  {
   "cell_type": "code",
   "execution_count": 69,
   "id": "b39f0bcd",
   "metadata": {
    "execution": {
     "iopub.execute_input": "2025-02-23T04:46:26.365254Z",
     "iopub.status.busy": "2025-02-23T04:46:26.364823Z",
     "iopub.status.idle": "2025-02-23T04:46:26.373951Z",
     "shell.execute_reply": "2025-02-23T04:46:26.373086Z"
    },
    "papermill": {
     "duration": 0.041042,
     "end_time": "2025-02-23T04:46:26.375480",
     "exception": false,
     "start_time": "2025-02-23T04:46:26.334438",
     "status": "completed"
    },
    "tags": []
   },
   "outputs": [
    {
     "data": {
      "text/html": [
       "<div>\n",
       "<style scoped>\n",
       "    .dataframe tbody tr th:only-of-type {\n",
       "        vertical-align: middle;\n",
       "    }\n",
       "\n",
       "    .dataframe tbody tr th {\n",
       "        vertical-align: top;\n",
       "    }\n",
       "\n",
       "    .dataframe thead th {\n",
       "        text-align: right;\n",
       "    }\n",
       "</style>\n",
       "<table border=\"1\" class=\"dataframe\">\n",
       "  <thead>\n",
       "    <tr style=\"text-align: right;\">\n",
       "      <th></th>\n",
       "      <th>cast</th>\n",
       "      <th>crew</th>\n",
       "      <th>id</th>\n",
       "    </tr>\n",
       "  </thead>\n",
       "  <tbody>\n",
       "    <tr>\n",
       "      <th>0</th>\n",
       "      <td>[{'cast_id': 14, 'character': 'Woody (voice)',...</td>\n",
       "      <td>[{'credit_id': '52fe4284c3a36847f8024f49', 'de...</td>\n",
       "      <td>862</td>\n",
       "    </tr>\n",
       "    <tr>\n",
       "      <th>1</th>\n",
       "      <td>[{'cast_id': 1, 'character': 'Alan Parrish', '...</td>\n",
       "      <td>[{'credit_id': '52fe44bfc3a36847f80a7cd1', 'de...</td>\n",
       "      <td>8844</td>\n",
       "    </tr>\n",
       "    <tr>\n",
       "      <th>2</th>\n",
       "      <td>[{'cast_id': 2, 'character': 'Max Goldman', 'c...</td>\n",
       "      <td>[{'credit_id': '52fe466a9251416c75077a89', 'de...</td>\n",
       "      <td>15602</td>\n",
       "    </tr>\n",
       "    <tr>\n",
       "      <th>3</th>\n",
       "      <td>[{'cast_id': 1, 'character': \"Savannah 'Vannah...</td>\n",
       "      <td>[{'credit_id': '52fe44779251416c91011acb', 'de...</td>\n",
       "      <td>31357</td>\n",
       "    </tr>\n",
       "    <tr>\n",
       "      <th>4</th>\n",
       "      <td>[{'cast_id': 1, 'character': 'George Banks', '...</td>\n",
       "      <td>[{'credit_id': '52fe44959251416c75039ed7', 'de...</td>\n",
       "      <td>11862</td>\n",
       "    </tr>\n",
       "  </tbody>\n",
       "</table>\n",
       "</div>"
      ],
      "text/plain": [
       "                                                cast  \\\n",
       "0  [{'cast_id': 14, 'character': 'Woody (voice)',...   \n",
       "1  [{'cast_id': 1, 'character': 'Alan Parrish', '...   \n",
       "2  [{'cast_id': 2, 'character': 'Max Goldman', 'c...   \n",
       "3  [{'cast_id': 1, 'character': \"Savannah 'Vannah...   \n",
       "4  [{'cast_id': 1, 'character': 'George Banks', '...   \n",
       "\n",
       "                                                crew     id  \n",
       "0  [{'credit_id': '52fe4284c3a36847f8024f49', 'de...    862  \n",
       "1  [{'credit_id': '52fe44bfc3a36847f80a7cd1', 'de...   8844  \n",
       "2  [{'credit_id': '52fe466a9251416c75077a89', 'de...  15602  \n",
       "3  [{'credit_id': '52fe44779251416c91011acb', 'de...  31357  \n",
       "4  [{'credit_id': '52fe44959251416c75039ed7', 'de...  11862  "
      ]
     },
     "execution_count": 69,
     "metadata": {},
     "output_type": "execute_result"
    }
   ],
   "source": [
    "credits_df.head(5)"
   ]
  },
  {
   "cell_type": "code",
   "execution_count": 70,
   "id": "a26f04b5",
   "metadata": {
    "execution": {
     "iopub.execute_input": "2025-02-23T04:46:26.438419Z",
     "iopub.status.busy": "2025-02-23T04:46:26.438012Z",
     "iopub.status.idle": "2025-02-23T04:46:26.443047Z",
     "shell.execute_reply": "2025-02-23T04:46:26.442127Z"
    },
    "papermill": {
     "duration": 0.037956,
     "end_time": "2025-02-23T04:46:26.444767",
     "exception": false,
     "start_time": "2025-02-23T04:46:26.406811",
     "status": "completed"
    },
    "tags": []
   },
   "outputs": [],
   "source": [
    "credits_df[\"id\"] = pd.to_numeric(credits_df[\"id\"], errors=\"coerce\")\n"
   ]
  },
  {
   "cell_type": "code",
   "execution_count": 71,
   "id": "a1de28a7",
   "metadata": {
    "execution": {
     "iopub.execute_input": "2025-02-23T04:46:26.504880Z",
     "iopub.status.busy": "2025-02-23T04:46:26.504493Z",
     "iopub.status.idle": "2025-02-23T04:46:26.509799Z",
     "shell.execute_reply": "2025-02-23T04:46:26.508711Z"
    },
    "papermill": {
     "duration": 0.037353,
     "end_time": "2025-02-23T04:46:26.511507",
     "exception": false,
     "start_time": "2025-02-23T04:46:26.474154",
     "status": "completed"
    },
    "tags": []
   },
   "outputs": [],
   "source": [
    "import ast\n",
    "\n",
    "def get_director(crew):\n",
    "    crew_list = ast.literal_eval(crew)  # Convert string to list of dictionaries\n",
    "    for member in crew_list:\n",
    "        if member.get(\"job\") == \"Director\":\n",
    "            return member.get(\"name\")\n",
    "   \n",
    "\n",
    "def get_lead_actor(cast):\n",
    "    cast_list = ast.literal_eval(cast)  # Convert string to list of dictionaries\n",
    "    if cast_list:\n",
    "        return cast_list[0].get(\"name\")  # First actor in the list\n"
   ]
  },
  {
   "cell_type": "code",
   "execution_count": 72,
   "id": "ca20bb1a",
   "metadata": {
    "execution": {
     "iopub.execute_input": "2025-02-23T04:46:26.572619Z",
     "iopub.status.busy": "2025-02-23T04:46:26.572263Z",
     "iopub.status.idle": "2025-02-23T04:46:59.711345Z",
     "shell.execute_reply": "2025-02-23T04:46:59.710405Z"
    },
    "papermill": {
     "duration": 33.171435,
     "end_time": "2025-02-23T04:46:59.713243",
     "exception": false,
     "start_time": "2025-02-23T04:46:26.541808",
     "status": "completed"
    },
    "tags": []
   },
   "outputs": [],
   "source": [
    "credits_df[\"director\"] = credits_df[\"crew\"].apply(get_director)\n",
    "credits_df[\"lead_actor\"] = credits_df[\"cast\"].apply(get_lead_actor)"
   ]
  },
  {
   "cell_type": "code",
   "execution_count": 73,
   "id": "44664cb6",
   "metadata": {
    "execution": {
     "iopub.execute_input": "2025-02-23T04:46:59.773825Z",
     "iopub.status.busy": "2025-02-23T04:46:59.773477Z",
     "iopub.status.idle": "2025-02-23T04:46:59.783936Z",
     "shell.execute_reply": "2025-02-23T04:46:59.782937Z"
    },
    "papermill": {
     "duration": 0.042554,
     "end_time": "2025-02-23T04:46:59.785587",
     "exception": false,
     "start_time": "2025-02-23T04:46:59.743033",
     "status": "completed"
    },
    "tags": []
   },
   "outputs": [
    {
     "data": {
      "text/html": [
       "<div>\n",
       "<style scoped>\n",
       "    .dataframe tbody tr th:only-of-type {\n",
       "        vertical-align: middle;\n",
       "    }\n",
       "\n",
       "    .dataframe tbody tr th {\n",
       "        vertical-align: top;\n",
       "    }\n",
       "\n",
       "    .dataframe thead th {\n",
       "        text-align: right;\n",
       "    }\n",
       "</style>\n",
       "<table border=\"1\" class=\"dataframe\">\n",
       "  <thead>\n",
       "    <tr style=\"text-align: right;\">\n",
       "      <th></th>\n",
       "      <th>cast</th>\n",
       "      <th>crew</th>\n",
       "      <th>id</th>\n",
       "      <th>director</th>\n",
       "      <th>lead_actor</th>\n",
       "    </tr>\n",
       "  </thead>\n",
       "  <tbody>\n",
       "    <tr>\n",
       "      <th>0</th>\n",
       "      <td>[{'cast_id': 14, 'character': 'Woody (voice)',...</td>\n",
       "      <td>[{'credit_id': '52fe4284c3a36847f8024f49', 'de...</td>\n",
       "      <td>862</td>\n",
       "      <td>John Lasseter</td>\n",
       "      <td>Tom Hanks</td>\n",
       "    </tr>\n",
       "    <tr>\n",
       "      <th>1</th>\n",
       "      <td>[{'cast_id': 1, 'character': 'Alan Parrish', '...</td>\n",
       "      <td>[{'credit_id': '52fe44bfc3a36847f80a7cd1', 'de...</td>\n",
       "      <td>8844</td>\n",
       "      <td>Joe Johnston</td>\n",
       "      <td>Robin Williams</td>\n",
       "    </tr>\n",
       "    <tr>\n",
       "      <th>2</th>\n",
       "      <td>[{'cast_id': 2, 'character': 'Max Goldman', 'c...</td>\n",
       "      <td>[{'credit_id': '52fe466a9251416c75077a89', 'de...</td>\n",
       "      <td>15602</td>\n",
       "      <td>Howard Deutch</td>\n",
       "      <td>Walter Matthau</td>\n",
       "    </tr>\n",
       "    <tr>\n",
       "      <th>3</th>\n",
       "      <td>[{'cast_id': 1, 'character': \"Savannah 'Vannah...</td>\n",
       "      <td>[{'credit_id': '52fe44779251416c91011acb', 'de...</td>\n",
       "      <td>31357</td>\n",
       "      <td>Forest Whitaker</td>\n",
       "      <td>Whitney Houston</td>\n",
       "    </tr>\n",
       "    <tr>\n",
       "      <th>4</th>\n",
       "      <td>[{'cast_id': 1, 'character': 'George Banks', '...</td>\n",
       "      <td>[{'credit_id': '52fe44959251416c75039ed7', 'de...</td>\n",
       "      <td>11862</td>\n",
       "      <td>Charles Shyer</td>\n",
       "      <td>Steve Martin</td>\n",
       "    </tr>\n",
       "  </tbody>\n",
       "</table>\n",
       "</div>"
      ],
      "text/plain": [
       "                                                cast  \\\n",
       "0  [{'cast_id': 14, 'character': 'Woody (voice)',...   \n",
       "1  [{'cast_id': 1, 'character': 'Alan Parrish', '...   \n",
       "2  [{'cast_id': 2, 'character': 'Max Goldman', 'c...   \n",
       "3  [{'cast_id': 1, 'character': \"Savannah 'Vannah...   \n",
       "4  [{'cast_id': 1, 'character': 'George Banks', '...   \n",
       "\n",
       "                                                crew     id         director  \\\n",
       "0  [{'credit_id': '52fe4284c3a36847f8024f49', 'de...    862    John Lasseter   \n",
       "1  [{'credit_id': '52fe44bfc3a36847f80a7cd1', 'de...   8844     Joe Johnston   \n",
       "2  [{'credit_id': '52fe466a9251416c75077a89', 'de...  15602    Howard Deutch   \n",
       "3  [{'credit_id': '52fe44779251416c91011acb', 'de...  31357  Forest Whitaker   \n",
       "4  [{'credit_id': '52fe44959251416c75039ed7', 'de...  11862    Charles Shyer   \n",
       "\n",
       "        lead_actor  \n",
       "0        Tom Hanks  \n",
       "1   Robin Williams  \n",
       "2   Walter Matthau  \n",
       "3  Whitney Houston  \n",
       "4     Steve Martin  "
      ]
     },
     "execution_count": 73,
     "metadata": {},
     "output_type": "execute_result"
    }
   ],
   "source": [
    "credits_df.head()"
   ]
  },
  {
   "cell_type": "code",
   "execution_count": 74,
   "id": "4d1ef70b",
   "metadata": {
    "execution": {
     "iopub.execute_input": "2025-02-23T04:46:59.846449Z",
     "iopub.status.busy": "2025-02-23T04:46:59.846035Z",
     "iopub.status.idle": "2025-02-23T04:46:59.913886Z",
     "shell.execute_reply": "2025-02-23T04:46:59.912989Z"
    },
    "papermill": {
     "duration": 0.100345,
     "end_time": "2025-02-23T04:46:59.915756",
     "exception": false,
     "start_time": "2025-02-23T04:46:59.815411",
     "status": "completed"
    },
    "tags": []
   },
   "outputs": [],
   "source": [
    "movies_df[\"id\"] = pd.to_numeric(movies_df[\"id\"], errors=\"coerce\")\n",
    "movies_df = movies_df.dropna(subset=[\"id\"])\n",
    "credits_df = credits_df.dropna(subset=[\"id\"])\n",
    "movies_df[\"id\"] = movies_df[\"id\"].astype(int)"
   ]
  },
  {
   "cell_type": "code",
   "execution_count": 75,
   "id": "377d29a9",
   "metadata": {
    "execution": {
     "iopub.execute_input": "2025-02-23T04:46:59.976550Z",
     "iopub.status.busy": "2025-02-23T04:46:59.976080Z",
     "iopub.status.idle": "2025-02-23T04:47:00.097974Z",
     "shell.execute_reply": "2025-02-23T04:47:00.096805Z"
    },
    "papermill": {
     "duration": 0.154669,
     "end_time": "2025-02-23T04:47:00.100044",
     "exception": false,
     "start_time": "2025-02-23T04:46:59.945375",
     "status": "completed"
    },
    "tags": []
   },
   "outputs": [],
   "source": [
    "final_df_unmnodified = credits_df.merge(movies_df, on=\"id\", how=\"left\")"
   ]
  },
  {
   "cell_type": "code",
   "execution_count": 76,
   "id": "e790d65a",
   "metadata": {
    "execution": {
     "iopub.execute_input": "2025-02-23T04:47:00.160977Z",
     "iopub.status.busy": "2025-02-23T04:47:00.160623Z",
     "iopub.status.idle": "2025-02-23T04:47:00.203276Z",
     "shell.execute_reply": "2025-02-23T04:47:00.202211Z"
    },
    "papermill": {
     "duration": 0.075106,
     "end_time": "2025-02-23T04:47:00.204887",
     "exception": false,
     "start_time": "2025-02-23T04:47:00.129781",
     "status": "completed"
    },
    "tags": []
   },
   "outputs": [
    {
     "data": {
      "text/html": [
       "<div>\n",
       "<style scoped>\n",
       "    .dataframe tbody tr th:only-of-type {\n",
       "        vertical-align: middle;\n",
       "    }\n",
       "\n",
       "    .dataframe tbody tr th {\n",
       "        vertical-align: top;\n",
       "    }\n",
       "\n",
       "    .dataframe thead th {\n",
       "        text-align: right;\n",
       "    }\n",
       "</style>\n",
       "<table border=\"1\" class=\"dataframe\">\n",
       "  <thead>\n",
       "    <tr style=\"text-align: right;\">\n",
       "      <th></th>\n",
       "      <th>cast</th>\n",
       "      <th>crew</th>\n",
       "      <th>id</th>\n",
       "      <th>director</th>\n",
       "      <th>lead_actor</th>\n",
       "      <th>adult</th>\n",
       "      <th>belongs_to_collection</th>\n",
       "      <th>budget</th>\n",
       "      <th>genres</th>\n",
       "      <th>homepage</th>\n",
       "      <th>imdb_id</th>\n",
       "      <th>original_language</th>\n",
       "      <th>original_title</th>\n",
       "      <th>overview</th>\n",
       "      <th>popularity</th>\n",
       "      <th>poster_path</th>\n",
       "      <th>production_companies</th>\n",
       "      <th>production_countries</th>\n",
       "      <th>release_date</th>\n",
       "      <th>revenue</th>\n",
       "      <th>runtime</th>\n",
       "      <th>spoken_languages</th>\n",
       "      <th>status</th>\n",
       "      <th>tagline</th>\n",
       "      <th>title</th>\n",
       "      <th>video</th>\n",
       "      <th>vote_average</th>\n",
       "      <th>vote_count</th>\n",
       "      <th>year</th>\n",
       "      <th>release_year</th>\n",
       "      <th>populairty</th>\n",
       "      <th>production_comapnies</th>\n",
       "      <th>normalized_budget</th>\n",
       "      <th>normalized_revenue</th>\n",
       "      <th>normalized_popularity</th>\n",
       "      <th>normalized_runtime</th>\n",
       "      <th>normalized_vote_average</th>\n",
       "    </tr>\n",
       "  </thead>\n",
       "  <tbody>\n",
       "    <tr>\n",
       "      <th>0</th>\n",
       "      <td>[{'cast_id': 14, 'character': 'Woody (voice)',...</td>\n",
       "      <td>[{'credit_id': '52fe4284c3a36847f8024f49', 'de...</td>\n",
       "      <td>862</td>\n",
       "      <td>John Lasseter</td>\n",
       "      <td>Tom Hanks</td>\n",
       "      <td>False</td>\n",
       "      <td>{'id': 10194, 'name': 'Toy Story Collection', ...</td>\n",
       "      <td>17.216708</td>\n",
       "      <td>[{'id': 16, 'name': 'Animation'}, {'id': 35, '...</td>\n",
       "      <td>http://toystory.disney.com/toy-story</td>\n",
       "      <td>114709.0</td>\n",
       "      <td>en</td>\n",
       "      <td>Toy Story</td>\n",
       "      <td>Led by Woody, Andy's toys live happily in his ...</td>\n",
       "      <td>17.001435</td>\n",
       "      <td>/rhIRbceoE9lR4veEXuwCC2wARtG.jpg</td>\n",
       "      <td>[{'name': 'Pixar Animation Studios', 'id': 3}]</td>\n",
       "      <td>[{'iso_3166_1': 'US', 'name': 'United States o...</td>\n",
       "      <td>1995-10-30</td>\n",
       "      <td>19.738573</td>\n",
       "      <td>81.0</td>\n",
       "      <td>[{'iso_639_1': 'en', 'name': 'English'}]</td>\n",
       "      <td>7.7</td>\n",
       "      <td></td>\n",
       "      <td>Toy Story</td>\n",
       "      <td>False</td>\n",
       "      <td>7.7</td>\n",
       "      <td>8.597113</td>\n",
       "      <td>1995.0</td>\n",
       "      <td>1995.0</td>\n",
       "      <td>3.133185</td>\n",
       "      <td>[{'name': 'Pixar Animation Studios', 'id': 3}]</td>\n",
       "      <td>0.871481</td>\n",
       "      <td>0.907580</td>\n",
       "      <td>1.000000</td>\n",
       "      <td>0.329032</td>\n",
       "      <td>0.810526</td>\n",
       "    </tr>\n",
       "    <tr>\n",
       "      <th>1</th>\n",
       "      <td>[{'cast_id': 1, 'character': 'Alan Parrish', '...</td>\n",
       "      <td>[{'credit_id': '52fe44bfc3a36847f80a7cd1', 'de...</td>\n",
       "      <td>8844</td>\n",
       "      <td>Joe Johnston</td>\n",
       "      <td>Robin Williams</td>\n",
       "      <td>False</td>\n",
       "      <td></td>\n",
       "      <td>17.989898</td>\n",
       "      <td>[{'id': 12, 'name': 'Adventure'}, {'id': 14, '...</td>\n",
       "      <td></td>\n",
       "      <td>113497.0</td>\n",
       "      <td>en</td>\n",
       "      <td>Jumanji</td>\n",
       "      <td>When siblings Judy and Peter discover an encha...</td>\n",
       "      <td>17.001435</td>\n",
       "      <td>/vzmL6fP7aPKNKPRTFnZmiUfciyV.jpg</td>\n",
       "      <td>[{'name': 'TriStar Pictures', 'id': 559}, {'na...</td>\n",
       "      <td>[{'iso_3166_1': 'US', 'name': 'United States o...</td>\n",
       "      <td>1995-12-15</td>\n",
       "      <td>19.386893</td>\n",
       "      <td>104.0</td>\n",
       "      <td>[{'iso_639_1': 'en', 'name': 'English'}, {'iso...</td>\n",
       "      <td>6.9</td>\n",
       "      <td>Roll the dice and unleash the excitement!</td>\n",
       "      <td>Jumanji</td>\n",
       "      <td>False</td>\n",
       "      <td>6.9</td>\n",
       "      <td>7.789040</td>\n",
       "      <td>1995.0</td>\n",
       "      <td>1995.0</td>\n",
       "      <td>2.891235</td>\n",
       "      <td>[{'name': 'TriStar Pictures', 'id': 559}, {'na...</td>\n",
       "      <td>0.910619</td>\n",
       "      <td>0.891410</td>\n",
       "      <td>1.000000</td>\n",
       "      <td>0.477419</td>\n",
       "      <td>0.726316</td>\n",
       "    </tr>\n",
       "    <tr>\n",
       "      <th>2</th>\n",
       "      <td>[{'cast_id': 2, 'character': 'Max Goldman', 'c...</td>\n",
       "      <td>[{'credit_id': '52fe466a9251416c75077a89', 'de...</td>\n",
       "      <td>15602</td>\n",
       "      <td>Howard Deutch</td>\n",
       "      <td>Walter Matthau</td>\n",
       "      <td>False</td>\n",
       "      <td>{'id': 119050, 'name': 'Grumpy Old Men Collect...</td>\n",
       "      <td>0.000000</td>\n",
       "      <td>[{'id': 10749, 'name': 'Romance'}, {'id': 35, ...</td>\n",
       "      <td></td>\n",
       "      <td>113228.0</td>\n",
       "      <td>en</td>\n",
       "      <td>Grumpier Old Men</td>\n",
       "      <td>A family wedding reignites the ancient feud be...</td>\n",
       "      <td>11.712900</td>\n",
       "      <td>/6ksm1sjKMFLbO7UY2i6G1ju9SML.jpg</td>\n",
       "      <td>[{'name': 'Warner Bros.', 'id': 6194}, {'name'...</td>\n",
       "      <td>[{'iso_3166_1': 'US', 'name': 'United States o...</td>\n",
       "      <td>1995-12-22</td>\n",
       "      <td>0.000000</td>\n",
       "      <td>101.0</td>\n",
       "      <td>[{'iso_639_1': 'en', 'name': 'English'}]</td>\n",
       "      <td>6.5</td>\n",
       "      <td>Still Yelling. Still Fighting. Still Ready for...</td>\n",
       "      <td>Grumpier Old Men</td>\n",
       "      <td>False</td>\n",
       "      <td>6.5</td>\n",
       "      <td>4.532599</td>\n",
       "      <td>1995.0</td>\n",
       "      <td>1995.0</td>\n",
       "      <td>2.542617</td>\n",
       "      <td>[{'name': 'Warner Bros.', 'id': 6194}, {'name'...</td>\n",
       "      <td>0.000000</td>\n",
       "      <td>0.000000</td>\n",
       "      <td>0.688936</td>\n",
       "      <td>0.458065</td>\n",
       "      <td>0.684211</td>\n",
       "    </tr>\n",
       "    <tr>\n",
       "      <th>3</th>\n",
       "      <td>[{'cast_id': 1, 'character': \"Savannah 'Vannah...</td>\n",
       "      <td>[{'credit_id': '52fe44779251416c91011acb', 'de...</td>\n",
       "      <td>31357</td>\n",
       "      <td>Forest Whitaker</td>\n",
       "      <td>Whitney Houston</td>\n",
       "      <td>False</td>\n",
       "      <td></td>\n",
       "      <td>16.588099</td>\n",
       "      <td>[{'id': 35, 'name': 'Comedy'}, {'id': 18, 'nam...</td>\n",
       "      <td></td>\n",
       "      <td>114885.0</td>\n",
       "      <td>en</td>\n",
       "      <td>Waiting to Exhale</td>\n",
       "      <td>Cheated on, mistreated and stepped on, the wom...</td>\n",
       "      <td>3.859495</td>\n",
       "      <td>/16XOMpEaLWkrcPqSQqhTmeJuqQl.jpg</td>\n",
       "      <td>[{'name': 'Twentieth Century Fox Film Corporat...</td>\n",
       "      <td>[{'iso_3166_1': 'US', 'name': 'United States o...</td>\n",
       "      <td>1995-12-22</td>\n",
       "      <td>18.215526</td>\n",
       "      <td>127.0</td>\n",
       "      <td>[{'iso_639_1': 'en', 'name': 'English'}]</td>\n",
       "      <td>6.1</td>\n",
       "      <td>Friends are the people who let you be yourself...</td>\n",
       "      <td>Waiting to Exhale</td>\n",
       "      <td>False</td>\n",
       "      <td>6.1</td>\n",
       "      <td>3.555348</td>\n",
       "      <td>1995.0</td>\n",
       "      <td>1995.0</td>\n",
       "      <td>1.580935</td>\n",
       "      <td>[{'name': 'Twentieth Century Fox Film Corporat...</td>\n",
       "      <td>0.839662</td>\n",
       "      <td>0.837550</td>\n",
       "      <td>0.227010</td>\n",
       "      <td>0.625806</td>\n",
       "      <td>0.642105</td>\n",
       "    </tr>\n",
       "    <tr>\n",
       "      <th>4</th>\n",
       "      <td>[{'cast_id': 1, 'character': 'George Banks', '...</td>\n",
       "      <td>[{'credit_id': '52fe44959251416c75039ed7', 'de...</td>\n",
       "      <td>11862</td>\n",
       "      <td>Charles Shyer</td>\n",
       "      <td>Steve Martin</td>\n",
       "      <td>False</td>\n",
       "      <td>{'id': 96871, 'name': 'Father of the Bride Col...</td>\n",
       "      <td>0.000000</td>\n",
       "      <td>[{'id': 35, 'name': 'Comedy'}]</td>\n",
       "      <td></td>\n",
       "      <td>113041.0</td>\n",
       "      <td>en</td>\n",
       "      <td>Father of the Bride Part II</td>\n",
       "      <td>Just when George Banks has recovered from his ...</td>\n",
       "      <td>8.387519</td>\n",
       "      <td>/e64sOI48hQXyru7naBFyssKFxVd.jpg</td>\n",
       "      <td>[{'name': 'Sandollar Productions', 'id': 5842}...</td>\n",
       "      <td>[{'iso_3166_1': 'US', 'name': 'United States o...</td>\n",
       "      <td>1995-02-10</td>\n",
       "      <td>18.153832</td>\n",
       "      <td>106.0</td>\n",
       "      <td>[{'iso_639_1': 'en', 'name': 'English'}]</td>\n",
       "      <td>5.7</td>\n",
       "      <td>Just When His World Is Back To Normal... He's ...</td>\n",
       "      <td>Father of the Bride Part II</td>\n",
       "      <td>False</td>\n",
       "      <td>5.7</td>\n",
       "      <td>5.159055</td>\n",
       "      <td>1995.0</td>\n",
       "      <td>1995.0</td>\n",
       "      <td>2.239381</td>\n",
       "      <td>[{'name': 'Sandollar Productions', 'id': 5842}...</td>\n",
       "      <td>0.000000</td>\n",
       "      <td>0.834714</td>\n",
       "      <td>0.493342</td>\n",
       "      <td>0.490323</td>\n",
       "      <td>0.600000</td>\n",
       "    </tr>\n",
       "  </tbody>\n",
       "</table>\n",
       "</div>"
      ],
      "text/plain": [
       "                                                cast  \\\n",
       "0  [{'cast_id': 14, 'character': 'Woody (voice)',...   \n",
       "1  [{'cast_id': 1, 'character': 'Alan Parrish', '...   \n",
       "2  [{'cast_id': 2, 'character': 'Max Goldman', 'c...   \n",
       "3  [{'cast_id': 1, 'character': \"Savannah 'Vannah...   \n",
       "4  [{'cast_id': 1, 'character': 'George Banks', '...   \n",
       "\n",
       "                                                crew     id         director  \\\n",
       "0  [{'credit_id': '52fe4284c3a36847f8024f49', 'de...    862    John Lasseter   \n",
       "1  [{'credit_id': '52fe44bfc3a36847f80a7cd1', 'de...   8844     Joe Johnston   \n",
       "2  [{'credit_id': '52fe466a9251416c75077a89', 'de...  15602    Howard Deutch   \n",
       "3  [{'credit_id': '52fe44779251416c91011acb', 'de...  31357  Forest Whitaker   \n",
       "4  [{'credit_id': '52fe44959251416c75039ed7', 'de...  11862    Charles Shyer   \n",
       "\n",
       "        lead_actor  adult                              belongs_to_collection  \\\n",
       "0        Tom Hanks  False  {'id': 10194, 'name': 'Toy Story Collection', ...   \n",
       "1   Robin Williams  False                                                      \n",
       "2   Walter Matthau  False  {'id': 119050, 'name': 'Grumpy Old Men Collect...   \n",
       "3  Whitney Houston  False                                                      \n",
       "4     Steve Martin  False  {'id': 96871, 'name': 'Father of the Bride Col...   \n",
       "\n",
       "      budget                                             genres  \\\n",
       "0  17.216708  [{'id': 16, 'name': 'Animation'}, {'id': 35, '...   \n",
       "1  17.989898  [{'id': 12, 'name': 'Adventure'}, {'id': 14, '...   \n",
       "2   0.000000  [{'id': 10749, 'name': 'Romance'}, {'id': 35, ...   \n",
       "3  16.588099  [{'id': 35, 'name': 'Comedy'}, {'id': 18, 'nam...   \n",
       "4   0.000000                     [{'id': 35, 'name': 'Comedy'}]   \n",
       "\n",
       "                               homepage   imdb_id original_language  \\\n",
       "0  http://toystory.disney.com/toy-story  114709.0                en   \n",
       "1                                        113497.0                en   \n",
       "2                                        113228.0                en   \n",
       "3                                        114885.0                en   \n",
       "4                                        113041.0                en   \n",
       "\n",
       "                original_title  \\\n",
       "0                    Toy Story   \n",
       "1                      Jumanji   \n",
       "2             Grumpier Old Men   \n",
       "3            Waiting to Exhale   \n",
       "4  Father of the Bride Part II   \n",
       "\n",
       "                                            overview  popularity  \\\n",
       "0  Led by Woody, Andy's toys live happily in his ...   17.001435   \n",
       "1  When siblings Judy and Peter discover an encha...   17.001435   \n",
       "2  A family wedding reignites the ancient feud be...   11.712900   \n",
       "3  Cheated on, mistreated and stepped on, the wom...    3.859495   \n",
       "4  Just when George Banks has recovered from his ...    8.387519   \n",
       "\n",
       "                        poster_path  \\\n",
       "0  /rhIRbceoE9lR4veEXuwCC2wARtG.jpg   \n",
       "1  /vzmL6fP7aPKNKPRTFnZmiUfciyV.jpg   \n",
       "2  /6ksm1sjKMFLbO7UY2i6G1ju9SML.jpg   \n",
       "3  /16XOMpEaLWkrcPqSQqhTmeJuqQl.jpg   \n",
       "4  /e64sOI48hQXyru7naBFyssKFxVd.jpg   \n",
       "\n",
       "                                production_companies  \\\n",
       "0     [{'name': 'Pixar Animation Studios', 'id': 3}]   \n",
       "1  [{'name': 'TriStar Pictures', 'id': 559}, {'na...   \n",
       "2  [{'name': 'Warner Bros.', 'id': 6194}, {'name'...   \n",
       "3  [{'name': 'Twentieth Century Fox Film Corporat...   \n",
       "4  [{'name': 'Sandollar Productions', 'id': 5842}...   \n",
       "\n",
       "                                production_countries release_date    revenue  \\\n",
       "0  [{'iso_3166_1': 'US', 'name': 'United States o...   1995-10-30  19.738573   \n",
       "1  [{'iso_3166_1': 'US', 'name': 'United States o...   1995-12-15  19.386893   \n",
       "2  [{'iso_3166_1': 'US', 'name': 'United States o...   1995-12-22   0.000000   \n",
       "3  [{'iso_3166_1': 'US', 'name': 'United States o...   1995-12-22  18.215526   \n",
       "4  [{'iso_3166_1': 'US', 'name': 'United States o...   1995-02-10  18.153832   \n",
       "\n",
       "   runtime                                   spoken_languages  status  \\\n",
       "0     81.0           [{'iso_639_1': 'en', 'name': 'English'}]     7.7   \n",
       "1    104.0  [{'iso_639_1': 'en', 'name': 'English'}, {'iso...     6.9   \n",
       "2    101.0           [{'iso_639_1': 'en', 'name': 'English'}]     6.5   \n",
       "3    127.0           [{'iso_639_1': 'en', 'name': 'English'}]     6.1   \n",
       "4    106.0           [{'iso_639_1': 'en', 'name': 'English'}]     5.7   \n",
       "\n",
       "                                             tagline  \\\n",
       "0                                                      \n",
       "1          Roll the dice and unleash the excitement!   \n",
       "2  Still Yelling. Still Fighting. Still Ready for...   \n",
       "3  Friends are the people who let you be yourself...   \n",
       "4  Just When His World Is Back To Normal... He's ...   \n",
       "\n",
       "                         title  video  vote_average  vote_count    year  \\\n",
       "0                    Toy Story  False           7.7    8.597113  1995.0   \n",
       "1                      Jumanji  False           6.9    7.789040  1995.0   \n",
       "2             Grumpier Old Men  False           6.5    4.532599  1995.0   \n",
       "3            Waiting to Exhale  False           6.1    3.555348  1995.0   \n",
       "4  Father of the Bride Part II  False           5.7    5.159055  1995.0   \n",
       "\n",
       "   release_year  populairty  \\\n",
       "0        1995.0    3.133185   \n",
       "1        1995.0    2.891235   \n",
       "2        1995.0    2.542617   \n",
       "3        1995.0    1.580935   \n",
       "4        1995.0    2.239381   \n",
       "\n",
       "                                production_comapnies  normalized_budget  \\\n",
       "0     [{'name': 'Pixar Animation Studios', 'id': 3}]           0.871481   \n",
       "1  [{'name': 'TriStar Pictures', 'id': 559}, {'na...           0.910619   \n",
       "2  [{'name': 'Warner Bros.', 'id': 6194}, {'name'...           0.000000   \n",
       "3  [{'name': 'Twentieth Century Fox Film Corporat...           0.839662   \n",
       "4  [{'name': 'Sandollar Productions', 'id': 5842}...           0.000000   \n",
       "\n",
       "   normalized_revenue  normalized_popularity  normalized_runtime  \\\n",
       "0            0.907580               1.000000            0.329032   \n",
       "1            0.891410               1.000000            0.477419   \n",
       "2            0.000000               0.688936            0.458065   \n",
       "3            0.837550               0.227010            0.625806   \n",
       "4            0.834714               0.493342            0.490323   \n",
       "\n",
       "   normalized_vote_average  \n",
       "0                 0.810526  \n",
       "1                 0.726316  \n",
       "2                 0.684211  \n",
       "3                 0.642105  \n",
       "4                 0.600000  "
      ]
     },
     "execution_count": 76,
     "metadata": {},
     "output_type": "execute_result"
    }
   ],
   "source": [
    "final_df_unmnodified.head()"
   ]
  },
  {
   "cell_type": "code",
   "execution_count": 77,
   "id": "f297e2c9",
   "metadata": {
    "execution": {
     "iopub.execute_input": "2025-02-23T04:47:00.267057Z",
     "iopub.status.busy": "2025-02-23T04:47:00.266647Z",
     "iopub.status.idle": "2025-02-23T04:47:00.277668Z",
     "shell.execute_reply": "2025-02-23T04:47:00.276583Z"
    },
    "papermill": {
     "duration": 0.043987,
     "end_time": "2025-02-23T04:47:00.279473",
     "exception": false,
     "start_time": "2025-02-23T04:47:00.235486",
     "status": "completed"
    },
    "tags": []
   },
   "outputs": [],
   "source": [
    "final_df = final_df_unmnodified[['id','title','normalized_budget', 'normalized_revenue', 'normalized_popularity', 'normalized_runtime', 'normalized_vote_average', 'budget','revenue','runtime','production_comapnies','year','imdb_id', 'original_language','genres','lead_actor','director']]"
   ]
  },
  {
   "cell_type": "code",
   "execution_count": 78,
   "id": "3884e036",
   "metadata": {
    "execution": {
     "iopub.execute_input": "2025-02-23T04:47:00.342661Z",
     "iopub.status.busy": "2025-02-23T04:47:00.342306Z",
     "iopub.status.idle": "2025-02-23T04:47:00.368868Z",
     "shell.execute_reply": "2025-02-23T04:47:00.367747Z"
    },
    "papermill": {
     "duration": 0.059731,
     "end_time": "2025-02-23T04:47:00.370755",
     "exception": false,
     "start_time": "2025-02-23T04:47:00.311024",
     "status": "completed"
    },
    "tags": []
   },
   "outputs": [
    {
     "data": {
      "text/html": [
       "<div>\n",
       "<style scoped>\n",
       "    .dataframe tbody tr th:only-of-type {\n",
       "        vertical-align: middle;\n",
       "    }\n",
       "\n",
       "    .dataframe tbody tr th {\n",
       "        vertical-align: top;\n",
       "    }\n",
       "\n",
       "    .dataframe thead th {\n",
       "        text-align: right;\n",
       "    }\n",
       "</style>\n",
       "<table border=\"1\" class=\"dataframe\">\n",
       "  <thead>\n",
       "    <tr style=\"text-align: right;\">\n",
       "      <th></th>\n",
       "      <th>id</th>\n",
       "      <th>title</th>\n",
       "      <th>normalized_budget</th>\n",
       "      <th>normalized_revenue</th>\n",
       "      <th>normalized_popularity</th>\n",
       "      <th>normalized_runtime</th>\n",
       "      <th>normalized_vote_average</th>\n",
       "      <th>budget</th>\n",
       "      <th>revenue</th>\n",
       "      <th>runtime</th>\n",
       "      <th>production_comapnies</th>\n",
       "      <th>year</th>\n",
       "      <th>imdb_id</th>\n",
       "      <th>original_language</th>\n",
       "      <th>genres</th>\n",
       "      <th>lead_actor</th>\n",
       "      <th>director</th>\n",
       "    </tr>\n",
       "  </thead>\n",
       "  <tbody>\n",
       "    <tr>\n",
       "      <th>0</th>\n",
       "      <td>862</td>\n",
       "      <td>Toy Story</td>\n",
       "      <td>0.871481</td>\n",
       "      <td>0.907580</td>\n",
       "      <td>1.000000</td>\n",
       "      <td>0.329032</td>\n",
       "      <td>0.810526</td>\n",
       "      <td>17.216708</td>\n",
       "      <td>19.738573</td>\n",
       "      <td>81.0</td>\n",
       "      <td>[{'name': 'Pixar Animation Studios', 'id': 3}]</td>\n",
       "      <td>1995.0</td>\n",
       "      <td>114709.0</td>\n",
       "      <td>en</td>\n",
       "      <td>[{'id': 16, 'name': 'Animation'}, {'id': 35, '...</td>\n",
       "      <td>Tom Hanks</td>\n",
       "      <td>John Lasseter</td>\n",
       "    </tr>\n",
       "    <tr>\n",
       "      <th>1</th>\n",
       "      <td>8844</td>\n",
       "      <td>Jumanji</td>\n",
       "      <td>0.910619</td>\n",
       "      <td>0.891410</td>\n",
       "      <td>1.000000</td>\n",
       "      <td>0.477419</td>\n",
       "      <td>0.726316</td>\n",
       "      <td>17.989898</td>\n",
       "      <td>19.386893</td>\n",
       "      <td>104.0</td>\n",
       "      <td>[{'name': 'TriStar Pictures', 'id': 559}, {'na...</td>\n",
       "      <td>1995.0</td>\n",
       "      <td>113497.0</td>\n",
       "      <td>en</td>\n",
       "      <td>[{'id': 12, 'name': 'Adventure'}, {'id': 14, '...</td>\n",
       "      <td>Robin Williams</td>\n",
       "      <td>Joe Johnston</td>\n",
       "    </tr>\n",
       "    <tr>\n",
       "      <th>2</th>\n",
       "      <td>15602</td>\n",
       "      <td>Grumpier Old Men</td>\n",
       "      <td>0.000000</td>\n",
       "      <td>0.000000</td>\n",
       "      <td>0.688936</td>\n",
       "      <td>0.458065</td>\n",
       "      <td>0.684211</td>\n",
       "      <td>0.000000</td>\n",
       "      <td>0.000000</td>\n",
       "      <td>101.0</td>\n",
       "      <td>[{'name': 'Warner Bros.', 'id': 6194}, {'name'...</td>\n",
       "      <td>1995.0</td>\n",
       "      <td>113228.0</td>\n",
       "      <td>en</td>\n",
       "      <td>[{'id': 10749, 'name': 'Romance'}, {'id': 35, ...</td>\n",
       "      <td>Walter Matthau</td>\n",
       "      <td>Howard Deutch</td>\n",
       "    </tr>\n",
       "    <tr>\n",
       "      <th>3</th>\n",
       "      <td>31357</td>\n",
       "      <td>Waiting to Exhale</td>\n",
       "      <td>0.839662</td>\n",
       "      <td>0.837550</td>\n",
       "      <td>0.227010</td>\n",
       "      <td>0.625806</td>\n",
       "      <td>0.642105</td>\n",
       "      <td>16.588099</td>\n",
       "      <td>18.215526</td>\n",
       "      <td>127.0</td>\n",
       "      <td>[{'name': 'Twentieth Century Fox Film Corporat...</td>\n",
       "      <td>1995.0</td>\n",
       "      <td>114885.0</td>\n",
       "      <td>en</td>\n",
       "      <td>[{'id': 35, 'name': 'Comedy'}, {'id': 18, 'nam...</td>\n",
       "      <td>Whitney Houston</td>\n",
       "      <td>Forest Whitaker</td>\n",
       "    </tr>\n",
       "    <tr>\n",
       "      <th>4</th>\n",
       "      <td>11862</td>\n",
       "      <td>Father of the Bride Part II</td>\n",
       "      <td>0.000000</td>\n",
       "      <td>0.834714</td>\n",
       "      <td>0.493342</td>\n",
       "      <td>0.490323</td>\n",
       "      <td>0.600000</td>\n",
       "      <td>0.000000</td>\n",
       "      <td>18.153832</td>\n",
       "      <td>106.0</td>\n",
       "      <td>[{'name': 'Sandollar Productions', 'id': 5842}...</td>\n",
       "      <td>1995.0</td>\n",
       "      <td>113041.0</td>\n",
       "      <td>en</td>\n",
       "      <td>[{'id': 35, 'name': 'Comedy'}]</td>\n",
       "      <td>Steve Martin</td>\n",
       "      <td>Charles Shyer</td>\n",
       "    </tr>\n",
       "  </tbody>\n",
       "</table>\n",
       "</div>"
      ],
      "text/plain": [
       "      id                        title  normalized_budget  normalized_revenue  \\\n",
       "0    862                    Toy Story           0.871481            0.907580   \n",
       "1   8844                      Jumanji           0.910619            0.891410   \n",
       "2  15602             Grumpier Old Men           0.000000            0.000000   \n",
       "3  31357            Waiting to Exhale           0.839662            0.837550   \n",
       "4  11862  Father of the Bride Part II           0.000000            0.834714   \n",
       "\n",
       "   normalized_popularity  normalized_runtime  normalized_vote_average  \\\n",
       "0               1.000000            0.329032                 0.810526   \n",
       "1               1.000000            0.477419                 0.726316   \n",
       "2               0.688936            0.458065                 0.684211   \n",
       "3               0.227010            0.625806                 0.642105   \n",
       "4               0.493342            0.490323                 0.600000   \n",
       "\n",
       "      budget    revenue  runtime  \\\n",
       "0  17.216708  19.738573     81.0   \n",
       "1  17.989898  19.386893    104.0   \n",
       "2   0.000000   0.000000    101.0   \n",
       "3  16.588099  18.215526    127.0   \n",
       "4   0.000000  18.153832    106.0   \n",
       "\n",
       "                                production_comapnies    year   imdb_id  \\\n",
       "0     [{'name': 'Pixar Animation Studios', 'id': 3}]  1995.0  114709.0   \n",
       "1  [{'name': 'TriStar Pictures', 'id': 559}, {'na...  1995.0  113497.0   \n",
       "2  [{'name': 'Warner Bros.', 'id': 6194}, {'name'...  1995.0  113228.0   \n",
       "3  [{'name': 'Twentieth Century Fox Film Corporat...  1995.0  114885.0   \n",
       "4  [{'name': 'Sandollar Productions', 'id': 5842}...  1995.0  113041.0   \n",
       "\n",
       "  original_language                                             genres  \\\n",
       "0                en  [{'id': 16, 'name': 'Animation'}, {'id': 35, '...   \n",
       "1                en  [{'id': 12, 'name': 'Adventure'}, {'id': 14, '...   \n",
       "2                en  [{'id': 10749, 'name': 'Romance'}, {'id': 35, ...   \n",
       "3                en  [{'id': 35, 'name': 'Comedy'}, {'id': 18, 'nam...   \n",
       "4                en                     [{'id': 35, 'name': 'Comedy'}]   \n",
       "\n",
       "        lead_actor         director  \n",
       "0        Tom Hanks    John Lasseter  \n",
       "1   Robin Williams     Joe Johnston  \n",
       "2   Walter Matthau    Howard Deutch  \n",
       "3  Whitney Houston  Forest Whitaker  \n",
       "4     Steve Martin    Charles Shyer  "
      ]
     },
     "execution_count": 78,
     "metadata": {},
     "output_type": "execute_result"
    }
   ],
   "source": [
    "final_df.head()"
   ]
  }
 ],
 "metadata": {
  "kaggle": {
   "accelerator": "none",
   "dataSources": [
    {
     "datasetId": 3405,
     "sourceId": 6663,
     "sourceType": "datasetVersion"
    },
    {
     "datasetId": 669193,
     "sourceId": 2935141,
     "sourceType": "datasetVersion"
    },
    {
     "datasetId": 2554135,
     "sourceId": 4337980,
     "sourceType": "datasetVersion"
    }
   ],
   "dockerImageVersionId": 30886,
   "isGpuEnabled": false,
   "isInternetEnabled": true,
   "language": "python",
   "sourceType": "notebook"
  },
  "kernelspec": {
   "display_name": "Python 3",
   "language": "python",
   "name": "python3"
  },
  "language_info": {
   "codemirror_mode": {
    "name": "ipython",
    "version": 3
   },
   "file_extension": ".py",
   "mimetype": "text/x-python",
   "name": "python",
   "nbconvert_exporter": "python",
   "pygments_lexer": "ipython3",
   "version": "3.10.12"
  },
  "papermill": {
   "default_parameters": {},
   "duration": 100.100529,
   "end_time": "2025-02-23T04:47:01.222016",
   "environment_variables": {},
   "exception": null,
   "input_path": "__notebook__.ipynb",
   "output_path": "__notebook__.ipynb",
   "parameters": {},
   "start_time": "2025-02-23T04:45:21.121487",
   "version": "2.6.0"
  }
 },
 "nbformat": 4,
 "nbformat_minor": 5
}
